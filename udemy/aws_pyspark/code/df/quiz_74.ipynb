{
 "cells": [
  {
   "cell_type": "code",
   "execution_count": 2,
   "id": "9745a31f-ac16-4d95-9d74-569cb00b20ba",
   "metadata": {},
   "outputs": [],
   "source": [
    "from pyspark.sql import SparkSession\n",
    "from pyspark.sql.functions import col, lit\n",
    "spark = SparkSession.builder.appName('Spark DF').getOrCreate()\n",
    "spark.conf.set('spark.sql.repl.eagerEval.enabled', True)\n",
    "spark.conf.set('spark.sql.repl.eagerEval.maxNumRows', 10)\n",
    "fp = '../FileStore/tables/StudentData.csv'\n",
    "df = spark.read.options(header=True, inferSchema=True).csv(fp)"
   ]
  },
  {
   "cell_type": "code",
   "execution_count": 8,
   "id": "93675b9d-9ed5-4b02-8df2-b697f982d212",
   "metadata": {},
   "outputs": [
    {
     "data": {
      "text/html": [
       "<table border='1'>\n",
       "<tr><th>age</th><th>gender</th><th>course</th></tr>\n",
       "<tr><td>28</td><td>Male</td><td>Cloud</td></tr>\n",
       "<tr><td>28</td><td>Female</td><td>DB</td></tr>\n",
       "<tr><td>28</td><td>Female</td><td>MVC</td></tr>\n",
       "<tr><td>29</td><td>Male</td><td>PF</td></tr>\n",
       "<tr><td>28</td><td>Female</td><td>OOP</td></tr>\n",
       "<tr><td>29</td><td>Female</td><td>Cloud</td></tr>\n",
       "<tr><td>29</td><td>Male</td><td>Cloud</td></tr>\n",
       "<tr><td>29</td><td>Female</td><td>DSA</td></tr>\n",
       "<tr><td>29</td><td>Male</td><td>OOP</td></tr>\n",
       "<tr><td>29</td><td>Male</td><td>DB</td></tr>\n",
       "</table>\n",
       "only showing top 10 rows\n"
      ],
      "text/plain": [
       "+---+------+------+\n",
       "|age|gender|course|\n",
       "+---+------+------+\n",
       "| 28|  Male| Cloud|\n",
       "| 28|Female|    DB|\n",
       "| 28|Female|   MVC|\n",
       "| 29|  Male|    PF|\n",
       "| 28|Female|   OOP|\n",
       "| 29|Female| Cloud|\n",
       "| 29|  Male| Cloud|\n",
       "| 29|Female|   DSA|\n",
       "| 29|  Male|   OOP|\n",
       "| 29|  Male|    DB|\n",
       "+---+------+------+\n",
       "only showing top 10 rows"
      ]
     },
     "execution_count": 8,
     "metadata": {},
     "output_type": "execute_result"
    }
   ],
   "source": [
    "df.select(df.age, df.gender, df.course).distinct()"
   ]
  },
  {
   "cell_type": "code",
   "execution_count": 9,
   "id": "29bc2106-5535-48c7-99f6-b1f582a3da27",
   "metadata": {},
   "outputs": [
    {
     "data": {
      "text/html": [
       "<table border='1'>\n",
       "<tr><th>age</th><th>gender</th><th>name</th><th>course</th><th>roll</th><th>marks</th><th>email</th></tr>\n",
       "<tr><td>28</td><td>Male</td><td>Annika Hoffman</td><td>Cloud</td><td>722193</td><td>55</td><td>Taryn Brownlee_El...</td></tr>\n",
       "<tr><td>28</td><td>Female</td><td>Hubert Oliveras</td><td>DB</td><td>2984</td><td>59</td><td>Annika Hoffman_Na...</td></tr>\n",
       "<tr><td>28</td><td>Female</td><td>Cheri Kenney</td><td>MVC</td><td>321816</td><td>24</td><td>Kena Wild_Michell...</td></tr>\n",
       "<tr><td>29</td><td>Male</td><td>Neda Briski</td><td>PF</td><td>141770</td><td>42</td><td>Margene Moores_Mi...</td></tr>\n",
       "<tr><td>28</td><td>Female</td><td>Alberta Freund</td><td>OOP</td><td>251805</td><td>83</td><td>Annika Hoffman_Sh...</td></tr>\n",
       "<tr><td>29</td><td>Female</td><td>Toshiko Hillyard</td><td>Cloud</td><td>12899</td><td>62</td><td>Margene Moores_Ma...</td></tr>\n",
       "<tr><td>29</td><td>Male</td><td>Billi Clore</td><td>Cloud</td><td>512047</td><td>76</td><td>Taryn Brownlee_Ju...</td></tr>\n",
       "<tr><td>29</td><td>Female</td><td>Kena Wild</td><td>DSA</td><td>102285</td><td>35</td><td>Dustin Feagins_Ma...</td></tr>\n",
       "<tr><td>28</td><td>Female</td><td>Loris Crossett</td><td>PF</td><td>332739</td><td>62</td><td>Michelle Ruggiero...</td></tr>\n",
       "<tr><td>29</td><td>Male</td><td>Ernest Rossbach</td><td>DB</td><td>111449</td><td>53</td><td>Maybell Duguay_Ab...</td></tr>\n",
       "</table>\n",
       "only showing top 10 rows\n"
      ],
      "text/plain": [
       "+---+------+----------------+------+------+-----+--------------------+\n",
       "|age|gender|            name|course|  roll|marks|               email|\n",
       "+---+------+----------------+------+------+-----+--------------------+\n",
       "| 28|  Male|  Annika Hoffman| Cloud|722193|   55|Taryn Brownlee_El...|\n",
       "| 28|Female| Hubert Oliveras|    DB|  2984|   59|Annika Hoffman_Na...|\n",
       "| 28|Female|    Cheri Kenney|   MVC|321816|   24|Kena Wild_Michell...|\n",
       "| 29|  Male|     Neda Briski|    PF|141770|   42|Margene Moores_Mi...|\n",
       "| 28|Female|  Alberta Freund|   OOP|251805|   83|Annika Hoffman_Sh...|\n",
       "| 29|Female|Toshiko Hillyard| Cloud| 12899|   62|Margene Moores_Ma...|\n",
       "| 29|  Male|     Billi Clore| Cloud|512047|   76|Taryn Brownlee_Ju...|\n",
       "| 29|Female|       Kena Wild|   DSA|102285|   35|Dustin Feagins_Ma...|\n",
       "| 28|Female|  Loris Crossett|    PF|332739|   62|Michelle Ruggiero...|\n",
       "| 29|  Male| Ernest Rossbach|    DB|111449|   53|Maybell Duguay_Ab...|\n",
       "+---+------+----------------+------+------+-----+--------------------+\n",
       "only showing top 10 rows"
      ]
     },
     "execution_count": 9,
     "metadata": {},
     "output_type": "execute_result"
    }
   ],
   "source": [
    "df.dropDuplicates(['age', 'gender', 'course'])"
   ]
  },
  {
   "cell_type": "code",
   "execution_count": 10,
   "id": "09b77d33-4b85-4c35-b60c-e6b27843c355",
   "metadata": {},
   "outputs": [
    {
     "data": {
      "text/plain": [
       "True"
      ]
     },
     "execution_count": 10,
     "metadata": {},
     "output_type": "execute_result"
    }
   ],
   "source": [
    "df.select(df.age, df.gender, df.course).distinct().count() == df.dropDuplicates(['age', 'gender', 'course']).count()"
   ]
  },
  {
   "cell_type": "code",
   "execution_count": 11,
   "id": "977e1aae-7145-42ea-a83c-f4edf8b11cc2",
   "metadata": {},
   "outputs": [
    {
     "name": "stderr",
     "output_type": "stream",
     "text": [
      "[NbConvertApp] Converting notebook quiz_74.ipynb to script\n",
      "[NbConvertApp] Writing 804 bytes to quiz_74.py\n"
     ]
    }
   ],
   "source": [
    "!jupyter nbconvert --to script quiz_74.ipynb"
   ]
  }
 ],
 "metadata": {
  "kernelspec": {
   "display_name": "Python 3 (ipykernel)",
   "language": "python",
   "name": "python3"
  },
  "language_info": {
   "codemirror_mode": {
    "name": "ipython",
    "version": 3
   },
   "file_extension": ".py",
   "mimetype": "text/x-python",
   "name": "python",
   "nbconvert_exporter": "python",
   "pygments_lexer": "ipython3",
   "version": "3.9.6"
  }
 },
 "nbformat": 4,
 "nbformat_minor": 5
}
