{
 "cells": [
  {
   "cell_type": "code",
   "execution_count": 1,
   "id": "405cd9d1-41dd-42af-ad03-6422a22bd740",
   "metadata": {},
   "outputs": [],
   "source": [
    "from pyspark.sql import SparkSession\n",
    "from pyspark.sql.functions import col, lit, sum, avg, max, min, mean, count\n",
    "spark = SparkSession.builder.appName('Spark DF').getOrCreate()\n",
    "spark.conf.set('spark.sql.repl.eagerEval.enabled', True)\n",
    "spark.conf.set('spark.sql.repl.eagerEval.maxNumRows', 10)\n",
    "fp = '../FileStore/tables/StudentData.csv'\n",
    "df = spark.read.options(header=True, inferSchema=True).csv(fp)"
   ]
  },
  {
   "cell_type": "code",
   "execution_count": 4,
   "id": "bb07548c-df1d-4516-99e9-632c6099be1e",
   "metadata": {},
   "outputs": [
    {
     "data": {
      "text/html": [
       "<table border='1'>\n",
       "<tr><th>course</th><th>count</th></tr>\n",
       "<tr><td>PF</td><td>166</td></tr>\n",
       "<tr><td>DB</td><td>157</td></tr>\n",
       "<tr><td>MVC</td><td>157</td></tr>\n",
       "<tr><td>DSA</td><td>176</td></tr>\n",
       "<tr><td>Cloud</td><td>192</td></tr>\n",
       "<tr><td>OOP</td><td>152</td></tr>\n",
       "</table>\n"
      ],
      "text/plain": [
       "+------+-----+\n",
       "|course|count|\n",
       "+------+-----+\n",
       "|    PF|  166|\n",
       "|    DB|  157|\n",
       "|   MVC|  157|\n",
       "|   DSA|  176|\n",
       "| Cloud|  192|\n",
       "|   OOP|  152|\n",
       "+------+-----+"
      ]
     },
     "execution_count": 4,
     "metadata": {},
     "output_type": "execute_result"
    }
   ],
   "source": [
    "df.groupBy('course').count()"
   ]
  },
  {
   "cell_type": "code",
   "execution_count": 6,
   "id": "47bb19ea-e525-463a-abb4-f891322c8bac",
   "metadata": {},
   "outputs": [
    {
     "data": {
      "text/html": [
       "<table border='1'>\n",
       "<tr><th>course</th><th>gender</th><th>count</th></tr>\n",
       "<tr><td>OOP</td><td>Male</td><td>70</td></tr>\n",
       "<tr><td>DB</td><td>Male</td><td>82</td></tr>\n",
       "<tr><td>Cloud</td><td>Female</td><td>106</td></tr>\n",
       "<tr><td>MVC</td><td>Male</td><td>86</td></tr>\n",
       "<tr><td>DSA</td><td>Female</td><td>98</td></tr>\n",
       "<tr><td>PF</td><td>Male</td><td>97</td></tr>\n",
       "<tr><td>MVC</td><td>Female</td><td>71</td></tr>\n",
       "<tr><td>Cloud</td><td>Male</td><td>86</td></tr>\n",
       "<tr><td>PF</td><td>Female</td><td>69</td></tr>\n",
       "<tr><td>DSA</td><td>Male</td><td>78</td></tr>\n",
       "</table>\n",
       "only showing top 10 rows\n"
      ],
      "text/plain": [
       "+------+------+-----+\n",
       "|course|gender|count|\n",
       "+------+------+-----+\n",
       "|   OOP|  Male|   70|\n",
       "|    DB|  Male|   82|\n",
       "| Cloud|Female|  106|\n",
       "|   MVC|  Male|   86|\n",
       "|   DSA|Female|   98|\n",
       "|    PF|  Male|   97|\n",
       "|   MVC|Female|   71|\n",
       "| Cloud|  Male|   86|\n",
       "|    PF|Female|   69|\n",
       "|   DSA|  Male|   78|\n",
       "+------+------+-----+\n",
       "only showing top 10 rows"
      ]
     },
     "execution_count": 6,
     "metadata": {},
     "output_type": "execute_result"
    }
   ],
   "source": [
    "df.groupBy('course', 'gender').count()"
   ]
  },
  {
   "cell_type": "code",
   "execution_count": 11,
   "id": "ca93a889-737f-49a1-bfe4-28fdc0920579",
   "metadata": {},
   "outputs": [
    {
     "data": {
      "text/html": [
       "<table border='1'>\n",
       "<tr><th>course</th><th>gender</th><th>total_marks</th></tr>\n",
       "<tr><td>OOP</td><td>Male</td><td>4234</td></tr>\n",
       "<tr><td>DB</td><td>Male</td><td>5073</td></tr>\n",
       "<tr><td>Cloud</td><td>Female</td><td>6316</td></tr>\n",
       "<tr><td>MVC</td><td>Male</td><td>5241</td></tr>\n",
       "<tr><td>DSA</td><td>Female</td><td>6124</td></tr>\n",
       "<tr><td>PF</td><td>Male</td><td>5960</td></tr>\n",
       "<tr><td>MVC</td><td>Female</td><td>4344</td></tr>\n",
       "<tr><td>Cloud</td><td>Male</td><td>5127</td></tr>\n",
       "<tr><td>PF</td><td>Female</td><td>3973</td></tr>\n",
       "<tr><td>DSA</td><td>Male</td><td>4826</td></tr>\n",
       "</table>\n",
       "only showing top 10 rows\n"
      ],
      "text/plain": [
       "+------+------+-----------+\n",
       "|course|gender|total_marks|\n",
       "+------+------+-----------+\n",
       "|   OOP|  Male|       4234|\n",
       "|    DB|  Male|       5073|\n",
       "| Cloud|Female|       6316|\n",
       "|   MVC|  Male|       5241|\n",
       "|   DSA|Female|       6124|\n",
       "|    PF|  Male|       5960|\n",
       "|   MVC|Female|       4344|\n",
       "| Cloud|  Male|       5127|\n",
       "|    PF|Female|       3973|\n",
       "|   DSA|  Male|       4826|\n",
       "+------+------+-----------+\n",
       "only showing top 10 rows"
      ]
     },
     "execution_count": 11,
     "metadata": {},
     "output_type": "execute_result"
    }
   ],
   "source": [
    "df.groupBy('course', 'gender').agg(sum('marks').alias('total_marks'))"
   ]
  },
  {
   "cell_type": "code",
   "execution_count": 12,
   "id": "8975ed9e-acde-465a-8e94-206da09645bc",
   "metadata": {},
   "outputs": [
    {
     "data": {
      "text/html": [
       "<table border='1'>\n",
       "<tr><th>course</th><th>age</th><th>min_mark</th><th>max_mark</th><th>avg_mark</th></tr>\n",
       "<tr><td>MVC</td><td>28</td><td>23</td><td>99</td><td>60.44444444444444</td></tr>\n",
       "<tr><td>MVC</td><td>29</td><td>22</td><td>99</td><td>61.56470588235294</td></tr>\n",
       "<tr><td>Cloud</td><td>28</td><td>20</td><td>99</td><td>58.08</td></tr>\n",
       "<tr><td>PF</td><td>29</td><td>20</td><td>99</td><td>56.275862068965516</td></tr>\n",
       "<tr><td>PF</td><td>28</td><td>20</td><td>98</td><td>63.75949367088607</td></tr>\n",
       "<tr><td>OOP</td><td>29</td><td>20</td><td>99</td><td>59.729729729729726</td></tr>\n",
       "<tr><td>DSA</td><td>28</td><td>20</td><td>99</td><td>64.6867469879518</td></tr>\n",
       "<tr><td>Cloud</td><td>29</td><td>21</td><td>98</td><td>61.25</td></tr>\n",
       "<tr><td>DB</td><td>28</td><td>21</td><td>98</td><td>58.76829268292683</td></tr>\n",
       "<tr><td>DSA</td><td>29</td><td>20</td><td>99</td><td>60.01075268817204</td></tr>\n",
       "</table>\n",
       "only showing top 10 rows\n"
      ],
      "text/plain": [
       "+------+---+--------+--------+------------------+\n",
       "|course|age|min_mark|max_mark|          avg_mark|\n",
       "+------+---+--------+--------+------------------+\n",
       "|   MVC| 28|      23|      99| 60.44444444444444|\n",
       "|   MVC| 29|      22|      99| 61.56470588235294|\n",
       "| Cloud| 28|      20|      99|             58.08|\n",
       "|    PF| 29|      20|      99|56.275862068965516|\n",
       "|    PF| 28|      20|      98| 63.75949367088607|\n",
       "|   OOP| 29|      20|      99|59.729729729729726|\n",
       "|   DSA| 28|      20|      99|  64.6867469879518|\n",
       "| Cloud| 29|      21|      98|             61.25|\n",
       "|    DB| 28|      21|      98| 58.76829268292683|\n",
       "|   DSA| 29|      20|      99| 60.01075268817204|\n",
       "+------+---+--------+--------+------------------+\n",
       "only showing top 10 rows"
      ]
     },
     "execution_count": 12,
     "metadata": {},
     "output_type": "execute_result"
    }
   ],
   "source": [
    "df.groupBy('course', 'age').agg(min('marks').alias('min_mark'), max('marks').alias('max_mark'), avg('marks').alias('avg_mark'))"
   ]
  },
  {
   "cell_type": "code",
   "execution_count": null,
   "id": "b0f5f5c0-9ce4-4bdb-88ad-36c9d2994a71",
   "metadata": {},
   "outputs": [],
   "source": []
  }
 ],
 "metadata": {
  "kernelspec": {
   "display_name": "Python 3 (ipykernel)",
   "language": "python",
   "name": "python3"
  },
  "language_info": {
   "codemirror_mode": {
    "name": "ipython",
    "version": 3
   },
   "file_extension": ".py",
   "mimetype": "text/x-python",
   "name": "python",
   "nbconvert_exporter": "python",
   "pygments_lexer": "ipython3",
   "version": "3.9.6"
  }
 },
 "nbformat": 4,
 "nbformat_minor": 5
}
