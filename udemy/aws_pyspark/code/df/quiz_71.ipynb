{
 "cells": [
  {
   "cell_type": "code",
   "execution_count": 12,
   "id": "b87fce3f-894d-4f9a-bccf-04f493130678",
   "metadata": {},
   "outputs": [],
   "source": [
    "from pyspark.sql import SparkSession\n",
    "from pyspark.sql.functions import col, lit\n",
    "spark = SparkSession.builder.appName('Spark DF').getOrCreate()\n",
    "# spark.conf.set('spark.sql.repl.eagerEval.enabled', True)\n",
    "# spark.conf.set('spark.sql.repl.eagerEval.maxNumRows', 10)\n",
    "fp = '../FileStore/tables/StudentData.csv'\n",
    "df = spark.read.options(header=True, inferSchema=True).csv(fp)"
   ]
  },
  {
   "cell_type": "markdown",
   "id": "f051da81-dee8-4afb-b3ef-32b4305d4784",
   "metadata": {},
   "source": [
    "### tasks:\n",
    "1. read StudentData.csv into DF\n",
    "2. create a new column 'total_marks' and let it be 120 \n",
    "3. create column 'average' = ('marks'/'total_marks') * 100\n",
    "4. create DF with students who has 'average' > 80 % on the OOP course\n",
    "5. create DF with students who has 'average' > 60 % on the Cloud course\n",
    "6. print names and marks from previous DFs"
   ]
  },
  {
   "cell_type": "code",
   "execution_count": 19,
   "id": "824528c5-6893-4423-b5c5-6a320a7f7675",
   "metadata": {},
   "outputs": [],
   "source": [
    "# tasks 1, 2, 3\n",
    "\n",
    "df = (\n",
    "    df\n",
    "      .withColumn('total_marks', lit(120))\n",
    "      .withColumn('average', ((col('marks')/col('total_marks')) * 100))\n",
    ")"
   ]
  },
  {
   "cell_type": "code",
   "execution_count": 22,
   "id": "57b15b03-73e3-43dd-929c-7e9e2ef9656f",
   "metadata": {},
   "outputs": [
    {
     "name": "stdout",
     "output_type": "stream",
     "text": [
      "+---+------+----------------+------+-----+-----+--------------------+-----------+------------------+\n",
      "|age|gender|            name|course| roll|marks|               email|total_marks|           average|\n",
      "+---+------+----------------+------+-----+-----+--------------------+-----------+------------------+\n",
      "| 28|Female| Hubert Oliveras|    DB| 2984|   59|Annika Hoffman_Na...|        120|49.166666666666664|\n",
      "| 29|Female|Toshiko Hillyard| Cloud|12899|   62|Margene Moores_Ma...|        120| 51.66666666666667|\n",
      "| 28|  Male|  Celeste Lollis|    PF|21267|   45|Jeannetta Golden_...|        120|              37.5|\n",
      "| 29|Female|    Elenore Choy|    DB|32877|   29|Billi Clore_Mitzi...|        120|24.166666666666668|\n",
      "| 28|  Male|  Sheryll Towler|   DSA|41487|   41|Claude Panos_Judi...|        120|34.166666666666664|\n",
      "+---+------+----------------+------+-----+-----+--------------------+-----------+------------------+\n",
      "only showing top 5 rows\n",
      "\n"
     ]
    }
   ],
   "source": [
    "df.show(5)"
   ]
  },
  {
   "cell_type": "code",
   "execution_count": 29,
   "id": "c59d8385-3b23-4ac0-ba97-4f2c13a46ef9",
   "metadata": {},
   "outputs": [],
   "source": [
    "df_oop = df.filter((col('average') > 80) & (col('course') == 'OOP'))"
   ]
  },
  {
   "cell_type": "code",
   "execution_count": 30,
   "id": "72dc53ce-d7f4-46a5-ace1-8bf9f7224e94",
   "metadata": {},
   "outputs": [],
   "source": [
    "df_cloud = df.filter((col('average') > 60) & (col('course') == 'Cloud'))"
   ]
  },
  {
   "cell_type": "code",
   "execution_count": 43,
   "id": "c92fc15d-e9ce-4168-81f6-950eecf48cba",
   "metadata": {},
   "outputs": [
    {
     "name": "stdout",
     "output_type": "stream",
     "text": [
      "+------------------+-----+\n",
      "|              name|marks|\n",
      "+------------------+-----+\n",
      "|    Jenna Montague|   98|\n",
      "|Priscila Tavernier|   99|\n",
      "|      Judie Chipps|   99|\n",
      "|    Margene Moores|   97|\n",
      "|      Jc Andrepont|   97|\n",
      "+------------------+-----+\n",
      "only showing top 5 rows\n",
      "\n"
     ]
    }
   ],
   "source": [
    "df_oop.select('name', 'marks').show(5)"
   ]
  },
  {
   "cell_type": "code",
   "execution_count": 44,
   "id": "18e7a877-15c1-4324-8f9a-4e1e0e2bf07e",
   "metadata": {},
   "outputs": [
    {
     "name": "stdout",
     "output_type": "stream",
     "text": [
      "+--------------+-----+\n",
      "|          name|marks|\n",
      "+--------------+-----+\n",
      "|  Claude Panos|   85|\n",
      "|   Billi Clore|   76|\n",
      "|Somer Stoecker|   82|\n",
      "|  Judie Chipps|   75|\n",
      "|  Eda Neathery|   91|\n",
      "+--------------+-----+\n",
      "only showing top 5 rows\n",
      "\n"
     ]
    }
   ],
   "source": [
    "df_cloud.select('name', 'marks').show(5)"
   ]
  },
  {
   "cell_type": "code",
   "execution_count": 46,
   "id": "4a73d5b4-f741-44cd-8782-392d44264e0c",
   "metadata": {},
   "outputs": [
    {
     "name": "stderr",
     "output_type": "stream",
     "text": [
      "[NbConvertApp] Converting notebook quiz_71.ipynb to script\n",
      "[NbConvertApp] Writing 1243 bytes to quiz_71.py\n"
     ]
    }
   ],
   "source": [
    "!jupyter nbconvert --to script quiz_71.ipynb"
   ]
  },
  {
   "cell_type": "code",
   "execution_count": null,
   "id": "d8cc568d-3d42-432a-96d5-882255246791",
   "metadata": {},
   "outputs": [],
   "source": []
  }
 ],
 "metadata": {
  "kernelspec": {
   "display_name": "Python 3 (ipykernel)",
   "language": "python",
   "name": "python3"
  },
  "language_info": {
   "codemirror_mode": {
    "name": "ipython",
    "version": 3
   },
   "file_extension": ".py",
   "mimetype": "text/x-python",
   "name": "python",
   "nbconvert_exporter": "python",
   "pygments_lexer": "ipython3",
   "version": "3.9.6"
  }
 },
 "nbformat": 4,
 "nbformat_minor": 5
}
