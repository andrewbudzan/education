{
 "cells": [
  {
   "cell_type": "code",
   "execution_count": 1,
   "id": "5182d416-a9dd-42b5-9340-077767ce5e74",
   "metadata": {
    "tags": []
   },
   "outputs": [
    {
     "name": "stdout",
     "output_type": "stream",
     "text": [
      "+---+------+----------------+------+------+-----+--------------------+\n",
      "|age|gender|            name|course|  roll|marks|               email|\n",
      "+---+------+----------------+------+------+-----+--------------------+\n",
      "| 28|Female| Hubert Oliveras|    DB|  2984|   59|Annika Hoffman_Na...|\n",
      "| 29|Female|Toshiko Hillyard| Cloud| 12899|   62|Margene Moores_Ma...|\n",
      "| 28|  Male|  Celeste Lollis|    PF| 21267|   45|Jeannetta Golden_...|\n",
      "| 29|Female|    Elenore Choy|    DB| 32877|   29|Billi Clore_Mitzi...|\n",
      "| 28|  Male|  Sheryll Towler|   DSA| 41487|   41|Claude Panos_Judi...|\n",
      "| 28|  Male|  Margene Moores|   MVC| 52771|   32|Toshiko Hillyard_...|\n",
      "| 28|  Male|     Neda Briski|   OOP| 61973|   69|Alberta Freund_El...|\n",
      "| 28|Female|    Claude Panos| Cloud| 72409|   85|Sheryll Towler_Al...|\n",
      "| 28|  Male|  Celeste Lollis|   MVC| 81492|   64|Nicole Harwood_Cl...|\n",
      "| 29|  Male|  Cordie Harnois|   OOP| 92882|   51|Judie Chipps_Clem...|\n",
      "| 29|Female|       Kena Wild|   DSA|102285|   35|Dustin Feagins_Ma...|\n",
      "| 29|  Male| Ernest Rossbach|    DB|111449|   53|Maybell Duguay_Ab...|\n",
      "| 28|Female|  Latia Vanhoose|    DB|122502|   27|Latia Vanhoose_Mi...|\n",
      "| 29|Female|  Latia Vanhoose|   MVC|132110|   55|Eda Neathery_Nico...|\n",
      "| 29|  Male|     Neda Briski|    PF|141770|   42|Margene Moores_Mi...|\n",
      "| 29|Female|  Latia Vanhoose|    DB|152159|   27|Claude Panos_Sant...|\n",
      "| 29|  Male|  Loris Crossett|   MVC|161771|   36|Mitzi Seldon_Jenn...|\n",
      "| 29|  Male|  Annika Hoffman|   OOP|171660|   22|Taryn Brownlee_Mi...|\n",
      "| 29|  Male|   Santa Kerfien|    PF|182129|   56|Judie Chipps_Tary...|\n",
      "| 28|Female|Mickey Cortright|    DB|192537|   62|Ernest Rossbach_M...|\n",
      "+---+------+----------------+------+------+-----+--------------------+\n",
      "only showing top 20 rows\n",
      "\n"
     ]
    }
   ],
   "source": [
    "from pyspark.sql import SparkSession\n",
    "spark = SparkSession.builder.appName('Spark DF').getOrCreate()\n",
    "fp = '../FileStore/tables/StudentData.csv'\n",
    "df = spark.read.options(header=True, inferSchema=True).csv(fp)\n",
    "df.show()"
   ]
  },
  {
   "cell_type": "code",
   "execution_count": 2,
   "id": "de142fdd-9460-478c-91b9-bab9e528ac82",
   "metadata": {},
   "outputs": [],
   "source": [
    "spark.conf.set('spark.sql.repl.eagerEval.enabled', True)\n"
   ]
  },
  {
   "cell_type": "code",
   "execution_count": 10,
   "id": "948dd86a-2b21-4c58-adc0-9a28b67db3be",
   "metadata": {},
   "outputs": [],
   "source": [
    "spark.conf.set('spark.sql.repl.eagerEval.maxNumRows', 10)"
   ]
  },
  {
   "cell_type": "code",
   "execution_count": 13,
   "id": "c86a41ba-0120-4e9e-b30e-0ca6393bda1a",
   "metadata": {},
   "outputs": [
    {
     "name": "stdout",
     "output_type": "stream",
     "text": [
      "-RECORD 0----------------------\n",
      " age    | 28                   \n",
      " gender | Female               \n",
      " name   | Hubert Oliveras      \n",
      " course | DB                   \n",
      " roll   | 2984                 \n",
      " marks  | 59                   \n",
      " email  | Annika Hoffman_Na... \n",
      "only showing top 1 row\n",
      "\n"
     ]
    }
   ],
   "source": [
    "df.show(1, vertical=True)"
   ]
  },
  {
   "cell_type": "code",
   "execution_count": 17,
   "id": "c07ddfc3-ad82-4193-ae76-246dec4834bd",
   "metadata": {
    "tags": []
   },
   "outputs": [
    {
     "name": "stdout",
     "output_type": "stream",
     "text": [
      "root\n",
      " |-- age: integer (nullable = true)\n",
      " |-- gender: string (nullable = true)\n",
      " |-- name: string (nullable = true)\n",
      " |-- course: string (nullable = true)\n",
      " |-- roll: integer (nullable = true)\n",
      " |-- marks: integer (nullable = true)\n",
      " |-- email: string (nullable = true)\n",
      "\n",
      "+-------+------------------+------+----------------+------+------------------+-----------------+--------------------+\n",
      "|summary|               age|gender|            name|course|              roll|            marks|               email|\n",
      "+-------+------------------+------+----------------+------+------------------+-----------------+--------------------+\n",
      "|  count|              1000|  1000|            1000|  1000|              1000|             1000|                1000|\n",
      "|   mean|            28.506|  null|            null|  null|       4997014.708|           60.097|                null|\n",
      "| stddev|0.5002141683461337|  null|            null|  null|2888208.5159476185|22.85537046208087|                null|\n",
      "|    min|                28|Female|     Abram Nagao| Cloud|              2984|               20|Abram Nagao_Celes...|\n",
      "|    max|                29|  Male|Toshiko Hillyard|    PF|           9991617|               99|Toshiko Hillyard_...|\n",
      "+-------+------------------+------+----------------+------+------------------+-----------------+--------------------+\n",
      "\n"
     ]
    }
   ],
   "source": [
    "df.printSchema()\n",
    "df.describe().show()"
   ]
  },
  {
   "cell_type": "code",
   "execution_count": 17,
   "id": "820b6933-c2d8-4ebb-b4e2-82f439bca173",
   "metadata": {},
   "outputs": [],
   "source": [
    "from pyspark.sql.functions import col\n",
    "df = df.withColumn('roll', col('roll').cast(\"String\"))"
   ]
  },
  {
   "cell_type": "code",
   "execution_count": 18,
   "id": "6a27b0bd-18b0-4ba2-b38e-0006b82ffc4f",
   "metadata": {},
   "outputs": [
    {
     "name": "stdout",
     "output_type": "stream",
     "text": [
      "+---+------+----------------+------+------+-----+--------------------+\n",
      "|age|gender|            name|course|  roll|marks|               email|\n",
      "+---+------+----------------+------+------+-----+--------------------+\n",
      "| 28|Female| Hubert Oliveras|    DB|  2984|   59|Annika Hoffman_Na...|\n",
      "| 29|Female|Toshiko Hillyard| Cloud| 12899|   62|Margene Moores_Ma...|\n",
      "| 28|  Male|  Celeste Lollis|    PF| 21267|   45|Jeannetta Golden_...|\n",
      "| 29|Female|    Elenore Choy|    DB| 32877|   29|Billi Clore_Mitzi...|\n",
      "| 28|  Male|  Sheryll Towler|   DSA| 41487|   41|Claude Panos_Judi...|\n",
      "| 28|  Male|  Margene Moores|   MVC| 52771|   32|Toshiko Hillyard_...|\n",
      "| 28|  Male|     Neda Briski|   OOP| 61973|   69|Alberta Freund_El...|\n",
      "| 28|Female|    Claude Panos| Cloud| 72409|   85|Sheryll Towler_Al...|\n",
      "| 28|  Male|  Celeste Lollis|   MVC| 81492|   64|Nicole Harwood_Cl...|\n",
      "| 29|  Male|  Cordie Harnois|   OOP| 92882|   51|Judie Chipps_Clem...|\n",
      "| 29|Female|       Kena Wild|   DSA|102285|   35|Dustin Feagins_Ma...|\n",
      "| 29|  Male| Ernest Rossbach|    DB|111449|   53|Maybell Duguay_Ab...|\n",
      "| 28|Female|  Latia Vanhoose|    DB|122502|   27|Latia Vanhoose_Mi...|\n",
      "| 29|Female|  Latia Vanhoose|   MVC|132110|   55|Eda Neathery_Nico...|\n",
      "| 29|  Male|     Neda Briski|    PF|141770|   42|Margene Moores_Mi...|\n",
      "| 29|Female|  Latia Vanhoose|    DB|152159|   27|Claude Panos_Sant...|\n",
      "| 29|  Male|  Loris Crossett|   MVC|161771|   36|Mitzi Seldon_Jenn...|\n",
      "| 29|  Male|  Annika Hoffman|   OOP|171660|   22|Taryn Brownlee_Mi...|\n",
      "| 29|  Male|   Santa Kerfien|    PF|182129|   56|Judie Chipps_Tary...|\n",
      "| 28|Female|Mickey Cortright|    DB|192537|   62|Ernest Rossbach_M...|\n",
      "+---+------+----------------+------+------+-----+--------------------+\n",
      "only showing top 20 rows\n",
      "\n"
     ]
    }
   ],
   "source": [
    "df.show()"
   ]
  },
  {
   "cell_type": "markdown",
   "id": "9bec610e-3044-4467-8331-b8d540c2d78e",
   "metadata": {},
   "source": [
    "### explanation\n",
    "\n",
    "Example 1:\n",
    "```python\n",
    "df.withColumn('marks', col('marks') + 1) \n",
    "```\n",
    "how code above works:\n",
    "    1. takes columnn 'marks' from dataframe\n",
    "    2. increases it's value by 1\n",
    "    3. puts result into column 'marks'\n",
    "    \n",
    "Example 2:\n",
    "```python\n",
    "df.withColumn('marks', col('age') * 2) \n",
    "```\n",
    "how code above works:\n",
    "    1. takes columnn 'age' from dataframe\n",
    "    2. multiplies it's value by 2\n",
    "    3. puts result into column 'marks'\n",
    "\n",
    "    "
   ]
  },
  {
   "cell_type": "code",
   "execution_count": 40,
   "id": "89897698-f771-4664-a0f5-1b2d5b228ea4",
   "metadata": {},
   "outputs": [
    {
     "name": "stdout",
     "output_type": "stream",
     "text": [
      "+---+------+----------------+------+------+-----+--------------------+\n",
      "|age|gender|            name|course|  roll|marks|               email|\n",
      "+---+------+----------------+------+------+-----+--------------------+\n",
      "| 28|Female| Hubert Oliveras|    DB|  2984|   59|Annika Hoffman_Na...|\n",
      "| 29|Female|Toshiko Hillyard| Cloud| 12899|   62|Margene Moores_Ma...|\n",
      "| 28|  Male|  Celeste Lollis|    PF| 21267|   45|Jeannetta Golden_...|\n",
      "| 29|Female|    Elenore Choy|    DB| 32877|   29|Billi Clore_Mitzi...|\n",
      "| 28|  Male|  Sheryll Towler|   DSA| 41487|   41|Claude Panos_Judi...|\n",
      "| 28|  Male|  Margene Moores|   MVC| 52771|   32|Toshiko Hillyard_...|\n",
      "| 28|  Male|     Neda Briski|   OOP| 61973|   69|Alberta Freund_El...|\n",
      "| 28|Female|    Claude Panos| Cloud| 72409|   85|Sheryll Towler_Al...|\n",
      "| 28|  Male|  Celeste Lollis|   MVC| 81492|   64|Nicole Harwood_Cl...|\n",
      "| 29|  Male|  Cordie Harnois|   OOP| 92882|   51|Judie Chipps_Clem...|\n",
      "| 29|Female|       Kena Wild|   DSA|102285|   35|Dustin Feagins_Ma...|\n",
      "| 29|  Male| Ernest Rossbach|    DB|111449|   53|Maybell Duguay_Ab...|\n",
      "| 28|Female|  Latia Vanhoose|    DB|122502|   27|Latia Vanhoose_Mi...|\n",
      "| 29|Female|  Latia Vanhoose|   MVC|132110|   55|Eda Neathery_Nico...|\n",
      "| 29|  Male|     Neda Briski|    PF|141770|   42|Margene Moores_Mi...|\n",
      "| 29|Female|  Latia Vanhoose|    DB|152159|   27|Claude Panos_Sant...|\n",
      "| 29|  Male|  Loris Crossett|   MVC|161771|   36|Mitzi Seldon_Jenn...|\n",
      "| 29|  Male|  Annika Hoffman|   OOP|171660|   22|Taryn Brownlee_Mi...|\n",
      "| 29|  Male|   Santa Kerfien|    PF|182129|   56|Judie Chipps_Tary...|\n",
      "| 28|Female|Mickey Cortright|    DB|192537|   62|Ernest Rossbach_M...|\n",
      "+---+------+----------------+------+------+-----+--------------------+\n",
      "only showing top 20 rows\n",
      "\n"
     ]
    }
   ],
   "source": [
    "df.withColumn('roll', col('roll').cast(\"String\")).show()"
   ]
  },
  {
   "cell_type": "code",
   "execution_count": 43,
   "id": "a7039a91-ecca-4daa-879a-f3c95a240bdb",
   "metadata": {},
   "outputs": [
    {
     "name": "stdout",
     "output_type": "stream",
     "text": [
      "+---+------+----------------+------+------+-----+--------------------+--------+\n",
      "|age|gender|            name|course|  roll|marks|               email|marks_x2|\n",
      "+---+------+----------------+------+------+-----+--------------------+--------+\n",
      "| 28|Female| Hubert Oliveras|    DB|  2984|   59|Annika Hoffman_Na...|    1180|\n",
      "| 29|Female|Toshiko Hillyard| Cloud| 12899|   62|Margene Moores_Ma...|    1240|\n",
      "| 28|  Male|  Celeste Lollis|    PF| 21267|   45|Jeannetta Golden_...|     900|\n",
      "| 29|Female|    Elenore Choy|    DB| 32877|   29|Billi Clore_Mitzi...|     580|\n",
      "| 28|  Male|  Sheryll Towler|   DSA| 41487|   41|Claude Panos_Judi...|     820|\n",
      "| 28|  Male|  Margene Moores|   MVC| 52771|   32|Toshiko Hillyard_...|     640|\n",
      "| 28|  Male|     Neda Briski|   OOP| 61973|   69|Alberta Freund_El...|    1380|\n",
      "| 28|Female|    Claude Panos| Cloud| 72409|   85|Sheryll Towler_Al...|    1700|\n",
      "| 28|  Male|  Celeste Lollis|   MVC| 81492|   64|Nicole Harwood_Cl...|    1280|\n",
      "| 29|  Male|  Cordie Harnois|   OOP| 92882|   51|Judie Chipps_Clem...|    1020|\n",
      "| 29|Female|       Kena Wild|   DSA|102285|   35|Dustin Feagins_Ma...|     700|\n",
      "| 29|  Male| Ernest Rossbach|    DB|111449|   53|Maybell Duguay_Ab...|    1060|\n",
      "| 28|Female|  Latia Vanhoose|    DB|122502|   27|Latia Vanhoose_Mi...|     540|\n",
      "| 29|Female|  Latia Vanhoose|   MVC|132110|   55|Eda Neathery_Nico...|    1100|\n",
      "| 29|  Male|     Neda Briski|    PF|141770|   42|Margene Moores_Mi...|     840|\n",
      "| 29|Female|  Latia Vanhoose|    DB|152159|   27|Claude Panos_Sant...|     540|\n",
      "| 29|  Male|  Loris Crossett|   MVC|161771|   36|Mitzi Seldon_Jenn...|     720|\n",
      "| 29|  Male|  Annika Hoffman|   OOP|171660|   22|Taryn Brownlee_Mi...|     440|\n",
      "| 29|  Male|   Santa Kerfien|    PF|182129|   56|Judie Chipps_Tary...|    1120|\n",
      "| 28|Female|Mickey Cortright|    DB|192537|   62|Ernest Rossbach_M...|    1240|\n",
      "+---+------+----------------+------+------+-----+--------------------+--------+\n",
      "only showing top 20 rows\n",
      "\n"
     ]
    }
   ],
   "source": [
    "df.withColumn('marks_x2', col('marks') * 2 * 10).show()"
   ]
  },
  {
   "cell_type": "code",
   "execution_count": 48,
   "id": "6cee8734-5549-4795-8a50-a8588834b332",
   "metadata": {},
   "outputs": [
    {
     "name": "stdout",
     "output_type": "stream",
     "text": [
      "+---+------+----------------+------+------+-----+--------------------+-------+\n",
      "|age|gender|            name|course|  roll|marks|               email|Country|\n",
      "+---+------+----------------+------+------+-----+--------------------+-------+\n",
      "| 28|Female| Hubert Oliveras|    DB|  2984|   59|Annika Hoffman_Na...|    usa|\n",
      "| 29|Female|Toshiko Hillyard| Cloud| 12899|   62|Margene Moores_Ma...|    usa|\n",
      "| 28|  Male|  Celeste Lollis|    PF| 21267|   45|Jeannetta Golden_...|    usa|\n",
      "| 29|Female|    Elenore Choy|    DB| 32877|   29|Billi Clore_Mitzi...|    usa|\n",
      "| 28|  Male|  Sheryll Towler|   DSA| 41487|   41|Claude Panos_Judi...|    usa|\n",
      "| 28|  Male|  Margene Moores|   MVC| 52771|   32|Toshiko Hillyard_...|    usa|\n",
      "| 28|  Male|     Neda Briski|   OOP| 61973|   69|Alberta Freund_El...|    usa|\n",
      "| 28|Female|    Claude Panos| Cloud| 72409|   85|Sheryll Towler_Al...|    usa|\n",
      "| 28|  Male|  Celeste Lollis|   MVC| 81492|   64|Nicole Harwood_Cl...|    usa|\n",
      "| 29|  Male|  Cordie Harnois|   OOP| 92882|   51|Judie Chipps_Clem...|    usa|\n",
      "| 29|Female|       Kena Wild|   DSA|102285|   35|Dustin Feagins_Ma...|    usa|\n",
      "| 29|  Male| Ernest Rossbach|    DB|111449|   53|Maybell Duguay_Ab...|    usa|\n",
      "| 28|Female|  Latia Vanhoose|    DB|122502|   27|Latia Vanhoose_Mi...|    usa|\n",
      "| 29|Female|  Latia Vanhoose|   MVC|132110|   55|Eda Neathery_Nico...|    usa|\n",
      "| 29|  Male|     Neda Briski|    PF|141770|   42|Margene Moores_Mi...|    usa|\n",
      "| 29|Female|  Latia Vanhoose|    DB|152159|   27|Claude Panos_Sant...|    usa|\n",
      "| 29|  Male|  Loris Crossett|   MVC|161771|   36|Mitzi Seldon_Jenn...|    usa|\n",
      "| 29|  Male|  Annika Hoffman|   OOP|171660|   22|Taryn Brownlee_Mi...|    usa|\n",
      "| 29|  Male|   Santa Kerfien|    PF|182129|   56|Judie Chipps_Tary...|    usa|\n",
      "| 28|Female|Mickey Cortright|    DB|192537|   62|Ernest Rossbach_M...|    usa|\n",
      "+---+------+----------------+------+------+-----+--------------------+-------+\n",
      "only showing top 20 rows\n",
      "\n"
     ]
    }
   ],
   "source": [
    "from pyspark.sql.functions import lit\n",
    "\n",
    "df.withColumn('Country', lit('usa')).show()"
   ]
  },
  {
   "cell_type": "code",
   "execution_count": 50,
   "id": "155da47f-1ef7-40dd-bda5-df1133c57730",
   "metadata": {},
   "outputs": [
    {
     "name": "stdout",
     "output_type": "stream",
     "text": [
      "+---+------+----------------+------+------+-----+--------------------+-------+--------+\n",
      "|age|gender|            name|course|  roll|marks|               email|country|marks_x2|\n",
      "+---+------+----------------+------+------+-----+--------------------+-------+--------+\n",
      "| 28|Female| Hubert Oliveras|    DB|  2984|   59|Annika Hoffman_Na...|    usa|    1180|\n",
      "| 29|Female|Toshiko Hillyard| Cloud| 12899|   62|Margene Moores_Ma...|    usa|    1240|\n",
      "| 28|  Male|  Celeste Lollis|    PF| 21267|   45|Jeannetta Golden_...|    usa|     900|\n",
      "| 29|Female|    Elenore Choy|    DB| 32877|   29|Billi Clore_Mitzi...|    usa|     580|\n",
      "| 28|  Male|  Sheryll Towler|   DSA| 41487|   41|Claude Panos_Judi...|    usa|     820|\n",
      "| 28|  Male|  Margene Moores|   MVC| 52771|   32|Toshiko Hillyard_...|    usa|     640|\n",
      "| 28|  Male|     Neda Briski|   OOP| 61973|   69|Alberta Freund_El...|    usa|    1380|\n",
      "| 28|Female|    Claude Panos| Cloud| 72409|   85|Sheryll Towler_Al...|    usa|    1700|\n",
      "| 28|  Male|  Celeste Lollis|   MVC| 81492|   64|Nicole Harwood_Cl...|    usa|    1280|\n",
      "| 29|  Male|  Cordie Harnois|   OOP| 92882|   51|Judie Chipps_Clem...|    usa|    1020|\n",
      "| 29|Female|       Kena Wild|   DSA|102285|   35|Dustin Feagins_Ma...|    usa|     700|\n",
      "| 29|  Male| Ernest Rossbach|    DB|111449|   53|Maybell Duguay_Ab...|    usa|    1060|\n",
      "| 28|Female|  Latia Vanhoose|    DB|122502|   27|Latia Vanhoose_Mi...|    usa|     540|\n",
      "| 29|Female|  Latia Vanhoose|   MVC|132110|   55|Eda Neathery_Nico...|    usa|    1100|\n",
      "| 29|  Male|     Neda Briski|    PF|141770|   42|Margene Moores_Mi...|    usa|     840|\n",
      "| 29|Female|  Latia Vanhoose|    DB|152159|   27|Claude Panos_Sant...|    usa|     540|\n",
      "| 29|  Male|  Loris Crossett|   MVC|161771|   36|Mitzi Seldon_Jenn...|    usa|     720|\n",
      "| 29|  Male|  Annika Hoffman|   OOP|171660|   22|Taryn Brownlee_Mi...|    usa|     440|\n",
      "| 29|  Male|   Santa Kerfien|    PF|182129|   56|Judie Chipps_Tary...|    usa|    1120|\n",
      "| 28|Female|Mickey Cortright|    DB|192537|   62|Ernest Rossbach_M...|    usa|    1240|\n",
      "+---+------+----------------+------+------+-----+--------------------+-------+--------+\n",
      "only showing top 20 rows\n",
      "\n"
     ]
    }
   ],
   "source": [
    "df.withColumn('roll', col('roll').cast(\"String\")).withColumn('country', lit('usa')).withColumn('marks_x2', col('marks') * 2 * 10).show()"
   ]
  },
  {
   "cell_type": "code",
   "execution_count": null,
   "id": "13ac51ca-a660-49ad-b7b9-0bb84916a7e5",
   "metadata": {},
   "outputs": [],
   "source": []
  },
  {
   "cell_type": "code",
   "execution_count": 6,
   "id": "5e631c01-5164-4a49-85de-fc38aa8f9c9e",
   "metadata": {},
   "outputs": [
    {
     "name": "stdout",
     "output_type": "stream",
     "text": [
      "+---+------+----------------+------+------+-----+--------------------+----------+\n",
      "|age|gender|            name|course|  roll|marks|               email|name_trnsf|\n",
      "+---+------+----------------+------+------+-----+--------------------+----------+\n",
      "| 28|Female| Hubert Oliveras|    DB|  2984|   59|Annika Hoffman_Na...|  SRVL RBH|\n",
      "| 29|Female|Toshiko Hillyard| Cloud| 12899|   62|Margene Moores_Ma...|  DALI KHO|\n",
      "| 28|  Male|  Celeste Lollis|    PF| 21267|   45|Jeannetta Golden_...|   SLO TEE|\n",
      "| 29|Female|    Elenore Choy|    DB| 32877|   29|Billi Clore_Mitzi...|    YH RNL|\n",
      "| 28|  Male|  Sheryll Towler|   DSA| 41487|   41|Claude Panos_Judi...|   RLO LRH|\n",
      "| 28|  Male|  Margene Moores|   MVC| 52771|   32|Toshiko Hillyard_...|   SRO NGA|\n",
      "| 28|  Male|     Neda Briski|   OOP| 61973|   69|Alberta Freund_El...|    ISR DN|\n",
      "| 28|Female|    Claude Panos| Cloud| 72409|   85|Sheryll Towler_Al...|    SNPEUL|\n",
      "| 28|  Male|  Celeste Lollis|   MVC| 81492|   64|Nicole Harwood_Cl...|   SLO TEE|\n",
      "| 29|  Male|  Cordie Harnois|   OOP| 92882|   51|Judie Chipps_Clem...|   SORHEDO|\n",
      "| 29|Female|       Kena Wild|   DSA|102285|   35|Dustin Feagins_Ma...|     DI NK|\n",
      "| 29|  Male| Ernest Rossbach|    DB|111449|   53|Maybell Duguay_Ab...|  HASO SNE|\n",
      "| 28|Female|  Latia Vanhoose|    DB|122502|   27|Latia Vanhoose_Mi...|   EOHA IA|\n",
      "| 29|Female|  Latia Vanhoose|   MVC|132110|   55|Eda Neathery_Nico...|   EOHA IA|\n",
      "| 29|  Male|     Neda Briski|    PF|141770|   42|Margene Moores_Mi...|    ISR DN|\n",
      "| 29|Female|  Latia Vanhoose|    DB|152159|   27|Claude Panos_Sant...|   EOHA IA|\n",
      "| 29|  Male|  Loris Crossett|   MVC|161771|   36|Mitzi Seldon_Jenn...|   TESR IO|\n",
      "| 29|  Male|  Annika Hoffman|   OOP|171660|   22|Taryn Brownlee_Mi...|   NMFHAIN|\n",
      "| 29|  Male|   Santa Kerfien|    PF|182129|   56|Judie Chipps_Tary...|   NIRKANS|\n",
      "| 28|Female|Mickey Cortright|    DB|192537|   62|Ernest Rossbach_M...|  TGRRCYKI|\n",
      "+---+------+----------------+------+------+-----+--------------------+----------+\n",
      "only showing top 20 rows\n",
      "\n"
     ]
    }
   ],
   "source": [
    "from pyspark.sql.types import StringType\n",
    "from pyspark.sql.functions import udf\n",
    "\n",
    "\n",
    "upper_udf = udf(lambda x: str.upper(x)[::-2], StringType())\n",
    "\n",
    "\n",
    "df.withColumn('name_trnsf', upper_udf('name')).show()"
   ]
  },
  {
   "cell_type": "code",
   "execution_count": 7,
   "id": "d8aede1c-c03d-419a-a368-36f1988378b6",
   "metadata": {},
   "outputs": [
    {
     "data": {
      "text/html": [
       "<table border='1'>\n",
       "<tr><th>age</th><th>gender</th><th>name</th><th>course</th><th>roll</th><th>marks</th><th>email</th><th>name_trnsf</th></tr>\n",
       "<tr><td>28</td><td>Female</td><td>Hubert Oliveras</td><td>DB</td><td>2984</td><td>59</td><td>Annika Hoffman_Na...</td><td>SRVL RBH</td></tr>\n",
       "<tr><td>29</td><td>Female</td><td>Toshiko Hillyard</td><td>Cloud</td><td>12899</td><td>62</td><td>Margene Moores_Ma...</td><td>DALI KHO</td></tr>\n",
       "<tr><td>28</td><td>Male</td><td>Celeste Lollis</td><td>PF</td><td>21267</td><td>45</td><td>Jeannetta Golden_...</td><td>SLO TEE</td></tr>\n",
       "<tr><td>29</td><td>Female</td><td>Elenore Choy</td><td>DB</td><td>32877</td><td>29</td><td>Billi Clore_Mitzi...</td><td>YH RNL</td></tr>\n",
       "<tr><td>28</td><td>Male</td><td>Sheryll Towler</td><td>DSA</td><td>41487</td><td>41</td><td>Claude Panos_Judi...</td><td>RLO LRH</td></tr>\n",
       "<tr><td>28</td><td>Male</td><td>Margene Moores</td><td>MVC</td><td>52771</td><td>32</td><td>Toshiko Hillyard_...</td><td>SRO NGA</td></tr>\n",
       "<tr><td>28</td><td>Male</td><td>Neda Briski</td><td>OOP</td><td>61973</td><td>69</td><td>Alberta Freund_El...</td><td>ISR DN</td></tr>\n",
       "<tr><td>28</td><td>Female</td><td>Claude Panos</td><td>Cloud</td><td>72409</td><td>85</td><td>Sheryll Towler_Al...</td><td>SNPEUL</td></tr>\n",
       "<tr><td>28</td><td>Male</td><td>Celeste Lollis</td><td>MVC</td><td>81492</td><td>64</td><td>Nicole Harwood_Cl...</td><td>SLO TEE</td></tr>\n",
       "<tr><td>29</td><td>Male</td><td>Cordie Harnois</td><td>OOP</td><td>92882</td><td>51</td><td>Judie Chipps_Clem...</td><td>SORHEDO</td></tr>\n",
       "<tr><td>29</td><td>Female</td><td>Kena Wild</td><td>DSA</td><td>102285</td><td>35</td><td>Dustin Feagins_Ma...</td><td>DI NK</td></tr>\n",
       "<tr><td>29</td><td>Male</td><td>Ernest Rossbach</td><td>DB</td><td>111449</td><td>53</td><td>Maybell Duguay_Ab...</td><td>HASO SNE</td></tr>\n",
       "<tr><td>28</td><td>Female</td><td>Latia Vanhoose</td><td>DB</td><td>122502</td><td>27</td><td>Latia Vanhoose_Mi...</td><td>EOHA IA</td></tr>\n",
       "<tr><td>29</td><td>Female</td><td>Latia Vanhoose</td><td>MVC</td><td>132110</td><td>55</td><td>Eda Neathery_Nico...</td><td>EOHA IA</td></tr>\n",
       "<tr><td>29</td><td>Male</td><td>Neda Briski</td><td>PF</td><td>141770</td><td>42</td><td>Margene Moores_Mi...</td><td>ISR DN</td></tr>\n",
       "<tr><td>29</td><td>Female</td><td>Latia Vanhoose</td><td>DB</td><td>152159</td><td>27</td><td>Claude Panos_Sant...</td><td>EOHA IA</td></tr>\n",
       "<tr><td>29</td><td>Male</td><td>Loris Crossett</td><td>MVC</td><td>161771</td><td>36</td><td>Mitzi Seldon_Jenn...</td><td>TESR IO</td></tr>\n",
       "<tr><td>29</td><td>Male</td><td>Annika Hoffman</td><td>OOP</td><td>171660</td><td>22</td><td>Taryn Brownlee_Mi...</td><td>NMFHAIN</td></tr>\n",
       "<tr><td>29</td><td>Male</td><td>Santa Kerfien</td><td>PF</td><td>182129</td><td>56</td><td>Judie Chipps_Tary...</td><td>NIRKANS</td></tr>\n",
       "<tr><td>28</td><td>Female</td><td>Mickey Cortright</td><td>DB</td><td>192537</td><td>62</td><td>Ernest Rossbach_M...</td><td>TGRRCYKI</td></tr>\n",
       "</table>\n",
       "only showing top 20 rows\n"
      ],
      "text/plain": [
       "+---+------+----------------+------+------+-----+--------------------+----------+\n",
       "|age|gender|            name|course|  roll|marks|               email|name_trnsf|\n",
       "+---+------+----------------+------+------+-----+--------------------+----------+\n",
       "| 28|Female| Hubert Oliveras|    DB|  2984|   59|Annika Hoffman_Na...|  SRVL RBH|\n",
       "| 29|Female|Toshiko Hillyard| Cloud| 12899|   62|Margene Moores_Ma...|  DALI KHO|\n",
       "| 28|  Male|  Celeste Lollis|    PF| 21267|   45|Jeannetta Golden_...|   SLO TEE|\n",
       "| 29|Female|    Elenore Choy|    DB| 32877|   29|Billi Clore_Mitzi...|    YH RNL|\n",
       "| 28|  Male|  Sheryll Towler|   DSA| 41487|   41|Claude Panos_Judi...|   RLO LRH|\n",
       "| 28|  Male|  Margene Moores|   MVC| 52771|   32|Toshiko Hillyard_...|   SRO NGA|\n",
       "| 28|  Male|     Neda Briski|   OOP| 61973|   69|Alberta Freund_El...|    ISR DN|\n",
       "| 28|Female|    Claude Panos| Cloud| 72409|   85|Sheryll Towler_Al...|    SNPEUL|\n",
       "| 28|  Male|  Celeste Lollis|   MVC| 81492|   64|Nicole Harwood_Cl...|   SLO TEE|\n",
       "| 29|  Male|  Cordie Harnois|   OOP| 92882|   51|Judie Chipps_Clem...|   SORHEDO|\n",
       "| 29|Female|       Kena Wild|   DSA|102285|   35|Dustin Feagins_Ma...|     DI NK|\n",
       "| 29|  Male| Ernest Rossbach|    DB|111449|   53|Maybell Duguay_Ab...|  HASO SNE|\n",
       "| 28|Female|  Latia Vanhoose|    DB|122502|   27|Latia Vanhoose_Mi...|   EOHA IA|\n",
       "| 29|Female|  Latia Vanhoose|   MVC|132110|   55|Eda Neathery_Nico...|   EOHA IA|\n",
       "| 29|  Male|     Neda Briski|    PF|141770|   42|Margene Moores_Mi...|    ISR DN|\n",
       "| 29|Female|  Latia Vanhoose|    DB|152159|   27|Claude Panos_Sant...|   EOHA IA|\n",
       "| 29|  Male|  Loris Crossett|   MVC|161771|   36|Mitzi Seldon_Jenn...|   TESR IO|\n",
       "| 29|  Male|  Annika Hoffman|   OOP|171660|   22|Taryn Brownlee_Mi...|   NMFHAIN|\n",
       "| 29|  Male|   Santa Kerfien|    PF|182129|   56|Judie Chipps_Tary...|   NIRKANS|\n",
       "| 28|Female|Mickey Cortright|    DB|192537|   62|Ernest Rossbach_M...|  TGRRCYKI|\n",
       "+---+------+----------------+------+------+-----+--------------------+----------+\n",
       "only showing top 20 rows"
      ]
     },
     "execution_count": 7,
     "metadata": {},
     "output_type": "execute_result"
    }
   ],
   "source": [
    "df.withColumn('name_trnsf', upper_udf('name'))"
   ]
  },
  {
   "cell_type": "code",
   "execution_count": 67,
   "id": "273ca92a-31e2-4eb2-9acd-70ce9a6a5dcf",
   "metadata": {},
   "outputs": [
    {
     "name": "stderr",
     "output_type": "stream",
     "text": [
      "[NbConvertApp] Converting notebook df_with_column.ipynb to script\n",
      "[NbConvertApp] Writing 1534 bytes to df_with_column.py\n"
     ]
    }
   ],
   "source": [
    "!jupyter nbconvert --to script df_with_column.ipynb"
   ]
  }
 ],
 "metadata": {
  "kernelspec": {
   "display_name": "Python 3 (ipykernel)",
   "language": "python",
   "name": "python3"
  },
  "language_info": {
   "codemirror_mode": {
    "name": "ipython",
    "version": 3
   },
   "file_extension": ".py",
   "mimetype": "text/x-python",
   "name": "python",
   "nbconvert_exporter": "python",
   "pygments_lexer": "ipython3",
   "version": "3.9.6"
  }
 },
 "nbformat": 4,
 "nbformat_minor": 5
}
