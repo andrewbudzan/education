{
 "cells": [
  {
   "cell_type": "code",
   "execution_count": 3,
   "id": "9745a31f-ac16-4d95-9d74-569cb00b20ba",
   "metadata": {},
   "outputs": [],
   "source": [
    "from pyspark.sql import SparkSession\n",
    "from pyspark.sql.functions import col, lit\n",
    "spark = SparkSession.builder.appName('Spark DF').getOrCreate()\n",
    "spark.conf.set('spark.sql.repl.eagerEval.enabled', True)\n",
    "spark.conf.set('spark.sql.repl.eagerEval.maxNumRows', 10)\n",
    "fp = '../FileStore/tables/OfficeData.csv'\n",
    "df = spark.read.options(header=True, inferSchema=True).csv(fp)"
   ]
  },
  {
   "cell_type": "code",
   "execution_count": 4,
   "id": "59f345b5-ba2a-4007-a60b-d7289e59ab50",
   "metadata": {},
   "outputs": [
    {
     "data": {
      "text/html": [
       "<table border='1'>\n",
       "<tr><th>employee_name</th><th>department</th><th>state</th><th>salary</th><th>age</th><th>bonus</th></tr>\n",
       "<tr><td>James</td><td>Sales</td><td>NY</td><td>90000</td><td>34</td><td>10000</td></tr>\n",
       "<tr><td>Jen</td><td>Finance</td><td>NY</td><td>79000</td><td>53</td><td>15000</td></tr>\n",
       "<tr><td>Jeff</td><td>Marketing</td><td>CA</td><td>80000</td><td>25</td><td>18000</td></tr>\n",
       "<tr><td>Scott</td><td>Finance</td><td>NY</td><td>83000</td><td>36</td><td>19000</td></tr>\n",
       "<tr><td>Michael</td><td>Sales</td><td>NY</td><td>86000</td><td>56</td><td>20000</td></tr>\n",
       "<tr><td>Kumar</td><td>Marketing</td><td>NY</td><td>91000</td><td>50</td><td>21000</td></tr>\n",
       "<tr><td>Robert</td><td>Sales</td><td>CA</td><td>81000</td><td>30</td><td>23000</td></tr>\n",
       "<tr><td>Maria</td><td>Finance</td><td>CA</td><td>90000</td><td>24</td><td>23000</td></tr>\n",
       "<tr><td>Raman</td><td>Finance</td><td>CA</td><td>99000</td><td>40</td><td>24000</td></tr>\n",
       "</table>\n"
      ],
      "text/plain": [
       "+-------------+----------+-----+------+---+-----+\n",
       "|employee_name|department|state|salary|age|bonus|\n",
       "+-------------+----------+-----+------+---+-----+\n",
       "|        James|     Sales|   NY| 90000| 34|10000|\n",
       "|          Jen|   Finance|   NY| 79000| 53|15000|\n",
       "|         Jeff| Marketing|   CA| 80000| 25|18000|\n",
       "|        Scott|   Finance|   NY| 83000| 36|19000|\n",
       "|      Michael|     Sales|   NY| 86000| 56|20000|\n",
       "|        Kumar| Marketing|   NY| 91000| 50|21000|\n",
       "|       Robert|     Sales|   CA| 81000| 30|23000|\n",
       "|        Maria|   Finance|   CA| 90000| 24|23000|\n",
       "|        Raman|   Finance|   CA| 99000| 40|24000|\n",
       "+-------------+----------+-----+------+---+-----+"
      ]
     },
     "execution_count": 4,
     "metadata": {},
     "output_type": "execute_result"
    }
   ],
   "source": [
    "df.sort(df.bonus.asc())"
   ]
  },
  {
   "cell_type": "code",
   "execution_count": 5,
   "id": "eecf889f-f62b-4db4-8dfe-d24ee8643708",
   "metadata": {},
   "outputs": [
    {
     "data": {
      "text/html": [
       "<table border='1'>\n",
       "<tr><th>employee_name</th><th>department</th><th>state</th><th>salary</th><th>age</th><th>bonus</th></tr>\n",
       "<tr><td>Michael</td><td>Sales</td><td>NY</td><td>86000</td><td>56</td><td>20000</td></tr>\n",
       "<tr><td>Jen</td><td>Finance</td><td>NY</td><td>79000</td><td>53</td><td>15000</td></tr>\n",
       "<tr><td>Kumar</td><td>Marketing</td><td>NY</td><td>91000</td><td>50</td><td>21000</td></tr>\n",
       "<tr><td>Raman</td><td>Finance</td><td>CA</td><td>99000</td><td>40</td><td>24000</td></tr>\n",
       "<tr><td>Scott</td><td>Finance</td><td>NY</td><td>83000</td><td>36</td><td>19000</td></tr>\n",
       "<tr><td>James</td><td>Sales</td><td>NY</td><td>90000</td><td>34</td><td>10000</td></tr>\n",
       "<tr><td>Robert</td><td>Sales</td><td>CA</td><td>81000</td><td>30</td><td>23000</td></tr>\n",
       "<tr><td>Jeff</td><td>Marketing</td><td>CA</td><td>80000</td><td>25</td><td>18000</td></tr>\n",
       "<tr><td>Maria</td><td>Finance</td><td>CA</td><td>90000</td><td>24</td><td>23000</td></tr>\n",
       "</table>\n"
      ],
      "text/plain": [
       "+-------------+----------+-----+------+---+-----+\n",
       "|employee_name|department|state|salary|age|bonus|\n",
       "+-------------+----------+-----+------+---+-----+\n",
       "|      Michael|     Sales|   NY| 86000| 56|20000|\n",
       "|          Jen|   Finance|   NY| 79000| 53|15000|\n",
       "|        Kumar| Marketing|   NY| 91000| 50|21000|\n",
       "|        Raman|   Finance|   CA| 99000| 40|24000|\n",
       "|        Scott|   Finance|   NY| 83000| 36|19000|\n",
       "|        James|     Sales|   NY| 90000| 34|10000|\n",
       "|       Robert|     Sales|   CA| 81000| 30|23000|\n",
       "|         Jeff| Marketing|   CA| 80000| 25|18000|\n",
       "|        Maria|   Finance|   CA| 90000| 24|23000|\n",
       "+-------------+----------+-----+------+---+-----+"
      ]
     },
     "execution_count": 5,
     "metadata": {},
     "output_type": "execute_result"
    }
   ],
   "source": [
    "df.sort(col(\"age\").desc(), col('salary').asc())"
   ]
  },
  {
   "cell_type": "code",
   "execution_count": 6,
   "id": "653f7558-7447-4b26-836c-38b2482625de",
   "metadata": {},
   "outputs": [
    {
     "data": {
      "text/html": [
       "<table border='1'>\n",
       "<tr><th>employee_name</th><th>department</th><th>state</th><th>salary</th><th>age</th><th>bonus</th></tr>\n",
       "<tr><td>Michael</td><td>Sales</td><td>NY</td><td>86000</td><td>56</td><td>20000</td></tr>\n",
       "<tr><td>Jen</td><td>Finance</td><td>NY</td><td>79000</td><td>53</td><td>15000</td></tr>\n",
       "<tr><td>Kumar</td><td>Marketing</td><td>NY</td><td>91000</td><td>50</td><td>21000</td></tr>\n",
       "<tr><td>Raman</td><td>Finance</td><td>CA</td><td>99000</td><td>40</td><td>24000</td></tr>\n",
       "<tr><td>Scott</td><td>Finance</td><td>NY</td><td>83000</td><td>36</td><td>19000</td></tr>\n",
       "<tr><td>James</td><td>Sales</td><td>NY</td><td>90000</td><td>34</td><td>10000</td></tr>\n",
       "<tr><td>Robert</td><td>Sales</td><td>CA</td><td>81000</td><td>30</td><td>23000</td></tr>\n",
       "<tr><td>Jeff</td><td>Marketing</td><td>CA</td><td>80000</td><td>25</td><td>18000</td></tr>\n",
       "<tr><td>Maria</td><td>Finance</td><td>CA</td><td>90000</td><td>24</td><td>23000</td></tr>\n",
       "</table>\n"
      ],
      "text/plain": [
       "+-------------+----------+-----+------+---+-----+\n",
       "|employee_name|department|state|salary|age|bonus|\n",
       "+-------------+----------+-----+------+---+-----+\n",
       "|      Michael|     Sales|   NY| 86000| 56|20000|\n",
       "|          Jen|   Finance|   NY| 79000| 53|15000|\n",
       "|        Kumar| Marketing|   NY| 91000| 50|21000|\n",
       "|        Raman|   Finance|   CA| 99000| 40|24000|\n",
       "|        Scott|   Finance|   NY| 83000| 36|19000|\n",
       "|        James|     Sales|   NY| 90000| 34|10000|\n",
       "|       Robert|     Sales|   CA| 81000| 30|23000|\n",
       "|         Jeff| Marketing|   CA| 80000| 25|18000|\n",
       "|        Maria|   Finance|   CA| 90000| 24|23000|\n",
       "+-------------+----------+-----+------+---+-----+"
      ]
     },
     "execution_count": 6,
     "metadata": {},
     "output_type": "execute_result"
    }
   ],
   "source": [
    "df.sort(col(\"age\").desc(), col('bonus').desc(), col('salary').asc())"
   ]
  },
  {
   "cell_type": "code",
   "execution_count": null,
   "id": "afed7206-c326-4a00-9e1b-9c2b9d1d5c16",
   "metadata": {},
   "outputs": [],
   "source": []
  },
  {
   "cell_type": "code",
   "execution_count": 12,
   "id": "abf355f6-44e9-466e-a373-1d3892725b7b",
   "metadata": {},
   "outputs": [
    {
     "data": {
      "text/html": [
       "<table border='1'>\n",
       "<tr><th>age</th><th>gender</th><th>name</th><th>course</th><th>roll</th><th>marks</th><th>email</th></tr>\n",
       "<tr><td>29</td><td>Male</td><td>Maybell Duguay</td><td>PF</td><td>701486</td><td>99</td><td>Clementina Menke_...</td></tr>\n",
       "<tr><td>29</td><td>Female</td><td>Eda Neathery</td><td>PF</td><td>9222608</td><td>99</td><td>Kena Wild_Lawanda...</td></tr>\n",
       "<tr><td>29</td><td>Female</td><td>Priscila Tavernier</td><td>OOP</td><td>3902993</td><td>99</td><td>Celeste Lollis_Bi...</td></tr>\n",
       "<tr><td>28</td><td>Female</td><td>Judie Chipps</td><td>OOP</td><td>5451977</td><td>99</td><td>Tamera Blakley_Mi...</td></tr>\n",
       "<tr><td>28</td><td>Male</td><td>Loris Crossett</td><td>OOP</td><td>9692316</td><td>99</td><td>Judie Chipps_Mich...</td></tr>\n",
       "<tr><td>29</td><td>Male</td><td>Gonzalo Ferebee</td><td>MVC</td><td>5772006</td><td>99</td><td>Niki Klimek_Marge...</td></tr>\n",
       "<tr><td>28</td><td>Female</td><td>Jalisa Swenson</td><td>MVC</td><td>5712033</td><td>99</td><td>Dustin Feagins_Hu...</td></tr>\n",
       "<tr><td>29</td><td>Female</td><td>Alberta Freund</td><td>DSA</td><td>6071316</td><td>99</td><td>Dustin Feagins_Se...</td></tr>\n",
       "<tr><td>29</td><td>Female</td><td>Paris Hutton</td><td>DSA</td><td>271472</td><td>99</td><td>Sheryll Towler_Al...</td></tr>\n",
       "<tr><td>28</td><td>Male</td><td>Niki Klimek</td><td>DSA</td><td>5172507</td><td>99</td><td>Marylee Capasso_E...</td></tr>\n",
       "</table>\n",
       "only showing top 10 rows\n"
      ],
      "text/plain": [
       "+---+------+------------------+------+-------+-----+--------------------+\n",
       "|age|gender|              name|course|   roll|marks|               email|\n",
       "+---+------+------------------+------+-------+-----+--------------------+\n",
       "| 29|  Male|    Maybell Duguay|    PF| 701486|   99|Clementina Menke_...|\n",
       "| 29|Female|      Eda Neathery|    PF|9222608|   99|Kena Wild_Lawanda...|\n",
       "| 29|Female|Priscila Tavernier|   OOP|3902993|   99|Celeste Lollis_Bi...|\n",
       "| 28|Female|      Judie Chipps|   OOP|5451977|   99|Tamera Blakley_Mi...|\n",
       "| 28|  Male|    Loris Crossett|   OOP|9692316|   99|Judie Chipps_Mich...|\n",
       "| 29|  Male|   Gonzalo Ferebee|   MVC|5772006|   99|Niki Klimek_Marge...|\n",
       "| 28|Female|    Jalisa Swenson|   MVC|5712033|   99|Dustin Feagins_Hu...|\n",
       "| 29|Female|    Alberta Freund|   DSA|6071316|   99|Dustin Feagins_Se...|\n",
       "| 29|Female|      Paris Hutton|   DSA| 271472|   99|Sheryll Towler_Al...|\n",
       "| 28|  Male|       Niki Klimek|   DSA|5172507|   99|Marylee Capasso_E...|\n",
       "+---+------+------------------+------+-------+-----+--------------------+\n",
       "only showing top 10 rows"
      ]
     },
     "execution_count": 12,
     "metadata": {},
     "output_type": "execute_result"
    }
   ],
   "source": [
    "df.orderBy(col('marks').desc(), df.course.desc())"
   ]
  },
  {
   "cell_type": "code",
   "execution_count": null,
   "id": "3b1dc4d5-74c4-421e-93f3-2dd28034341b",
   "metadata": {},
   "outputs": [],
   "source": []
  },
  {
   "cell_type": "code",
   "execution_count": null,
   "id": "9698a8a0-c351-4269-9ad9-16d292443036",
   "metadata": {},
   "outputs": [],
   "source": []
  },
  {
   "cell_type": "code",
   "execution_count": 7,
   "id": "977e1aae-7145-42ea-a83c-f4edf8b11cc2",
   "metadata": {},
   "outputs": [
    {
     "name": "stderr",
     "output_type": "stream",
     "text": [
      "[NbConvertApp] Converting notebook quiz_77.ipynb to script\n",
      "[NbConvertApp] Writing 790 bytes to quiz_77.py\n"
     ]
    }
   ],
   "source": [
    "!jupyter nbconvert --to script quiz_77.ipynb"
   ]
  },
  {
   "cell_type": "code",
   "execution_count": null,
   "id": "26aa8b7e-c9e5-4b05-bc81-637968093118",
   "metadata": {},
   "outputs": [],
   "source": []
  }
 ],
 "metadata": {
  "kernelspec": {
   "display_name": "Python 3 (ipykernel)",
   "language": "python",
   "name": "python3"
  },
  "language_info": {
   "codemirror_mode": {
    "name": "ipython",
    "version": 3
   },
   "file_extension": ".py",
   "mimetype": "text/x-python",
   "name": "python",
   "nbconvert_exporter": "python",
   "pygments_lexer": "ipython3",
   "version": "3.9.6"
  },
  "toc-showcode": false,
  "toc-showmarkdowntxt": false
 },
 "nbformat": 4,
 "nbformat_minor": 5
}
