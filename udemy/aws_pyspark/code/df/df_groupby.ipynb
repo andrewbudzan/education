{
 "cells": [
  {
   "cell_type": "code",
   "execution_count": 22,
   "id": "9745a31f-ac16-4d95-9d74-569cb00b20ba",
   "metadata": {},
   "outputs": [],
   "source": [
    "from pyspark.sql import SparkSession\n",
    "from pyspark.sql.functions import col, lit\n",
    "spark = SparkSession.builder.appName('Spark DF').getOrCreate()\n",
    "spark.conf.set('spark.sql.repl.eagerEval.enabled', True)\n",
    "spark.conf.set('spark.sql.repl.eagerEval.maxNumRows', 10)\n",
    "fp = '../FileStore/tables/StudentData.csv'\n",
    "df = spark.read.options(header=True, inferSchema=True).csv(fp)"
   ]
  },
  {
   "cell_type": "code",
   "execution_count": 5,
   "id": "59f345b5-ba2a-4007-a60b-d7289e59ab50",
   "metadata": {},
   "outputs": [
    {
     "data": {
      "text/html": [
       "<table border='1'>\n",
       "<tr><th>gender</th><th>avg(marks)</th></tr>\n",
       "<tr><td>Female</td><td>59.153692614770456</td></tr>\n",
       "<tr><td>Male</td><td>61.04408817635271</td></tr>\n",
       "</table>\n"
      ],
      "text/plain": [
       "+------+------------------+\n",
       "|gender|        avg(marks)|\n",
       "+------+------------------+\n",
       "|Female|59.153692614770456|\n",
       "|  Male| 61.04408817635271|\n",
       "+------+------------------+"
      ]
     },
     "execution_count": 5,
     "metadata": {},
     "output_type": "execute_result"
    }
   ],
   "source": [
    "df.groupBy('gender').avg('marks')"
   ]
  },
  {
   "cell_type": "code",
   "execution_count": 7,
   "id": "eecf889f-f62b-4db4-8dfe-d24ee8643708",
   "metadata": {},
   "outputs": [
    {
     "name": "stdout",
     "output_type": "stream",
     "text": [
      "+------+-----+\n",
      "|course|count|\n",
      "+------+-----+\n",
      "|    PF|  166|\n",
      "|    DB|  157|\n",
      "|   MVC|  157|\n",
      "|   DSA|  176|\n",
      "| Cloud|  192|\n",
      "|   OOP|  152|\n",
      "+------+-----+\n",
      "\n"
     ]
    }
   ],
   "source": [
    "df.groupBy('course').count().show()"
   ]
  },
  {
   "cell_type": "code",
   "execution_count": 11,
   "id": "15e10d52-390e-4a04-aa71-e1f1cfda1e71",
   "metadata": {},
   "outputs": [
    {
     "name": "stdout",
     "output_type": "stream",
     "text": [
      "+------+------------------+\n",
      "|course|        avg(marks)|\n",
      "+------+------------------+\n",
      "|    PF| 59.83734939759036|\n",
      "|    DB|59.044585987261144|\n",
      "|   MVC| 61.05095541401274|\n",
      "|   DSA| 62.21590909090909|\n",
      "| Cloud|59.598958333333336|\n",
      "|   OOP|  58.6578947368421|\n",
      "+------+------------------+\n",
      "\n"
     ]
    }
   ],
   "source": [
    "df.groupBy('course').avg('marks').show()"
   ]
  },
  {
   "cell_type": "code",
   "execution_count": 15,
   "id": "cc203aa2-066d-4403-85c8-cb2fcf684a2d",
   "metadata": {},
   "outputs": [
    {
     "name": "stdout",
     "output_type": "stream",
     "text": [
      "+------+------+------------------+\n",
      "|course|gender|        avg(marks)|\n",
      "+------+------+------------------+\n",
      "| Cloud|Female| 59.58490566037736|\n",
      "| Cloud|  Male|59.616279069767444|\n",
      "|    DB|Female|             55.96|\n",
      "|    DB|  Male| 61.86585365853659|\n",
      "|   DSA|Female| 62.48979591836735|\n",
      "|   DSA|  Male| 61.87179487179487|\n",
      "|   MVC|Female|61.183098591549296|\n",
      "|   MVC|  Male| 60.94186046511628|\n",
      "|   OOP|Female| 57.09756097560975|\n",
      "|   OOP|  Male| 60.48571428571429|\n",
      "|    PF|Female| 57.57971014492754|\n",
      "|    PF|  Male| 61.44329896907217|\n",
      "+------+------+------------------+\n",
      "\n"
     ]
    }
   ],
   "source": [
    "df.groupBy('course', 'gender').avg('marks').sort('course', 'gender').show()"
   ]
  },
  {
   "cell_type": "code",
   "execution_count": 16,
   "id": "07d4cf37-4390-493a-ad5a-e61c4380c701",
   "metadata": {},
   "outputs": [],
   "source": [
    "from pyspark.sql.functions import sum, avg, max, min, mean, count"
   ]
  },
  {
   "cell_type": "code",
   "execution_count": 29,
   "id": "3bf55731-84fe-493a-a6f2-a3b8a368ac18",
   "metadata": {},
   "outputs": [
    {
     "name": "stdout",
     "output_type": "stream",
     "text": [
      "+------+------+-----------------+-----------+---------+---------+------------------+\n",
      "|course|gender|total_enrollments|total marks|min_marks|max_marks|     average_marks|\n",
      "+------+------+-----------------+-----------+---------+---------+------------------+\n",
      "| Cloud|Female|              106|       6316|       20|       99| 59.58490566037736|\n",
      "| Cloud|  Male|               86|       5127|       21|       97|59.616279069767444|\n",
      "|    DB|Female|               75|       4197|       20|       96|             55.96|\n",
      "|    DB|  Male|               82|       5073|       20|       98| 61.86585365853659|\n",
      "|   DSA|Female|               98|       6124|       20|       99| 62.48979591836735|\n",
      "|   DSA|  Male|               78|       4826|       20|       99| 61.87179487179487|\n",
      "|   MVC|Female|               71|       4344|       22|       99|61.183098591549296|\n",
      "|   MVC|  Male|               86|       5241|       22|       99| 60.94186046511628|\n",
      "|   OOP|Female|               82|       4682|       21|       99| 57.09756097560975|\n",
      "|   OOP|  Male|               70|       4234|       20|       99| 60.48571428571429|\n",
      "|    PF|Female|               69|       3973|       20|       99| 57.57971014492754|\n",
      "|    PF|  Male|               97|       5960|       20|       99| 61.44329896907217|\n",
      "+------+------+-----------------+-----------+---------+---------+------------------+\n",
      "\n"
     ]
    }
   ],
   "source": [
    "df.groupBy('course', 'gender').agg(count(\"*\").alias('total_enrollments'), sum('marks').alias('total marks'), min('marks').alias('min_marks'), max('marks').alias('max_marks'), avg('marks').alias('average_marks')).sort('course', 'gender').show()"
   ]
  },
  {
   "cell_type": "code",
   "execution_count": null,
   "id": "dc2d5763-f044-4185-b9e7-bef620ad5cb6",
   "metadata": {},
   "outputs": [],
   "source": []
  },
  {
   "cell_type": "code",
   "execution_count": null,
   "id": "9698a8a0-c351-4269-9ad9-16d292443036",
   "metadata": {},
   "outputs": [],
   "source": []
  },
  {
   "cell_type": "code",
   "execution_count": null,
   "id": "977e1aae-7145-42ea-a83c-f4edf8b11cc2",
   "metadata": {},
   "outputs": [
    {
     "name": "stderr",
     "output_type": "stream",
     "text": [
      "[NbConvertApp] Converting notebook quiz_77.ipynb to script\n",
      "[NbConvertApp] Writing 790 bytes to quiz_77.py\n"
     ]
    }
   ],
   "source": [
    "!jupyter nbconvert --to script quiz_77.ipynb"
   ]
  },
  {
   "cell_type": "code",
   "execution_count": null,
   "id": "26aa8b7e-c9e5-4b05-bc81-637968093118",
   "metadata": {},
   "outputs": [],
   "source": []
  }
 ],
 "metadata": {
  "kernelspec": {
   "display_name": "Python 3 (ipykernel)",
   "language": "python",
   "name": "python3"
  },
  "language_info": {
   "codemirror_mode": {
    "name": "ipython",
    "version": 3
   },
   "file_extension": ".py",
   "mimetype": "text/x-python",
   "name": "python",
   "nbconvert_exporter": "python",
   "pygments_lexer": "ipython3",
   "version": "3.9.6"
  },
  "toc-showcode": false,
  "toc-showmarkdowntxt": false
 },
 "nbformat": 4,
 "nbformat_minor": 5
}
