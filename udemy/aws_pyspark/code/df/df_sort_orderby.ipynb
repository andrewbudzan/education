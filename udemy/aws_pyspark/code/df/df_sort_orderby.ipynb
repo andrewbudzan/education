{
 "cells": [
  {
   "cell_type": "code",
   "execution_count": 1,
   "id": "9745a31f-ac16-4d95-9d74-569cb00b20ba",
   "metadata": {},
   "outputs": [],
   "source": [
    "from pyspark.sql import SparkSession\n",
    "from pyspark.sql.functions import col, lit\n",
    "spark = SparkSession.builder.appName('Spark DF').getOrCreate()\n",
    "spark.conf.set('spark.sql.repl.eagerEval.enabled', True)\n",
    "spark.conf.set('spark.sql.repl.eagerEval.maxNumRows', 10)\n",
    "fp = '../FileStore/tables/StudentData.csv'\n",
    "df = spark.read.options(header=True, inferSchema=True).csv(fp)"
   ]
  },
  {
   "cell_type": "code",
   "execution_count": 6,
   "id": "ca1f3072-5673-4924-a4d8-00fde632baf2",
   "metadata": {},
   "outputs": [
    {
     "data": {
      "text/html": [
       "<table border='1'>\n",
       "<tr><th>age</th><th>gender</th><th>name</th><th>course</th><th>roll</th><th>marks</th><th>email</th></tr>\n",
       "<tr><td>28</td><td>Female</td><td>Maybell Duguay</td><td>Cloud</td><td>261439</td><td>20</td><td>Nicole Harwood_Ju...</td></tr>\n",
       "<tr><td>28</td><td>Male</td><td>Abram Nagao</td><td>Cloud</td><td>2652463</td><td>21</td><td>Eda Neathery_Anni...</td></tr>\n",
       "<tr><td>29</td><td>Male</td><td>Sebrina Maresca</td><td>Cloud</td><td>5042394</td><td>21</td><td>Donna Yerby_Miche...</td></tr>\n",
       "<tr><td>28</td><td>Male</td><td>Kizzy Brenner</td><td>Cloud</td><td>4622328</td><td>21</td><td>Leontine Phillips...</td></tr>\n",
       "<tr><td>28</td><td>Male</td><td>Bonita Higuera</td><td>Cloud</td><td>7671835</td><td>21</td><td>Taryn Brownlee_Se...</td></tr>\n",
       "<tr><td>28</td><td>Female</td><td>Donna Yerby</td><td>Cloud</td><td>4392575</td><td>22</td><td>Leontine Phillips...</td></tr>\n",
       "<tr><td>28</td><td>Female</td><td>Cheri Kenney</td><td>Cloud</td><td>2281771</td><td>22</td><td>Tamera Blakley_Ab...</td></tr>\n",
       "<tr><td>28</td><td>Female</td><td>Bonita Higuera</td><td>Cloud</td><td>6061881</td><td>23</td><td>Dustin Feagins_La...</td></tr>\n",
       "<tr><td>29</td><td>Male</td><td>Leontine Phillips</td><td>Cloud</td><td>8162392</td><td>23</td><td>Clementina Menke_...</td></tr>\n",
       "<tr><td>28</td><td>Male</td><td>Alberta Freund</td><td>Cloud</td><td>1802934</td><td>24</td><td>Maybell Duguay_Pa...</td></tr>\n",
       "</table>\n",
       "only showing top 10 rows\n"
      ],
      "text/plain": [
       "+---+------+-----------------+------+-------+-----+--------------------+\n",
       "|age|gender|             name|course|   roll|marks|               email|\n",
       "+---+------+-----------------+------+-------+-----+--------------------+\n",
       "| 28|Female|   Maybell Duguay| Cloud| 261439|   20|Nicole Harwood_Ju...|\n",
       "| 28|  Male|      Abram Nagao| Cloud|2652463|   21|Eda Neathery_Anni...|\n",
       "| 29|  Male|  Sebrina Maresca| Cloud|5042394|   21|Donna Yerby_Miche...|\n",
       "| 28|  Male|    Kizzy Brenner| Cloud|4622328|   21|Leontine Phillips...|\n",
       "| 28|  Male|   Bonita Higuera| Cloud|7671835|   21|Taryn Brownlee_Se...|\n",
       "| 28|Female|      Donna Yerby| Cloud|4392575|   22|Leontine Phillips...|\n",
       "| 28|Female|     Cheri Kenney| Cloud|2281771|   22|Tamera Blakley_Ab...|\n",
       "| 28|Female|   Bonita Higuera| Cloud|6061881|   23|Dustin Feagins_La...|\n",
       "| 29|  Male|Leontine Phillips| Cloud|8162392|   23|Clementina Menke_...|\n",
       "| 28|  Male|   Alberta Freund| Cloud|1802934|   24|Maybell Duguay_Pa...|\n",
       "+---+------+-----------------+------+-------+-----+--------------------+\n",
       "only showing top 10 rows"
      ]
     },
     "execution_count": 6,
     "metadata": {},
     "output_type": "execute_result"
    }
   ],
   "source": [
    "df.sort('course', \"marks\")"
   ]
  },
  {
   "cell_type": "code",
   "execution_count": 7,
   "id": "59f345b5-ba2a-4007-a60b-d7289e59ab50",
   "metadata": {},
   "outputs": [
    {
     "data": {
      "text/html": [
       "<table border='1'>\n",
       "<tr><th>age</th><th>gender</th><th>name</th><th>course</th><th>roll</th><th>marks</th><th>email</th></tr>\n",
       "<tr><td>28</td><td>Female</td><td>Maybell Duguay</td><td>Cloud</td><td>261439</td><td>20</td><td>Nicole Harwood_Ju...</td></tr>\n",
       "<tr><td>28</td><td>Male</td><td>Abram Nagao</td><td>Cloud</td><td>2652463</td><td>21</td><td>Eda Neathery_Anni...</td></tr>\n",
       "<tr><td>29</td><td>Male</td><td>Sebrina Maresca</td><td>Cloud</td><td>5042394</td><td>21</td><td>Donna Yerby_Miche...</td></tr>\n",
       "<tr><td>28</td><td>Male</td><td>Kizzy Brenner</td><td>Cloud</td><td>4622328</td><td>21</td><td>Leontine Phillips...</td></tr>\n",
       "<tr><td>28</td><td>Male</td><td>Bonita Higuera</td><td>Cloud</td><td>7671835</td><td>21</td><td>Taryn Brownlee_Se...</td></tr>\n",
       "<tr><td>28</td><td>Female</td><td>Donna Yerby</td><td>Cloud</td><td>4392575</td><td>22</td><td>Leontine Phillips...</td></tr>\n",
       "<tr><td>28</td><td>Female</td><td>Cheri Kenney</td><td>Cloud</td><td>2281771</td><td>22</td><td>Tamera Blakley_Ab...</td></tr>\n",
       "<tr><td>28</td><td>Female</td><td>Bonita Higuera</td><td>Cloud</td><td>6061881</td><td>23</td><td>Dustin Feagins_La...</td></tr>\n",
       "<tr><td>29</td><td>Male</td><td>Leontine Phillips</td><td>Cloud</td><td>8162392</td><td>23</td><td>Clementina Menke_...</td></tr>\n",
       "<tr><td>28</td><td>Male</td><td>Alberta Freund</td><td>Cloud</td><td>1802934</td><td>24</td><td>Maybell Duguay_Pa...</td></tr>\n",
       "</table>\n",
       "only showing top 10 rows\n"
      ],
      "text/plain": [
       "+---+------+-----------------+------+-------+-----+--------------------+\n",
       "|age|gender|             name|course|   roll|marks|               email|\n",
       "+---+------+-----------------+------+-------+-----+--------------------+\n",
       "| 28|Female|   Maybell Duguay| Cloud| 261439|   20|Nicole Harwood_Ju...|\n",
       "| 28|  Male|      Abram Nagao| Cloud|2652463|   21|Eda Neathery_Anni...|\n",
       "| 29|  Male|  Sebrina Maresca| Cloud|5042394|   21|Donna Yerby_Miche...|\n",
       "| 28|  Male|    Kizzy Brenner| Cloud|4622328|   21|Leontine Phillips...|\n",
       "| 28|  Male|   Bonita Higuera| Cloud|7671835|   21|Taryn Brownlee_Se...|\n",
       "| 28|Female|      Donna Yerby| Cloud|4392575|   22|Leontine Phillips...|\n",
       "| 28|Female|     Cheri Kenney| Cloud|2281771|   22|Tamera Blakley_Ab...|\n",
       "| 28|Female|   Bonita Higuera| Cloud|6061881|   23|Dustin Feagins_La...|\n",
       "| 29|  Male|Leontine Phillips| Cloud|8162392|   23|Clementina Menke_...|\n",
       "| 28|  Male|   Alberta Freund| Cloud|1802934|   24|Maybell Duguay_Pa...|\n",
       "+---+------+-----------------+------+-------+-----+--------------------+\n",
       "only showing top 10 rows"
      ]
     },
     "execution_count": 7,
     "metadata": {},
     "output_type": "execute_result"
    }
   ],
   "source": [
    "df.orderBy('course', \"marks\")"
   ]
  },
  {
   "cell_type": "code",
   "execution_count": 11,
   "id": "542f055f-5e51-45a1-b9d1-319c3d1adfb1",
   "metadata": {},
   "outputs": [
    {
     "data": {
      "text/html": [
       "<table border='1'>\n",
       "<tr><th>age</th><th>gender</th><th>name</th><th>course</th><th>roll</th><th>marks</th><th>email</th></tr>\n",
       "<tr><td>29</td><td>Male</td><td>Maybell Duguay</td><td>PF</td><td>701486</td><td>99</td><td>Clementina Menke_...</td></tr>\n",
       "<tr><td>29</td><td>Female</td><td>Eda Neathery</td><td>PF</td><td>9222608</td><td>99</td><td>Kena Wild_Lawanda...</td></tr>\n",
       "<tr><td>28</td><td>Female</td><td>Somer Stoecker</td><td>PF</td><td>5882098</td><td>98</td><td>Judie Chipps_Clem...</td></tr>\n",
       "<tr><td>28</td><td>Male</td><td>Niki Klimek</td><td>PF</td><td>3381919</td><td>97</td><td>Hubert Oliveras_L...</td></tr>\n",
       "<tr><td>29</td><td>Male</td><td>Cordie Harnois</td><td>PF</td><td>9931081</td><td>97</td><td>Toshiko Hillyard_...</td></tr>\n",
       "<tr><td>28</td><td>Female</td><td>Kena Wild</td><td>PF</td><td>3291691</td><td>96</td><td>Tamera Blakley_Na...</td></tr>\n",
       "<tr><td>29</td><td>Male</td><td>Gonzalo Ferebee</td><td>PF</td><td>9331055</td><td>96</td><td>Kizzy Brenner_Alb...</td></tr>\n",
       "<tr><td>29</td><td>Female</td><td>Loris Crossett</td><td>PF</td><td>201487</td><td>96</td><td>Elenore Choy_Lati...</td></tr>\n",
       "<tr><td>28</td><td>Male</td><td>Gonzalo Ferebee</td><td>PF</td><td>1352348</td><td>95</td><td>Neda Briski_Somer...</td></tr>\n",
       "<tr><td>28</td><td>Female</td><td>Nicole Harwood</td><td>PF</td><td>1441367</td><td>95</td><td>Jc Andrepont_Anna...</td></tr>\n",
       "</table>\n",
       "only showing top 10 rows\n"
      ],
      "text/plain": [
       "+---+------+---------------+------+-------+-----+--------------------+\n",
       "|age|gender|           name|course|   roll|marks|               email|\n",
       "+---+------+---------------+------+-------+-----+--------------------+\n",
       "| 29|  Male| Maybell Duguay|    PF| 701486|   99|Clementina Menke_...|\n",
       "| 29|Female|   Eda Neathery|    PF|9222608|   99|Kena Wild_Lawanda...|\n",
       "| 28|Female| Somer Stoecker|    PF|5882098|   98|Judie Chipps_Clem...|\n",
       "| 28|  Male|    Niki Klimek|    PF|3381919|   97|Hubert Oliveras_L...|\n",
       "| 29|  Male| Cordie Harnois|    PF|9931081|   97|Toshiko Hillyard_...|\n",
       "| 28|Female|      Kena Wild|    PF|3291691|   96|Tamera Blakley_Na...|\n",
       "| 29|  Male|Gonzalo Ferebee|    PF|9331055|   96|Kizzy Brenner_Alb...|\n",
       "| 29|Female| Loris Crossett|    PF| 201487|   96|Elenore Choy_Lati...|\n",
       "| 28|  Male|Gonzalo Ferebee|    PF|1352348|   95|Neda Briski_Somer...|\n",
       "| 28|Female| Nicole Harwood|    PF|1441367|   95|Jc Andrepont_Anna...|\n",
       "+---+------+---------------+------+-------+-----+--------------------+\n",
       "only showing top 10 rows"
      ]
     },
     "execution_count": 11,
     "metadata": {},
     "output_type": "execute_result"
    }
   ],
   "source": [
    "df.sort(col('course').desc(), df.marks.desc())"
   ]
  },
  {
   "cell_type": "code",
   "execution_count": 12,
   "id": "abf355f6-44e9-466e-a373-1d3892725b7b",
   "metadata": {},
   "outputs": [
    {
     "data": {
      "text/html": [
       "<table border='1'>\n",
       "<tr><th>age</th><th>gender</th><th>name</th><th>course</th><th>roll</th><th>marks</th><th>email</th></tr>\n",
       "<tr><td>29</td><td>Male</td><td>Maybell Duguay</td><td>PF</td><td>701486</td><td>99</td><td>Clementina Menke_...</td></tr>\n",
       "<tr><td>29</td><td>Female</td><td>Eda Neathery</td><td>PF</td><td>9222608</td><td>99</td><td>Kena Wild_Lawanda...</td></tr>\n",
       "<tr><td>29</td><td>Female</td><td>Priscila Tavernier</td><td>OOP</td><td>3902993</td><td>99</td><td>Celeste Lollis_Bi...</td></tr>\n",
       "<tr><td>28</td><td>Female</td><td>Judie Chipps</td><td>OOP</td><td>5451977</td><td>99</td><td>Tamera Blakley_Mi...</td></tr>\n",
       "<tr><td>28</td><td>Male</td><td>Loris Crossett</td><td>OOP</td><td>9692316</td><td>99</td><td>Judie Chipps_Mich...</td></tr>\n",
       "<tr><td>29</td><td>Male</td><td>Gonzalo Ferebee</td><td>MVC</td><td>5772006</td><td>99</td><td>Niki Klimek_Marge...</td></tr>\n",
       "<tr><td>28</td><td>Female</td><td>Jalisa Swenson</td><td>MVC</td><td>5712033</td><td>99</td><td>Dustin Feagins_Hu...</td></tr>\n",
       "<tr><td>29</td><td>Female</td><td>Alberta Freund</td><td>DSA</td><td>6071316</td><td>99</td><td>Dustin Feagins_Se...</td></tr>\n",
       "<tr><td>29</td><td>Female</td><td>Paris Hutton</td><td>DSA</td><td>271472</td><td>99</td><td>Sheryll Towler_Al...</td></tr>\n",
       "<tr><td>28</td><td>Male</td><td>Niki Klimek</td><td>DSA</td><td>5172507</td><td>99</td><td>Marylee Capasso_E...</td></tr>\n",
       "</table>\n",
       "only showing top 10 rows\n"
      ],
      "text/plain": [
       "+---+------+------------------+------+-------+-----+--------------------+\n",
       "|age|gender|              name|course|   roll|marks|               email|\n",
       "+---+------+------------------+------+-------+-----+--------------------+\n",
       "| 29|  Male|    Maybell Duguay|    PF| 701486|   99|Clementina Menke_...|\n",
       "| 29|Female|      Eda Neathery|    PF|9222608|   99|Kena Wild_Lawanda...|\n",
       "| 29|Female|Priscila Tavernier|   OOP|3902993|   99|Celeste Lollis_Bi...|\n",
       "| 28|Female|      Judie Chipps|   OOP|5451977|   99|Tamera Blakley_Mi...|\n",
       "| 28|  Male|    Loris Crossett|   OOP|9692316|   99|Judie Chipps_Mich...|\n",
       "| 29|  Male|   Gonzalo Ferebee|   MVC|5772006|   99|Niki Klimek_Marge...|\n",
       "| 28|Female|    Jalisa Swenson|   MVC|5712033|   99|Dustin Feagins_Hu...|\n",
       "| 29|Female|    Alberta Freund|   DSA|6071316|   99|Dustin Feagins_Se...|\n",
       "| 29|Female|      Paris Hutton|   DSA| 271472|   99|Sheryll Towler_Al...|\n",
       "| 28|  Male|       Niki Klimek|   DSA|5172507|   99|Marylee Capasso_E...|\n",
       "+---+------+------------------+------+-------+-----+--------------------+\n",
       "only showing top 10 rows"
      ]
     },
     "execution_count": 12,
     "metadata": {},
     "output_type": "execute_result"
    }
   ],
   "source": [
    "df.orderBy(col('marks').desc(), df.course.desc())"
   ]
  },
  {
   "cell_type": "code",
   "execution_count": null,
   "id": "3b1dc4d5-74c4-421e-93f3-2dd28034341b",
   "metadata": {},
   "outputs": [],
   "source": []
  },
  {
   "cell_type": "code",
   "execution_count": null,
   "id": "9698a8a0-c351-4269-9ad9-16d292443036",
   "metadata": {},
   "outputs": [],
   "source": []
  },
  {
   "cell_type": "code",
   "execution_count": 13,
   "id": "977e1aae-7145-42ea-a83c-f4edf8b11cc2",
   "metadata": {},
   "outputs": [
    {
     "name": "stderr",
     "output_type": "stream",
     "text": [
      "[NbConvertApp] Converting notebook df_sort_orderby.ipynb to script\n",
      "[NbConvertApp] Writing 751 bytes to df_sort_orderby.py\n"
     ]
    }
   ],
   "source": [
    "!jupyter nbconvert --to script df_sort_orderby.ipynb"
   ]
  }
 ],
 "metadata": {
  "kernelspec": {
   "display_name": "Python 3 (ipykernel)",
   "language": "python",
   "name": "python3"
  },
  "language_info": {
   "codemirror_mode": {
    "name": "ipython",
    "version": 3
   },
   "file_extension": ".py",
   "mimetype": "text/x-python",
   "name": "python",
   "nbconvert_exporter": "python",
   "pygments_lexer": "ipython3",
   "version": "3.9.6"
  }
 },
 "nbformat": 4,
 "nbformat_minor": 5
}
