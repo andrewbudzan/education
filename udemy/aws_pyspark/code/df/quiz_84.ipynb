{
 "cells": [
  {
   "cell_type": "code",
   "execution_count": 1,
   "id": "405cd9d1-41dd-42af-ad03-6422a22bd740",
   "metadata": {},
   "outputs": [],
   "source": [
    "from pyspark.sql import SparkSession\n",
    "from pyspark.sql.functions import col, lit, sum, avg, max, min, mean, count\n",
    "spark = SparkSession.builder.appName('Spark DF').getOrCreate()\n",
    "spark.conf.set('spark.sql.repl.eagerEval.enabled', True)\n",
    "spark.conf.set('spark.sql.repl.eagerEval.maxNumRows', 10)\n",
    "fp = '../FileStore/tables/WordData.txt'\n",
    "df = spark.read.text(fp)"
   ]
  },
  {
   "cell_type": "code",
   "execution_count": 10,
   "id": "bb07548c-df1d-4516-99e9-632c6099be1e",
   "metadata": {},
   "outputs": [
    {
     "data": {
      "text/html": [
       "<table border='1'>\n",
       "<tr><th>value</th><th>sum(count)</th></tr>\n",
       "<tr><td>Mic</td><td>10</td></tr>\n",
       "<tr><td>Chair</td><td>15</td></tr>\n",
       "<tr><td>Book</td><td>5</td></tr>\n",
       "<tr><td>Laptop</td><td>5</td></tr>\n",
       "<tr><td>Bag</td><td>5</td></tr>\n",
       "<tr><td>Mobile</td><td>5</td></tr>\n",
       "<tr><td>Apple</td><td>10</td></tr>\n",
       "</table>\n"
      ],
      "text/plain": [
       "+------+----------+\n",
       "| value|sum(count)|\n",
       "+------+----------+\n",
       "|   Mic|        10|\n",
       "| Chair|        15|\n",
       "|  Book|         5|\n",
       "|Laptop|         5|\n",
       "|   Bag|         5|\n",
       "|Mobile|         5|\n",
       "| Apple|        10|\n",
       "+------+----------+"
      ]
     },
     "execution_count": 10,
     "metadata": {},
     "output_type": "execute_result"
    }
   ],
   "source": [
    "df.withColumn('count', lit(1)).groupBy('value').sum()"
   ]
  },
  {
   "cell_type": "code",
   "execution_count": 11,
   "id": "5ee7e1d0-f270-461e-886e-b0706e50f4f2",
   "metadata": {},
   "outputs": [
    {
     "data": {
      "text/html": [
       "<table border='1'>\n",
       "<tr><th>value</th><th>count</th></tr>\n",
       "<tr><td>Mic</td><td>10</td></tr>\n",
       "<tr><td>Chair</td><td>15</td></tr>\n",
       "<tr><td>Book</td><td>5</td></tr>\n",
       "<tr><td>Laptop</td><td>5</td></tr>\n",
       "<tr><td>Bag</td><td>5</td></tr>\n",
       "<tr><td>Mobile</td><td>5</td></tr>\n",
       "<tr><td>Apple</td><td>10</td></tr>\n",
       "</table>\n"
      ],
      "text/plain": [
       "+------+-----+\n",
       "| value|count|\n",
       "+------+-----+\n",
       "|   Mic|   10|\n",
       "| Chair|   15|\n",
       "|  Book|    5|\n",
       "|Laptop|    5|\n",
       "|   Bag|    5|\n",
       "|Mobile|    5|\n",
       "| Apple|   10|\n",
       "+------+-----+"
      ]
     },
     "execution_count": 11,
     "metadata": {},
     "output_type": "execute_result"
    }
   ],
   "source": [
    "df.withColumn('count', lit(1)).groupBy('value').count()"
   ]
  },
  {
   "cell_type": "code",
   "execution_count": 12,
   "id": "d6023148-5b3f-4181-8367-9cf0cf09b98d",
   "metadata": {},
   "outputs": [
    {
     "data": {
      "text/html": [
       "<table border='1'>\n",
       "<tr><th>value</th><th>count</th></tr>\n",
       "<tr><td>Mic</td><td>10</td></tr>\n",
       "<tr><td>Chair</td><td>15</td></tr>\n",
       "<tr><td>Book</td><td>5</td></tr>\n",
       "<tr><td>Laptop</td><td>5</td></tr>\n",
       "<tr><td>Bag</td><td>5</td></tr>\n",
       "<tr><td>Mobile</td><td>5</td></tr>\n",
       "<tr><td>Apple</td><td>10</td></tr>\n",
       "</table>\n"
      ],
      "text/plain": [
       "+------+-----+\n",
       "| value|count|\n",
       "+------+-----+\n",
       "|   Mic|   10|\n",
       "| Chair|   15|\n",
       "|  Book|    5|\n",
       "|Laptop|    5|\n",
       "|   Bag|    5|\n",
       "|Mobile|    5|\n",
       "| Apple|   10|\n",
       "+------+-----+"
      ]
     },
     "execution_count": 12,
     "metadata": {},
     "output_type": "execute_result"
    }
   ],
   "source": [
    "df.groupBy('value').count()"
   ]
  }
 ],
 "metadata": {
  "kernelspec": {
   "display_name": "Python 3 (ipykernel)",
   "language": "python",
   "name": "python3"
  },
  "language_info": {
   "codemirror_mode": {
    "name": "ipython",
    "version": 3
   },
   "file_extension": ".py",
   "mimetype": "text/x-python",
   "name": "python",
   "nbconvert_exporter": "python",
   "pygments_lexer": "ipython3",
   "version": "3.9.6"
  }
 },
 "nbformat": 4,
 "nbformat_minor": 5
}
