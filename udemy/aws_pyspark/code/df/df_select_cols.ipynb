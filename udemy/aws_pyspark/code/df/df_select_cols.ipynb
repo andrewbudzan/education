{
 "cells": [
  {
   "cell_type": "code",
   "execution_count": 5,
   "id": "1fd79437-68d0-4298-b52e-d1d71f18d825",
   "metadata": {},
   "outputs": [],
   "source": [
    "from pyspark.sql import SparkSession\n",
    "spark = SparkSession.builder.appName('Spark DF').getOrCreate()\n",
    "fp = './FileStore/tables/StudentData.csv'"
   ]
  },
  {
   "cell_type": "code",
   "execution_count": 6,
   "id": "63be2325-10a3-458a-b38c-2cb45cea53cf",
   "metadata": {},
   "outputs": [],
   "source": [
    "df = spark.read.options(header=True, inferSchema=True).csv(fp)"
   ]
  },
  {
   "cell_type": "code",
   "execution_count": 7,
   "id": "fc3ccb1c-dada-4885-a498-89a783e4c9e0",
   "metadata": {},
   "outputs": [
    {
     "data": {
      "text/plain": "[Row(age=28, gender='Female', name='Hubert Oliveras', course='DB', roll=2984, marks=59, email='Annika Hoffman_Naoma Fritts@OOP.com'),\n Row(age=29, gender='Female', name='Toshiko Hillyard', course='Cloud', roll=12899, marks=62, email='Margene Moores_Marylee Capasso@DB.com'),\n Row(age=28, gender='Male', name='Celeste Lollis', course='PF', roll=21267, marks=45, email='Jeannetta Golden_Jenna Montague@DSA.com'),\n Row(age=29, gender='Female', name='Elenore Choy', course='DB', roll=32877, marks=29, email='Billi Clore_Mitzi Seldon@DB.com'),\n Row(age=28, gender='Male', name='Sheryll Towler', course='DSA', roll=41487, marks=41, email='Claude Panos_Judie Chipps@OOP.com'),\n Row(age=28, gender='Male', name='Margene Moores', course='MVC', roll=52771, marks=32, email='Toshiko Hillyard_Clementina Menke@MVC.com'),\n Row(age=28, gender='Male', name='Neda Briski', course='OOP', roll=61973, marks=69, email='Alberta Freund_Elenore Choy@DB.com'),\n Row(age=28, gender='Female', name='Claude Panos', course='Cloud', roll=72409, marks=85, email='Sheryll Towler_Alberta Freund@Cloud.com'),\n Row(age=28, gender='Male', name='Celeste Lollis', course='MVC', roll=81492, marks=64, email='Nicole Harwood_Claude Panos@MVC.com'),\n Row(age=29, gender='Male', name='Cordie Harnois', course='OOP', roll=92882, marks=51, email='Judie Chipps_Clementina Menke@MVC.com'),\n Row(age=29, gender='Female', name='Kena Wild', course='DSA', roll=102285, marks=35, email='Dustin Feagins_Margene Moores@OOP.com')]"
     },
     "execution_count": 7,
     "metadata": {},
     "output_type": "execute_result"
    }
   ],
   "source": [
    "df.head(11)"
   ]
  },
  {
   "cell_type": "code",
   "execution_count": 41,
   "id": "84a65f35-977e-4049-98ce-79731b9b815e",
   "metadata": {},
   "outputs": [
    {
     "name": "stdout",
     "output_type": "stream",
     "text": [
      "+----------------+---+------+\n",
      "|            name|age|gender|\n",
      "+----------------+---+------+\n",
      "| Hubert Oliveras| 28|Female|\n",
      "|Toshiko Hillyard| 29|Female|\n",
      "|  Celeste Lollis| 28|  Male|\n",
      "|    Elenore Choy| 29|Female|\n",
      "|  Sheryll Towler| 28|  Male|\n",
      "|  Margene Moores| 28|  Male|\n",
      "|     Neda Briski| 28|  Male|\n",
      "|    Claude Panos| 28|Female|\n",
      "|  Celeste Lollis| 28|  Male|\n",
      "|  Cordie Harnois| 29|  Male|\n",
      "|       Kena Wild| 29|Female|\n",
      "| Ernest Rossbach| 29|  Male|\n",
      "|  Latia Vanhoose| 28|Female|\n",
      "|  Latia Vanhoose| 29|Female|\n",
      "|     Neda Briski| 29|  Male|\n",
      "|  Latia Vanhoose| 29|Female|\n",
      "|  Loris Crossett| 29|  Male|\n",
      "|  Annika Hoffman| 29|  Male|\n",
      "|   Santa Kerfien| 29|  Male|\n",
      "|Mickey Cortright| 28|Female|\n",
      "+----------------+---+------+\n",
      "only showing top 20 rows\n",
      "\n"
     ]
    }
   ],
   "source": [
    "from pyspark.sql.functions import col\n",
    "\n",
    "# all results are the same:\n",
    "df.select('name', 'age', 'gender').show()\n",
    "# df.select(df.name, df.age, df.gender).show()\n",
    "# df.select(col('name'), col('age'), col('gender')).show()"
   ]
  },
  {
   "cell_type": "code",
   "execution_count": 43,
   "id": "13eeb7d4-6f6e-4dd0-bc98-310a4e25fcd7",
   "metadata": {},
   "outputs": [
    {
     "name": "stdout",
     "output_type": "stream",
     "text": [
      "+---+------+----------------+------+------+-----+--------------------+\n",
      "|age|gender|            name|course|  roll|marks|               email|\n",
      "+---+------+----------------+------+------+-----+--------------------+\n",
      "| 28|Female| Hubert Oliveras|    DB|  2984|   59|Annika Hoffman_Na...|\n",
      "| 29|Female|Toshiko Hillyard| Cloud| 12899|   62|Margene Moores_Ma...|\n",
      "| 28|  Male|  Celeste Lollis|    PF| 21267|   45|Jeannetta Golden_...|\n",
      "| 29|Female|    Elenore Choy|    DB| 32877|   29|Billi Clore_Mitzi...|\n",
      "| 28|  Male|  Sheryll Towler|   DSA| 41487|   41|Claude Panos_Judi...|\n",
      "| 28|  Male|  Margene Moores|   MVC| 52771|   32|Toshiko Hillyard_...|\n",
      "| 28|  Male|     Neda Briski|   OOP| 61973|   69|Alberta Freund_El...|\n",
      "| 28|Female|    Claude Panos| Cloud| 72409|   85|Sheryll Towler_Al...|\n",
      "| 28|  Male|  Celeste Lollis|   MVC| 81492|   64|Nicole Harwood_Cl...|\n",
      "| 29|  Male|  Cordie Harnois|   OOP| 92882|   51|Judie Chipps_Clem...|\n",
      "| 29|Female|       Kena Wild|   DSA|102285|   35|Dustin Feagins_Ma...|\n",
      "| 29|  Male| Ernest Rossbach|    DB|111449|   53|Maybell Duguay_Ab...|\n",
      "| 28|Female|  Latia Vanhoose|    DB|122502|   27|Latia Vanhoose_Mi...|\n",
      "| 29|Female|  Latia Vanhoose|   MVC|132110|   55|Eda Neathery_Nico...|\n",
      "| 29|  Male|     Neda Briski|    PF|141770|   42|Margene Moores_Mi...|\n",
      "| 29|Female|  Latia Vanhoose|    DB|152159|   27|Claude Panos_Sant...|\n",
      "| 29|  Male|  Loris Crossett|   MVC|161771|   36|Mitzi Seldon_Jenn...|\n",
      "| 29|  Male|  Annika Hoffman|   OOP|171660|   22|Taryn Brownlee_Mi...|\n",
      "| 29|  Male|   Santa Kerfien|    PF|182129|   56|Judie Chipps_Tary...|\n",
      "| 28|Female|Mickey Cortright|    DB|192537|   62|Ernest Rossbach_M...|\n",
      "+---+------+----------------+------+------+-----+--------------------+\n",
      "only showing top 20 rows\n",
      "\n"
     ]
    }
   ],
   "source": [
    "# same to sql\n",
    "df.select('*').show()"
   ]
  },
  {
   "cell_type": "code",
   "execution_count": 52,
   "id": "b402c992-3c73-423c-9674-1ffe2381c068",
   "metadata": {},
   "outputs": [
    {
     "name": "stdout",
     "output_type": "stream",
     "text": [
      "+----------------+------+------+-----+\n",
      "|            name|course|  roll|marks|\n",
      "+----------------+------+------+-----+\n",
      "| Hubert Oliveras|    DB|  2984|   59|\n",
      "|Toshiko Hillyard| Cloud| 12899|   62|\n",
      "|  Celeste Lollis|    PF| 21267|   45|\n",
      "|    Elenore Choy|    DB| 32877|   29|\n",
      "|  Sheryll Towler|   DSA| 41487|   41|\n",
      "|  Margene Moores|   MVC| 52771|   32|\n",
      "|     Neda Briski|   OOP| 61973|   69|\n",
      "|    Claude Panos| Cloud| 72409|   85|\n",
      "|  Celeste Lollis|   MVC| 81492|   64|\n",
      "|  Cordie Harnois|   OOP| 92882|   51|\n",
      "|       Kena Wild|   DSA|102285|   35|\n",
      "| Ernest Rossbach|    DB|111449|   53|\n",
      "|  Latia Vanhoose|    DB|122502|   27|\n",
      "|  Latia Vanhoose|   MVC|132110|   55|\n",
      "|     Neda Briski|    PF|141770|   42|\n",
      "|  Latia Vanhoose|    DB|152159|   27|\n",
      "|  Loris Crossett|   MVC|161771|   36|\n",
      "|  Annika Hoffman|   OOP|171660|   22|\n",
      "|   Santa Kerfien|    PF|182129|   56|\n",
      "|Mickey Cortright|    DB|192537|   62|\n",
      "+----------------+------+------+-----+\n",
      "only showing top 20 rows\n",
      "\n"
     ]
    }
   ],
   "source": [
    "df.columns[2]\n",
    "\n",
    "df.select(df.columns[2:6]).show()"
   ]
  },
  {
   "cell_type": "code",
   "execution_count": 56,
   "id": "eb460156-f876-44d6-9098-b469640b0e94",
   "metadata": {},
   "outputs": [
    {
     "name": "stdout",
     "output_type": "stream",
     "text": [
      "+---+----------------+------+-----+--------------------+\n",
      "|age|            name|  roll|marks|               email|\n",
      "+---+----------------+------+-----+--------------------+\n",
      "| 28| Hubert Oliveras|  2984|   59|Annika Hoffman_Na...|\n",
      "| 29|Toshiko Hillyard| 12899|   62|Margene Moores_Ma...|\n",
      "| 28|  Celeste Lollis| 21267|   45|Jeannetta Golden_...|\n",
      "| 29|    Elenore Choy| 32877|   29|Billi Clore_Mitzi...|\n",
      "| 28|  Sheryll Towler| 41487|   41|Claude Panos_Judi...|\n",
      "| 28|  Margene Moores| 52771|   32|Toshiko Hillyard_...|\n",
      "| 28|     Neda Briski| 61973|   69|Alberta Freund_El...|\n",
      "| 28|    Claude Panos| 72409|   85|Sheryll Towler_Al...|\n",
      "| 28|  Celeste Lollis| 81492|   64|Nicole Harwood_Cl...|\n",
      "| 29|  Cordie Harnois| 92882|   51|Judie Chipps_Clem...|\n",
      "| 29|       Kena Wild|102285|   35|Dustin Feagins_Ma...|\n",
      "| 29| Ernest Rossbach|111449|   53|Maybell Duguay_Ab...|\n",
      "| 28|  Latia Vanhoose|122502|   27|Latia Vanhoose_Mi...|\n",
      "| 29|  Latia Vanhoose|132110|   55|Eda Neathery_Nico...|\n",
      "| 29|     Neda Briski|141770|   42|Margene Moores_Mi...|\n",
      "| 29|  Latia Vanhoose|152159|   27|Claude Panos_Sant...|\n",
      "| 29|  Loris Crossett|161771|   36|Mitzi Seldon_Jenn...|\n",
      "| 29|  Annika Hoffman|171660|   22|Taryn Brownlee_Mi...|\n",
      "| 29|   Santa Kerfien|182129|   56|Judie Chipps_Tary...|\n",
      "| 28|Mickey Cortright|192537|   62|Ernest Rossbach_M...|\n",
      "+---+----------------+------+-----+--------------------+\n",
      "only showing top 20 rows\n",
      "\n"
     ]
    }
   ],
   "source": [
    "df.select(['age', col(\"name\"), *df.columns[4:]]).show()"
   ]
  },
  {
   "cell_type": "code",
   "execution_count": 57,
   "id": "0ccca5f0-832a-4ace-b7c9-588eb27c6f8f",
   "metadata": {},
   "outputs": [],
   "source": [
    "df2 = df.select(['age', col(\"name\"), *df.columns[4:]])"
   ]
  },
  {
   "cell_type": "code",
   "execution_count": 67,
   "id": "d7a13eee-3f5b-44fb-9cdb-ee749e951afc",
   "metadata": {},
   "outputs": [
    {
     "name": "stdout",
     "output_type": "stream",
     "text": [
      "+---+----------------+------+-----+--------------------+\n",
      "|age|            name|  roll|marks|               email|\n",
      "+---+----------------+------+-----+--------------------+\n",
      "| 28| Hubert Oliveras|  2984|   59|Annika Hoffman_Na...|\n",
      "| 29|Toshiko Hillyard| 12899|   62|Margene Moores_Ma...|\n",
      "| 28|  Celeste Lollis| 21267|   45|Jeannetta Golden_...|\n",
      "| 29|    Elenore Choy| 32877|   29|Billi Clore_Mitzi...|\n",
      "| 28|  Sheryll Towler| 41487|   41|Claude Panos_Judi...|\n",
      "| 28|  Margene Moores| 52771|   32|Toshiko Hillyard_...|\n",
      "| 28|     Neda Briski| 61973|   69|Alberta Freund_El...|\n",
      "| 28|    Claude Panos| 72409|   85|Sheryll Towler_Al...|\n",
      "| 28|  Celeste Lollis| 81492|   64|Nicole Harwood_Cl...|\n",
      "| 29|  Cordie Harnois| 92882|   51|Judie Chipps_Clem...|\n",
      "| 29|       Kena Wild|102285|   35|Dustin Feagins_Ma...|\n",
      "| 29| Ernest Rossbach|111449|   53|Maybell Duguay_Ab...|\n",
      "| 28|  Latia Vanhoose|122502|   27|Latia Vanhoose_Mi...|\n",
      "| 29|  Latia Vanhoose|132110|   55|Eda Neathery_Nico...|\n",
      "| 29|     Neda Briski|141770|   42|Margene Moores_Mi...|\n",
      "| 29|  Latia Vanhoose|152159|   27|Claude Panos_Sant...|\n",
      "| 29|  Loris Crossett|161771|   36|Mitzi Seldon_Jenn...|\n",
      "| 29|  Annika Hoffman|171660|   22|Taryn Brownlee_Mi...|\n",
      "| 29|   Santa Kerfien|182129|   56|Judie Chipps_Tary...|\n",
      "| 28|Mickey Cortright|192537|   62|Ernest Rossbach_M...|\n",
      "+---+----------------+------+-----+--------------------+\n",
      "only showing top 20 rows\n",
      "\n"
     ]
    }
   ],
   "source": [
    "df2.show()"
   ]
  },
  {
   "cell_type": "code",
   "execution_count": 71,
   "id": "6cda1613-17ef-49fc-91d6-6d8ad5a057d4",
   "metadata": {},
   "outputs": [
    {
     "data": {
      "text/plain": [
       "[Row(age=28, name='Hubert Oliveras', roll=2984, marks=59, email='Annika Hoffman_Naoma Fritts@OOP.com'),\n",
       " Row(age=29, name='Toshiko Hillyard', roll=12899, marks=62, email='Margene Moores_Marylee Capasso@DB.com'),\n",
       " Row(age=28, name='Celeste Lollis', roll=21267, marks=45, email='Jeannetta Golden_Jenna Montague@DSA.com'),\n",
       " Row(age=29, name='Elenore Choy', roll=32877, marks=29, email='Billi Clore_Mitzi Seldon@DB.com'),\n",
       " Row(age=28, name='Sheryll Towler', roll=41487, marks=41, email='Claude Panos_Judie Chipps@OOP.com')]"
      ]
     },
     "execution_count": 71,
     "metadata": {},
     "output_type": "execute_result"
    }
   ],
   "source": [
    "df2.head(5)"
   ]
  },
  {
   "cell_type": "code",
   "execution_count": 66,
   "id": "95d62c28-1403-4412-af72-b51922611901",
   "metadata": {},
   "outputs": [
    {
     "data": {
      "text/plain": [
       "[Row(age=28, name='Celeste Lollis', roll=9952416, marks=59, email='Gonzalo Ferebee_Jalisa Swenson@DB.com'),\n",
       " Row(age=29, name='Somer Stoecker', roll=9962277, marks=84, email='Clementina Menke_Paris Hutton@OOP.com'),\n",
       " Row(age=28, name='Tamera Blakley', roll=9971217, marks=26, email='Anna Santos_Claude Panos@PF.com'),\n",
       " Row(age=28, name='Tamera Blakley', roll=9982779, marks=71, email='Toshiko Hillyard_Anna Santos@DSA.com'),\n",
       " Row(age=29, name='Jenna Montague', roll=9991617, marks=23, email='Anna Santos_Jenna Montague@DB.com')]"
      ]
     },
     "execution_count": 66,
     "metadata": {},
     "output_type": "execute_result"
    }
   ],
   "source": [
    "df2.tail(5)"
   ]
  },
  {
   "cell_type": "code",
   "execution_count": 69,
   "id": "d56ccb2e-4367-4cad-93c0-d6e87202367e",
   "metadata": {},
   "outputs": [
    {
     "name": "stdout",
     "output_type": "stream",
     "text": [
      "Collecting jupyter_contrib_nbextensions\n",
      "  Downloading jupyter_contrib_nbextensions-0.5.1-py2.py3-none-any.whl (20.9 MB)\n",
      "Requirement already satisfied: ipython-genutils in c:\\users\\andbud\\venvs\\edu\\lib\\site-packages (from jupyter_contrib_nbextensions) (0.2.0)\n",
      "Requirement already satisfied: jupyter-nbextensions-configurator>=0.4.0 in c:\\users\\andbud\\venvs\\edu\\lib\\site-packages (from jupyter_contrib_nbextensions) (0.4.1)\n",
      "Requirement already satisfied: nbconvert>=4.2 in c:\\users\\andbud\\venvs\\edu\\lib\\site-packages (from jupyter_contrib_nbextensions) (6.3.0)\n",
      "Requirement already satisfied: pyyaml in c:\\users\\andbud\\venvs\\edu\\lib\\site-packages (from jupyter_contrib_nbextensions) (6.0)\n",
      "Requirement already satisfied: traitlets>=4.1 in c:\\users\\andbud\\venvs\\edu\\lib\\site-packages (from jupyter_contrib_nbextensions) (5.1.1)\n",
      "Requirement already satisfied: jupyter-contrib-core>=0.3.3 in c:\\users\\andbud\\venvs\\edu\\lib\\site-packages (from jupyter_contrib_nbextensions) (0.3.3)\n",
      "Requirement already satisfied: jupyter-core in c:\\users\\andbud\\venvs\\edu\\lib\\site-packages (from jupyter_contrib_nbextensions) (4.9.1)\n",
      "Requirement already satisfied: tornado in c:\\users\\andbud\\venvs\\edu\\lib\\site-packages (from jupyter_contrib_nbextensions) (6.1)\n",
      "Collecting lxml\n",
      "  Downloading lxml-4.7.1-cp39-cp39-win_amd64.whl (3.7 MB)\n",
      "Requirement already satisfied: notebook>=4.0 in c:\\users\\andbud\\venvs\\edu\\lib\\site-packages (from jupyter_contrib_nbextensions) (6.4.6)\n",
      "Collecting jupyter-latex-envs>=1.3.8\n",
      "  Downloading jupyter_latex_envs-1.4.6.tar.gz (861 kB)\n",
      "  Preparing metadata (setup.py): started\n",
      "  Preparing metadata (setup.py): finished with status 'done'\n",
      "Collecting jupyter-highlight-selected-word>=0.1.1\n",
      "  Downloading jupyter_highlight_selected_word-0.2.0-py2.py3-none-any.whl (11 kB)\n",
      "Requirement already satisfied: setuptools in c:\\users\\andbud\\venvs\\edu\\lib\\site-packages (from jupyter-contrib-core>=0.3.3->jupyter_contrib_nbextensions) (56.0.0)\n",
      "Requirement already satisfied: ipython in c:\\users\\andbud\\venvs\\edu\\lib\\site-packages (from jupyter-latex-envs>=1.3.8->jupyter_contrib_nbextensions) (7.30.1)\n",
      "Requirement already satisfied: jupyterlab-pygments in c:\\users\\andbud\\venvs\\edu\\lib\\site-packages (from nbconvert>=4.2->jupyter_contrib_nbextensions) (0.1.2)\n",
      "Requirement already satisfied: nbclient<0.6.0,>=0.5.0 in c:\\users\\andbud\\venvs\\edu\\lib\\site-packages (from nbconvert>=4.2->jupyter_contrib_nbextensions) (0.5.9)\n",
      "Requirement already satisfied: mistune<2,>=0.8.1 in c:\\users\\andbud\\venvs\\edu\\lib\\site-packages (from nbconvert>=4.2->jupyter_contrib_nbextensions) (0.8.4)\n",
      "Requirement already satisfied: testpath in c:\\users\\andbud\\venvs\\edu\\lib\\site-packages (from nbconvert>=4.2->jupyter_contrib_nbextensions) (0.5.0)\n",
      "Requirement already satisfied: pygments>=2.4.1 in c:\\users\\andbud\\venvs\\edu\\lib\\site-packages (from nbconvert>=4.2->jupyter_contrib_nbextensions) (2.10.0)\n",
      "Requirement already satisfied: entrypoints>=0.2.2 in c:\\users\\andbud\\venvs\\edu\\lib\\site-packages (from nbconvert>=4.2->jupyter_contrib_nbextensions) (0.3)\n",
      "Requirement already satisfied: defusedxml in c:\\users\\andbud\\venvs\\edu\\lib\\site-packages (from nbconvert>=4.2->jupyter_contrib_nbextensions) (0.7.1)\n",
      "Requirement already satisfied: jinja2>=2.4 in c:\\users\\andbud\\venvs\\edu\\lib\\site-packages (from nbconvert>=4.2->jupyter_contrib_nbextensions) (3.0.3)\n",
      "Requirement already satisfied: pandocfilters>=1.4.1 in c:\\users\\andbud\\venvs\\edu\\lib\\site-packages (from nbconvert>=4.2->jupyter_contrib_nbextensions) (1.5.0)\n",
      "Requirement already satisfied: bleach in c:\\users\\andbud\\venvs\\edu\\lib\\site-packages (from nbconvert>=4.2->jupyter_contrib_nbextensions) (4.1.0)\n",
      "Requirement already satisfied: nbformat>=4.4 in c:\\users\\andbud\\venvs\\edu\\lib\\site-packages (from nbconvert>=4.2->jupyter_contrib_nbextensions) (5.1.3)\n",
      "Requirement already satisfied: nest-asyncio>=1.5 in c:\\users\\andbud\\venvs\\edu\\lib\\site-packages (from notebook>=4.0->jupyter_contrib_nbextensions) (1.5.4)\n",
      "Requirement already satisfied: ipykernel in c:\\users\\andbud\\venvs\\edu\\lib\\site-packages (from notebook>=4.0->jupyter_contrib_nbextensions) (6.6.0)\n",
      "Requirement already satisfied: pyzmq>=17 in c:\\users\\andbud\\venvs\\edu\\lib\\site-packages (from notebook>=4.0->jupyter_contrib_nbextensions) (22.3.0)\n",
      "Requirement already satisfied: Send2Trash>=1.8.0 in c:\\users\\andbud\\venvs\\edu\\lib\\site-packages (from notebook>=4.0->jupyter_contrib_nbextensions) (1.8.0)\n",
      "Requirement already satisfied: terminado>=0.8.3 in c:\\users\\andbud\\venvs\\edu\\lib\\site-packages (from notebook>=4.0->jupyter_contrib_nbextensions) (0.12.1)\n",
      "Requirement already satisfied: argon2-cffi in c:\\users\\andbud\\venvs\\edu\\lib\\site-packages (from notebook>=4.0->jupyter_contrib_nbextensions) (21.3.0)\n",
      "Requirement already satisfied: prometheus-client in c:\\users\\andbud\\venvs\\edu\\lib\\site-packages (from notebook>=4.0->jupyter_contrib_nbextensions) (0.12.0)\n",
      "Requirement already satisfied: jupyter-client>=5.3.4 in c:\\users\\andbud\\venvs\\edu\\lib\\site-packages (from notebook>=4.0->jupyter_contrib_nbextensions) (7.1.0)\n",
      "Requirement already satisfied: pywin32>=1.0 in c:\\users\\andbud\\venvs\\edu\\lib\\site-packages (from jupyter-core->jupyter_contrib_nbextensions) (302)\n",
      "Requirement already satisfied: MarkupSafe>=2.0 in c:\\users\\andbud\\venvs\\edu\\lib\\site-packages (from jinja2>=2.4->nbconvert>=4.2->jupyter_contrib_nbextensions) (2.0.1)\n",
      "Requirement already satisfied: python-dateutil>=2.1 in c:\\users\\andbud\\venvs\\edu\\lib\\site-packages (from jupyter-client>=5.3.4->notebook>=4.0->jupyter_contrib_nbextensions) (2.8.2)\n",
      "Requirement already satisfied: jsonschema!=2.5.0,>=2.4 in c:\\users\\andbud\\venvs\\edu\\lib\\site-packages (from nbformat>=4.4->nbconvert>=4.2->jupyter_contrib_nbextensions) (4.3.0)\n",
      "Requirement already satisfied: pywinpty>=1.1.0 in c:\\users\\andbud\\venvs\\edu\\lib\\site-packages (from terminado>=0.8.3->notebook>=4.0->jupyter_contrib_nbextensions) (1.1.6)\n",
      "Requirement already satisfied: argon2-cffi-bindings in c:\\users\\andbud\\venvs\\edu\\lib\\site-packages (from argon2-cffi->notebook>=4.0->jupyter_contrib_nbextensions) (21.2.0)\n",
      "Requirement already satisfied: webencodings in c:\\users\\andbud\\venvs\\edu\\lib\\site-packages (from bleach->nbconvert>=4.2->jupyter_contrib_nbextensions) (0.5.1)\n",
      "Requirement already satisfied: six>=1.9.0 in c:\\users\\andbud\\venvs\\edu\\lib\\site-packages (from bleach->nbconvert>=4.2->jupyter_contrib_nbextensions) (1.16.0)\n",
      "Requirement already satisfied: packaging in c:\\users\\andbud\\venvs\\edu\\lib\\site-packages (from bleach->nbconvert>=4.2->jupyter_contrib_nbextensions) (21.3)\n",
      "Requirement already satisfied: matplotlib-inline<0.2.0,>=0.1.0 in c:\\users\\andbud\\venvs\\edu\\lib\\site-packages (from ipykernel->notebook>=4.0->jupyter_contrib_nbextensions) (0.1.3)\n",
      "Requirement already satisfied: debugpy<2.0,>=1.0.0 in c:\\users\\andbud\\venvs\\edu\\lib\\site-packages (from ipykernel->notebook>=4.0->jupyter_contrib_nbextensions) (1.5.1)\n",
      "Requirement already satisfied: backcall in c:\\users\\andbud\\venvs\\edu\\lib\\site-packages (from ipython->jupyter-latex-envs>=1.3.8->jupyter_contrib_nbextensions) (0.2.0)\n",
      "Requirement already satisfied: jedi>=0.16 in c:\\users\\andbud\\venvs\\edu\\lib\\site-packages (from ipython->jupyter-latex-envs>=1.3.8->jupyter_contrib_nbextensions) (0.18.1)\n",
      "Requirement already satisfied: prompt-toolkit!=3.0.0,!=3.0.1,<3.1.0,>=2.0.0 in c:\\users\\andbud\\venvs\\edu\\lib\\site-packages (from ipython->jupyter-latex-envs>=1.3.8->jupyter_contrib_nbextensions) (3.0.24)\n",
      "Requirement already satisfied: colorama in c:\\users\\andbud\\venvs\\edu\\lib\\site-packages (from ipython->jupyter-latex-envs>=1.3.8->jupyter_contrib_nbextensions) (0.4.4)\n",
      "Requirement already satisfied: decorator in c:\\users\\andbud\\venvs\\edu\\lib\\site-packages (from ipython->jupyter-latex-envs>=1.3.8->jupyter_contrib_nbextensions) (5.1.0)\n",
      "Requirement already satisfied: pickleshare in c:\\users\\andbud\\venvs\\edu\\lib\\site-packages (from ipython->jupyter-latex-envs>=1.3.8->jupyter_contrib_nbextensions) (0.7.5)\n",
      "Requirement already satisfied: parso<0.9.0,>=0.8.0 in c:\\users\\andbud\\venvs\\edu\\lib\\site-packages (from jedi>=0.16->ipython->jupyter-latex-envs>=1.3.8->jupyter_contrib_nbextensions) (0.8.3)\n",
      "Requirement already satisfied: attrs>=17.4.0 in c:\\users\\andbud\\venvs\\edu\\lib\\site-packages (from jsonschema!=2.5.0,>=2.4->nbformat>=4.4->nbconvert>=4.2->jupyter_contrib_nbextensions) (21.2.0)\n",
      "Requirement already satisfied: pyrsistent!=0.17.0,!=0.17.1,!=0.17.2,>=0.14.0 in c:\\users\\andbud\\venvs\\edu\\lib\\site-packages (from jsonschema!=2.5.0,>=2.4->nbformat>=4.4->nbconvert>=4.2->jupyter_contrib_nbextensions) (0.18.0)\n",
      "Requirement already satisfied: wcwidth in c:\\users\\andbud\\venvs\\edu\\lib\\site-packages (from prompt-toolkit!=3.0.0,!=3.0.1,<3.1.0,>=2.0.0->ipython->jupyter-latex-envs>=1.3.8->jupyter_contrib_nbextensions) (0.2.5)\n",
      "Requirement already satisfied: cffi>=1.0.1 in c:\\users\\andbud\\venvs\\edu\\lib\\site-packages (from argon2-cffi-bindings->argon2-cffi->notebook>=4.0->jupyter_contrib_nbextensions) (1.15.0)\n",
      "Requirement already satisfied: pyparsing!=3.0.5,>=2.0.2 in c:\\users\\andbud\\venvs\\edu\\lib\\site-packages (from packaging->bleach->nbconvert>=4.2->jupyter_contrib_nbextensions) (3.0.6)\n",
      "Requirement already satisfied: pycparser in c:\\users\\andbud\\venvs\\edu\\lib\\site-packages (from cffi>=1.0.1->argon2-cffi-bindings->argon2-cffi->notebook>=4.0->jupyter_contrib_nbextensions) (2.21)\n",
      "Using legacy 'setup.py install' for jupyter-latex-envs, since package 'wheel' is not installed.\n",
      "Installing collected packages: lxml, jupyter-latex-envs, jupyter-highlight-selected-word, jupyter-contrib-nbextensions\n",
      "    Running setup.py install for jupyter-latex-envs: started\n",
      "    Running setup.py install for jupyter-latex-envs: finished with status 'done'\n",
      "Successfully installed jupyter-contrib-nbextensions-0.5.1 jupyter-highlight-selected-word-0.2.0 jupyter-latex-envs-1.4.6 lxml-4.7.1\n",
      "Note: you may need to restart the kernel to use updated packages.\n"
     ]
    }
   ],
   "source": [
    "%pip install jupyter_contrib_nbextensions"
   ]
  },
  {
   "cell_type": "code",
   "execution_count": 70,
   "id": "95f45032-535c-42ed-acb2-c770d7d46912",
   "metadata": {},
   "outputs": [
    {
     "name": "stderr",
     "output_type": "stream",
     "text": [
      "[NbConvertApp] Converting notebook df_select_cols.ipynb to script\n",
      "[NbConvertApp] Writing 1025 bytes to df_select_cols.py\n"
     ]
    }
   ],
   "source": [
    "!jupyter nbconvert --to script df_select_cols.ipynb"
   ]
  },
  {
   "cell_type": "code",
   "execution_count": null,
   "id": "f144d2dd-0553-4ce2-bf28-50afde991f37",
   "metadata": {},
   "outputs": [],
   "source": []
  },
  {
   "cell_type": "code",
   "execution_count": null,
   "id": "57074857-a77e-4217-ac6d-3bc4d061084a",
   "metadata": {},
   "outputs": [],
   "source": []
  }
 ],
 "metadata": {
  "kernelspec": {
   "display_name": "Python 3 (ipykernel)",
   "language": "python",
   "name": "python3"
  },
  "language_info": {
   "codemirror_mode": {
    "name": "ipython",
    "version": 3
   },
   "file_extension": ".py",
   "mimetype": "text/x-python",
   "name": "python",
   "nbconvert_exporter": "python",
   "pygments_lexer": "ipython3",
   "version": "3.9.6"
  }
 },
 "nbformat": 4,
 "nbformat_minor": 5
}