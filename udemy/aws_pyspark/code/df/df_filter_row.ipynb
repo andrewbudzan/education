{
 "cells": [
  {
   "cell_type": "code",
   "execution_count": 1,
   "id": "23e458c5-1452-4619-9d49-331f7af4b720",
   "metadata": {},
   "outputs": [],
   "source": [
    "from pyspark.sql import SparkSession\n",
    "from pyspark.sql.functions import col, lit\n",
    "spark = SparkSession.builder.appName('Spark DF').getOrCreate()\n",
    "spark.conf.set('spark.sql.repl.eagerEval.enabled', True)\n",
    "spark.conf.set('spark.sql.repl.eagerEval.maxNumRows', 10)\n",
    "fp = './FileStore/tables/StudentData.csv'\n",
    "df = spark.read.options(header=True, inferSchema=True).csv(fp)"
   ]
  },
  {
   "cell_type": "code",
   "execution_count": 4,
   "id": "bd21b6b0-0cc9-40d0-bb35-068e24cc7eb2",
   "metadata": {},
   "outputs": [
    {
     "name": "stdout",
     "output_type": "stream",
     "text": [
      "+---+------+----------------+------+-----+-----+--------------------+\n",
      "|age|gender|            name|course| roll|marks|               email|\n",
      "+---+------+----------------+------+-----+-----+--------------------+\n",
      "| 28|Female| Hubert Oliveras|    DB| 2984|   59|Annika Hoffman_Na...|\n",
      "| 29|Female|Toshiko Hillyard| Cloud|12899|   62|Margene Moores_Ma...|\n",
      "| 28|  Male|  Celeste Lollis|    PF|21267|   45|Jeannetta Golden_...|\n",
      "| 29|Female|    Elenore Choy|    DB|32877|   29|Billi Clore_Mitzi...|\n",
      "| 28|  Male|  Sheryll Towler|   DSA|41487|   41|Claude Panos_Judi...|\n",
      "+---+------+----------------+------+-----+-----+--------------------+\n",
      "only showing top 5 rows\n",
      "\n"
     ]
    }
   ],
   "source": [
    "df.show(5)"
   ]
  },
  {
   "cell_type": "code",
   "execution_count": 7,
   "id": "bec76760-84ec-44e6-bbaf-c72ce24d3ef2",
   "metadata": {},
   "outputs": [
    {
     "data": {
      "text/html": [
       "<table border='1'>\n",
       "<tr><th>age</th><th>gender</th><th>name</th><th>course</th><th>roll</th><th>marks</th><th>email</th></tr>\n",
       "<tr><td>28</td><td>Female</td><td>Hubert Oliveras</td><td>DB</td><td>2984</td><td>59</td><td>Annika Hoffman_Na...</td></tr>\n",
       "<tr><td>29</td><td>Female</td><td>Elenore Choy</td><td>DB</td><td>32877</td><td>29</td><td>Billi Clore_Mitzi...</td></tr>\n",
       "<tr><td>29</td><td>Male</td><td>Ernest Rossbach</td><td>DB</td><td>111449</td><td>53</td><td>Maybell Duguay_Ab...</td></tr>\n",
       "<tr><td>28</td><td>Female</td><td>Latia Vanhoose</td><td>DB</td><td>122502</td><td>27</td><td>Latia Vanhoose_Mi...</td></tr>\n",
       "<tr><td>29</td><td>Female</td><td>Latia Vanhoose</td><td>DB</td><td>152159</td><td>27</td><td>Claude Panos_Sant...</td></tr>\n",
       "<tr><td>28</td><td>Female</td><td>Mickey Cortright</td><td>DB</td><td>192537</td><td>62</td><td>Ernest Rossbach_M...</td></tr>\n",
       "<tr><td>28</td><td>Female</td><td>Anna Santos</td><td>DB</td><td>311589</td><td>79</td><td>Celeste Lollis_Mi...</td></tr>\n",
       "<tr><td>28</td><td>Male</td><td>Kizzy Brenner</td><td>DB</td><td>381712</td><td>36</td><td>Paris Hutton_Kena...</td></tr>\n",
       "<tr><td>28</td><td>Male</td><td>Toshiko Hillyard</td><td>DB</td><td>392218</td><td>47</td><td>Leontine Phillips...</td></tr>\n",
       "<tr><td>29</td><td>Male</td><td>Paris Hutton</td><td>DB</td><td>481229</td><td>57</td><td>Clementina Menke_...</td></tr>\n",
       "</table>\n",
       "only showing top 10 rows\n"
      ],
      "text/plain": [
       "+---+------+----------------+------+------+-----+--------------------+\n",
       "|age|gender|            name|course|  roll|marks|               email|\n",
       "+---+------+----------------+------+------+-----+--------------------+\n",
       "| 28|Female| Hubert Oliveras|    DB|  2984|   59|Annika Hoffman_Na...|\n",
       "| 29|Female|    Elenore Choy|    DB| 32877|   29|Billi Clore_Mitzi...|\n",
       "| 29|  Male| Ernest Rossbach|    DB|111449|   53|Maybell Duguay_Ab...|\n",
       "| 28|Female|  Latia Vanhoose|    DB|122502|   27|Latia Vanhoose_Mi...|\n",
       "| 29|Female|  Latia Vanhoose|    DB|152159|   27|Claude Panos_Sant...|\n",
       "| 28|Female|Mickey Cortright|    DB|192537|   62|Ernest Rossbach_M...|\n",
       "| 28|Female|     Anna Santos|    DB|311589|   79|Celeste Lollis_Mi...|\n",
       "| 28|  Male|   Kizzy Brenner|    DB|381712|   36|Paris Hutton_Kena...|\n",
       "| 28|  Male|Toshiko Hillyard|    DB|392218|   47|Leontine Phillips...|\n",
       "| 29|  Male|    Paris Hutton|    DB|481229|   57|Clementina Menke_...|\n",
       "+---+------+----------------+------+------+-----+--------------------+\n",
       "only showing top 10 rows"
      ]
     },
     "execution_count": 7,
     "metadata": {},
     "output_type": "execute_result"
    }
   ],
   "source": [
    "df.filter(df.course == 'DB')"
   ]
  },
  {
   "cell_type": "code",
   "execution_count": 10,
   "id": "a4607d9e-90df-4ed7-9ffb-cafb8e919032",
   "metadata": {},
   "outputs": [
    {
     "data": {
      "text/html": [
       "<table border='1'>\n",
       "<tr><th>age</th><th>gender</th><th>name</th><th>course</th><th>roll</th><th>marks</th><th>email</th></tr>\n",
       "<tr><td>28</td><td>Female</td><td>Hubert Oliveras</td><td>DB</td><td>2984</td><td>59</td><td>Annika Hoffman_Na...</td></tr>\n",
       "<tr><td>29</td><td>Female</td><td>Elenore Choy</td><td>DB</td><td>32877</td><td>29</td><td>Billi Clore_Mitzi...</td></tr>\n",
       "<tr><td>29</td><td>Male</td><td>Ernest Rossbach</td><td>DB</td><td>111449</td><td>53</td><td>Maybell Duguay_Ab...</td></tr>\n",
       "<tr><td>28</td><td>Female</td><td>Latia Vanhoose</td><td>DB</td><td>122502</td><td>27</td><td>Latia Vanhoose_Mi...</td></tr>\n",
       "<tr><td>29</td><td>Female</td><td>Latia Vanhoose</td><td>DB</td><td>152159</td><td>27</td><td>Claude Panos_Sant...</td></tr>\n",
       "<tr><td>28</td><td>Female</td><td>Mickey Cortright</td><td>DB</td><td>192537</td><td>62</td><td>Ernest Rossbach_M...</td></tr>\n",
       "<tr><td>28</td><td>Female</td><td>Anna Santos</td><td>DB</td><td>311589</td><td>79</td><td>Celeste Lollis_Mi...</td></tr>\n",
       "<tr><td>28</td><td>Male</td><td>Kizzy Brenner</td><td>DB</td><td>381712</td><td>36</td><td>Paris Hutton_Kena...</td></tr>\n",
       "<tr><td>28</td><td>Male</td><td>Toshiko Hillyard</td><td>DB</td><td>392218</td><td>47</td><td>Leontine Phillips...</td></tr>\n",
       "<tr><td>29</td><td>Male</td><td>Paris Hutton</td><td>DB</td><td>481229</td><td>57</td><td>Clementina Menke_...</td></tr>\n",
       "</table>\n",
       "only showing top 10 rows\n"
      ],
      "text/plain": [
       "+---+------+----------------+------+------+-----+--------------------+\n",
       "|age|gender|            name|course|  roll|marks|               email|\n",
       "+---+------+----------------+------+------+-----+--------------------+\n",
       "| 28|Female| Hubert Oliveras|    DB|  2984|   59|Annika Hoffman_Na...|\n",
       "| 29|Female|    Elenore Choy|    DB| 32877|   29|Billi Clore_Mitzi...|\n",
       "| 29|  Male| Ernest Rossbach|    DB|111449|   53|Maybell Duguay_Ab...|\n",
       "| 28|Female|  Latia Vanhoose|    DB|122502|   27|Latia Vanhoose_Mi...|\n",
       "| 29|Female|  Latia Vanhoose|    DB|152159|   27|Claude Panos_Sant...|\n",
       "| 28|Female|Mickey Cortright|    DB|192537|   62|Ernest Rossbach_M...|\n",
       "| 28|Female|     Anna Santos|    DB|311589|   79|Celeste Lollis_Mi...|\n",
       "| 28|  Male|   Kizzy Brenner|    DB|381712|   36|Paris Hutton_Kena...|\n",
       "| 28|  Male|Toshiko Hillyard|    DB|392218|   47|Leontine Phillips...|\n",
       "| 29|  Male|    Paris Hutton|    DB|481229|   57|Clementina Menke_...|\n",
       "+---+------+----------------+------+------+-----+--------------------+\n",
       "only showing top 10 rows"
      ]
     },
     "execution_count": 10,
     "metadata": {},
     "output_type": "execute_result"
    }
   ],
   "source": [
    "df.filter(col('course') == 'DB')"
   ]
  },
  {
   "cell_type": "code",
   "execution_count": 14,
   "id": "b580c180-2916-4c80-9e25-5cc005b21688",
   "metadata": {},
   "outputs": [
    {
     "name": "stdout",
     "output_type": "stream",
     "text": [
      "+---+------+------------------+------+-------+-----+--------------------+\n",
      "|age|gender|              name|course|   roll|marks|               email|\n",
      "+---+------+------------------+------+-------+-----+--------------------+\n",
      "| 28|Female|   Hubert Oliveras|    DB|   2984|   59|Annika Hoffman_Na...|\n",
      "| 29|  Male|   Ernest Rossbach|    DB| 111449|   53|Maybell Duguay_Ab...|\n",
      "| 28|Female|  Mickey Cortright|    DB| 192537|   62|Ernest Rossbach_M...|\n",
      "| 28|Female|       Anna Santos|    DB| 311589|   79|Celeste Lollis_Mi...|\n",
      "| 29|  Male|      Paris Hutton|    DB| 481229|   57|Clementina Menke_...|\n",
      "| 28|Female|   Hubert Oliveras|    DB| 771081|   79|Kizzy Brenner_Dus...|\n",
      "| 29|Female|      Elenore Choy|    DB| 811824|   55|Maybell Duguay_Me...|\n",
      "| 29|  Male|  Clementina Menke|    DB| 882200|   76|Michelle Ruggiero...|\n",
      "| 29|Female|   Sebrina Maresca|    DB| 922210|   54|Toshiko Hillyard_...|\n",
      "| 29|  Male|      Naoma Fritts|    DB| 931295|   79|Hubert Oliveras_S...|\n",
      "| 29|Female|      Claude Panos|    DB|1222887|   75|Hubert Oliveras_S...|\n",
      "| 29|Female| Leontine Phillips|    DB|1432252|   67|Billi Clore_Shery...|\n",
      "| 28|Female|   Gonzalo Ferebee|    DB|1451513|   69|Claude Panos_Tame...|\n",
      "| 28|  Male|   Marylee Capasso|    DB|1611411|   96|Annika Hoffman_Lo...|\n",
      "| 29|  Male|    Alberta Freund|    DB|1671638|   98|Clementina Menke_...|\n",
      "| 28|Female|Priscila Tavernier|    DB|1722388|   86|Lawanda Wohlwend_...|\n",
      "| 29|  Male|    Dustin Feagins|    DB|1782045|   81|Cordie Harnois_To...|\n",
      "| 29|  Male|     Tijuana Kropf|    DB|1882795|   92|Hubert Oliveras_E...|\n",
      "| 28|  Male|   Ernest Rossbach|    DB|1901492|   54|Latia Vanhoose_Jc...|\n",
      "| 29|Female| Leontine Phillips|    DB|1972893|   64|Marylee Capasso_E...|\n",
      "+---+------+------------------+------+-------+-----+--------------------+\n",
      "only showing top 20 rows\n",
      "\n"
     ]
    }
   ],
   "source": [
    "df.filter((df.course == 'DB') & (df.marks > 50)).show()"
   ]
  },
  {
   "cell_type": "code",
   "execution_count": 16,
   "id": "64512825-70fc-4a37-9d6b-47448da89274",
   "metadata": {},
   "outputs": [
    {
     "name": "stdout",
     "output_type": "stream",
     "text": [
      "+---+------+----------------+------+------+-----+--------------------+\n",
      "|age|gender|            name|course|  roll|marks|               email|\n",
      "+---+------+----------------+------+------+-----+--------------------+\n",
      "| 28|Female| Hubert Oliveras|    DB|  2984|   59|Annika Hoffman_Na...|\n",
      "| 29|Female|Toshiko Hillyard| Cloud| 12899|   62|Margene Moores_Ma...|\n",
      "| 29|Female|    Elenore Choy|    DB| 32877|   29|Billi Clore_Mitzi...|\n",
      "| 28|  Male|  Sheryll Towler|   DSA| 41487|   41|Claude Panos_Judi...|\n",
      "| 28|  Male|     Neda Briski|   OOP| 61973|   69|Alberta Freund_El...|\n",
      "| 28|Female|    Claude Panos| Cloud| 72409|   85|Sheryll Towler_Al...|\n",
      "| 29|  Male|  Cordie Harnois|   OOP| 92882|   51|Judie Chipps_Clem...|\n",
      "| 29|Female|       Kena Wild|   DSA|102285|   35|Dustin Feagins_Ma...|\n",
      "| 29|  Male| Ernest Rossbach|    DB|111449|   53|Maybell Duguay_Ab...|\n",
      "| 28|Female|  Latia Vanhoose|    DB|122502|   27|Latia Vanhoose_Mi...|\n",
      "| 29|Female|  Latia Vanhoose|    DB|152159|   27|Claude Panos_Sant...|\n",
      "| 29|  Male|  Annika Hoffman|   OOP|171660|   22|Taryn Brownlee_Mi...|\n",
      "| 28|Female|Mickey Cortright|    DB|192537|   62|Ernest Rossbach_M...|\n",
      "| 28|Female|       Kena Wild| Cloud|221750|   60|Mitzi Seldon_Jenn...|\n",
      "| 28|Female|    Jc Andrepont|   DSA|232060|   58|Billi Clore_Abram...|\n",
      "| 29|Female|     Anna Santos| Cloud|242254|   68|Jc Andrepont_Hube...|\n",
      "| 28|Female|  Alberta Freund|   OOP|251805|   83|Annika Hoffman_Sh...|\n",
      "| 28|Female|  Maybell Duguay| Cloud|261439|   20|Nicole Harwood_Ju...|\n",
      "| 29|Female|    Paris Hutton|   DSA|271472|   99|Sheryll Towler_Al...|\n",
      "| 29|Female|    Cheri Kenney| Cloud|281408|   43|Annika Hoffman_Me...|\n",
      "+---+------+----------------+------+------+-----+--------------------+\n",
      "only showing top 20 rows\n",
      "\n"
     ]
    }
   ],
   "source": [
    "courses = ['DB', 'Cloud', 'OOP', 'DSA']\n",
    "df.filter(df.course.isin(courses)).show()"
   ]
  },
  {
   "cell_type": "code",
   "execution_count": 17,
   "id": "39a3b4c5-8e88-41fb-b3cc-0be9bb4a2109",
   "metadata": {},
   "outputs": [
    {
     "name": "stdout",
     "output_type": "stream",
     "text": [
      "+---+------+----------------+------+------+-----+--------------------+\n",
      "|age|gender|            name|course|  roll|marks|               email|\n",
      "+---+------+----------------+------+------+-----+--------------------+\n",
      "| 28|Female| Hubert Oliveras|    DB|  2984|   59|Annika Hoffman_Na...|\n",
      "| 29|Female|    Elenore Choy|    DB| 32877|   29|Billi Clore_Mitzi...|\n",
      "| 28|  Male|  Sheryll Towler|   DSA| 41487|   41|Claude Panos_Judi...|\n",
      "| 29|Female|       Kena Wild|   DSA|102285|   35|Dustin Feagins_Ma...|\n",
      "| 29|  Male| Ernest Rossbach|    DB|111449|   53|Maybell Duguay_Ab...|\n",
      "| 28|Female|  Latia Vanhoose|    DB|122502|   27|Latia Vanhoose_Mi...|\n",
      "| 29|Female|  Latia Vanhoose|    DB|152159|   27|Claude Panos_Sant...|\n",
      "| 28|Female|Mickey Cortright|    DB|192537|   62|Ernest Rossbach_M...|\n",
      "| 28|Female|    Jc Andrepont|   DSA|232060|   58|Billi Clore_Abram...|\n",
      "| 29|Female|    Paris Hutton|   DSA|271472|   99|Sheryll Towler_Al...|\n",
      "| 28|Female|  Dustin Feagins|   DSA|291984|   82|Abram Nagao_Kena ...|\n",
      "| 28|Female|     Anna Santos|    DB|311589|   79|Celeste Lollis_Mi...|\n",
      "| 28|Female|Mickey Cortright|   DSA|342003|   44|Mitzi Seldon_Jean...|\n",
      "| 28|  Male|   Kizzy Brenner|    DB|381712|   36|Paris Hutton_Kena...|\n",
      "| 28|  Male|Toshiko Hillyard|    DB|392218|   47|Leontine Phillips...|\n",
      "| 29|Female|     Anna Santos|   DSA|411479|   42|Kena Wild_Mitzi S...|\n",
      "| 28|Female|  Maybell Duguay|   DSA|452141|   29|Leontine Phillips...|\n",
      "| 29|  Male|    Paris Hutton|    DB|481229|   57|Clementina Menke_...|\n",
      "| 29|Female|    Paris Hutton|   DSA|492159|   60|Nicole Harwood_Ma...|\n",
      "| 28|Female|Mickey Cortright|    DB|551389|   43|Tijuana Kropf_Jen...|\n",
      "+---+------+----------------+------+------+-----+--------------------+\n",
      "only showing top 20 rows\n",
      "\n"
     ]
    }
   ],
   "source": [
    "df.filter(df.course.startswith('D')).show()"
   ]
  },
  {
   "cell_type": "code",
   "execution_count": 24,
   "id": "a97984df-d0d2-4267-8613-75d3b9e6cd44",
   "metadata": {},
   "outputs": [
    {
     "name": "stdout",
     "output_type": "stream",
     "text": [
      "+---+------+--------------+------+-------+-----+--------------------+\n",
      "|age|gender|          name|course|   roll|marks|               email|\n",
      "+---+------+--------------+------+-------+-----+--------------------+\n",
      "| 28|Female|Latia Vanhoose|    DB| 122502|   27|Latia Vanhoose_Mi...|\n",
      "| 29|Female|Latia Vanhoose|   MVC| 132110|   55|Eda Neathery_Nico...|\n",
      "| 29|Female|Latia Vanhoose|    DB| 152159|   27|Claude Panos_Sant...|\n",
      "| 29|  Male|Latia Vanhoose| Cloud|1832268|   60|Marylee Capasso_S...|\n",
      "| 29|  Male|Latia Vanhoose|   OOP|2372748|   94|Latia Vanhoose_La...|\n",
      "| 29|Female|Latia Vanhoose|    PF|2861854|   42|Claude Panos_Nico...|\n",
      "| 29|  Male|Latia Vanhoose|   MVC|2992281|   90|Elenore Choy_Cord...|\n",
      "| 29|Female|Latia Vanhoose|   MVC|3091650|   30|Cordie Harnois_Se...|\n",
      "| 29|Female|Latia Vanhoose|   OOP|3841395|   26|Kizzy Brenner_Eda...|\n",
      "| 29|  Male|Latia Vanhoose| Cloud|4661276|   40|Jc Andrepont_Anni...|\n",
      "| 28|Female|Latia Vanhoose|   OOP|4792828|   72|Tamera Blakley_Mi...|\n",
      "| 28|Female|Latia Vanhoose|    PF|5222171|   73|Toshiko Hillyard_...|\n",
      "| 28|Female|Latia Vanhoose| Cloud|6701628|   33|Abram Nagao_Cheri...|\n",
      "| 29|Female|Latia Vanhoose|   MVC|6771882|   49|Alberta Freund_La...|\n",
      "| 28|Female|Latia Vanhoose|   MVC|7381991|   94|Eda Neathery_Mich...|\n",
      "| 29|  Male|Latia Vanhoose| Cloud|7721956|   45|Jalisa Swenson_An...|\n",
      "| 28|  Male|Latia Vanhoose|   OOP|7741757|   66|Loris Crossett_Na...|\n",
      "| 28|  Male|Latia Vanhoose|   DSA|7792270|   37|Eda Neathery_Donn...|\n",
      "| 28|  Male|Latia Vanhoose|   DSA|9442974|   29|Jc Andrepont_Cele...|\n",
      "| 28|Female|Latia Vanhoose| Cloud|9471888|   56|Naoma Fritts_Kena...|\n",
      "+---+------+--------------+------+-------+-----+--------------------+\n",
      "\n"
     ]
    }
   ],
   "source": [
    "df.filter(df.name.endswith('se')).show()"
   ]
  },
  {
   "cell_type": "code",
   "execution_count": 26,
   "id": "7db81156-1457-4aa7-b2b3-b5b3eb47aeb3",
   "metadata": {},
   "outputs": [
    {
     "name": "stdout",
     "output_type": "stream",
     "text": [
      "+---+------+------------------+------+-------+-----+--------------------+\n",
      "|age|gender|              name|course|   roll|marks|               email|\n",
      "+---+------+------------------+------+-------+-----+--------------------+\n",
      "| 28|  Male|    Celeste Lollis|    PF|  21267|   45|Jeannetta Golden_...|\n",
      "| 28|  Male|       Neda Briski|   OOP|  61973|   69|Alberta Freund_El...|\n",
      "| 28|  Male|    Celeste Lollis|   MVC|  81492|   64|Nicole Harwood_Cl...|\n",
      "| 29|  Male|    Cordie Harnois|   OOP|  92882|   51|Judie Chipps_Clem...|\n",
      "| 29|  Male|       Neda Briski|    PF| 141770|   42|Margene Moores_Mi...|\n",
      "| 29|  Male|    Loris Crossett|   MVC| 161771|   36|Mitzi Seldon_Jenn...|\n",
      "| 29|Female|    Loris Crossett|    PF| 201487|   96|Elenore Choy_Lati...|\n",
      "| 29|Female|      Paris Hutton|   DSA| 271472|   99|Sheryll Towler_Al...|\n",
      "| 28|Female|    Loris Crossett|    PF| 332739|   62|Michelle Ruggiero...|\n",
      "| 29|  Male|    Jalisa Swenson|    PF| 372873|   45|Ernest Rossbach_T...|\n",
      "| 28|Female|    Jalisa Swenson|   OOP| 431352|   25|Gonzalo Ferebee_J...|\n",
      "| 29|  Male|      Paris Hutton|    DB| 481229|   57|Clementina Menke_...|\n",
      "| 29|Female|      Paris Hutton|   DSA| 492159|   60|Nicole Harwood_Ma...|\n",
      "| 29|  Male|    Celeste Lollis|   DSA| 562065|   85|Jc Andrepont_Mela...|\n",
      "| 28|  Male|Priscila Tavernier|    PF| 642594|   27|Marylee Capasso_C...|\n",
      "| 28|Female|    Celeste Lollis|   DSA| 731879|   76|Hubert Oliveras_G...|\n",
      "| 29|  Male|      Paris Hutton|   MVC| 752504|   22|Elenore Choy_Elen...|\n",
      "| 29|  Male|       Neda Briski|    PF| 842515|   68|Neda Briski_Huber...|\n",
      "| 29|  Male|    Loris Crossett|    PF| 911593|   46|Gonzalo Ferebee_M...|\n",
      "| 28|  Male|    Jalisa Swenson|    PF|1192555|   77|Marylee Capasso_C...|\n",
      "+---+------+------------------+------+-------+-----+--------------------+\n",
      "only showing top 20 rows\n",
      "\n"
     ]
    }
   ],
   "source": [
    "df.filter(df.name.contains('is')).show()"
   ]
  },
  {
   "cell_type": "code",
   "execution_count": 30,
   "id": "ea08f8d9-14e8-4037-b6d0-3e1960c08293",
   "metadata": {},
   "outputs": [
    {
     "name": "stdout",
     "output_type": "stream",
     "text": [
      "+---+------+------------------+------+-------+-----+--------------------+\n",
      "|age|gender|              name|course|   roll|marks|               email|\n",
      "+---+------+------------------+------+-------+-----+--------------------+\n",
      "| 28|  Male|    Celeste Lollis|    PF|  21267|   45|Jeannetta Golden_...|\n",
      "| 28|  Male|    Celeste Lollis|   MVC|  81492|   64|Nicole Harwood_Cl...|\n",
      "| 28|Female|    Latia Vanhoose|    DB| 122502|   27|Latia Vanhoose_Mi...|\n",
      "| 29|Female|    Latia Vanhoose|   MVC| 132110|   55|Eda Neathery_Nico...|\n",
      "| 29|Female|    Latia Vanhoose|    DB| 152159|   27|Claude Panos_Sant...|\n",
      "| 29|  Male|    Loris Crossett|   MVC| 161771|   36|Mitzi Seldon_Jenn...|\n",
      "| 29|Female|    Loris Crossett|    PF| 201487|   96|Elenore Choy_Lati...|\n",
      "| 28|Female|    Dustin Feagins|   DSA| 291984|   82|Abram Nagao_Kena ...|\n",
      "| 28|Female|    Loris Crossett|    PF| 332739|   62|Michelle Ruggiero...|\n",
      "| 29|  Male|    Jalisa Swenson|    PF| 372873|   45|Ernest Rossbach_T...|\n",
      "| 28|Female|    Jalisa Swenson|   OOP| 431352|   25|Gonzalo Ferebee_J...|\n",
      "| 28|  Male|    Dustin Feagins|    PF| 461839|   51|Neda Briski_Eleno...|\n",
      "| 29|  Male|    Celeste Lollis|   DSA| 562065|   85|Jc Andrepont_Mela...|\n",
      "| 28|  Male|Priscila Tavernier|    PF| 642594|   27|Marylee Capasso_C...|\n",
      "| 28|Female|    Celeste Lollis|   DSA| 731879|   76|Hubert Oliveras_G...|\n",
      "| 29|  Male|    Loris Crossett|    PF| 911593|   46|Gonzalo Ferebee_M...|\n",
      "| 29|Female|    Dustin Feagins|   OOP|1161607|   37|Eda Neathery_Mary...|\n",
      "| 28|  Male|    Jalisa Swenson|    PF|1192555|   77|Marylee Capasso_C...|\n",
      "| 29|  Male|    Jalisa Swenson| Cloud|1261533|   70|Dustin Feagins_Ni...|\n",
      "| 29|  Male|    Jalisa Swenson|    PF|1332072|   88|Billi Clore_Kizzy...|\n",
      "+---+------+------------------+------+-------+-----+--------------------+\n",
      "only showing top 20 rows\n",
      "\n"
     ]
    }
   ],
   "source": [
    "df.filter(df.name.like('%s%e%')).show()"
   ]
  },
  {
   "cell_type": "code",
   "execution_count": 32,
   "id": "ca4c5b10-36b1-482d-8426-305d739999f1",
   "metadata": {},
   "outputs": [
    {
     "name": "stderr",
     "output_type": "stream",
     "text": [
      "[NbConvertApp] Converting notebook df_filter_row.ipynb to script\n",
      "[NbConvertApp] Writing 921 bytes to df_filter_row.py\n"
     ]
    }
   ],
   "source": [
    "!jupyter nbconvert --to script df_filter_row.ipynb"
   ]
  }
 ],
 "metadata": {
  "kernelspec": {
   "display_name": "Python 3 (ipykernel)",
   "language": "python",
   "name": "python3"
  },
  "language_info": {
   "codemirror_mode": {
    "name": "ipython",
    "version": 3
   },
   "file_extension": ".py",
   "mimetype": "text/x-python",
   "name": "python",
   "nbconvert_exporter": "python",
   "pygments_lexer": "ipython3",
   "version": "3.9.6"
  }
 },
 "nbformat": 4,
 "nbformat_minor": 5
}