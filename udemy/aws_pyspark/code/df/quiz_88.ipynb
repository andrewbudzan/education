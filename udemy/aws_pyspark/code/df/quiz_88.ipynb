{
 "cells": [
  {
   "cell_type": "code",
   "execution_count": 1,
   "id": "405cd9d1-41dd-42af-ad03-6422a22bd740",
   "metadata": {},
   "outputs": [],
   "source": [
    "from pyspark.sql import SparkSession\n",
    "from pyspark.sql.functions import col, lit, udf\n",
    "from pyspark.sql.types import IntegerType\n",
    "\n",
    "spark = SparkSession.builder.appName('Spark DF').getOrCreate()\n",
    "spark.conf.set('spark.sql.repl.eagerEval.enabled', True) \n",
    "spark.conf.set('spark.sql.repl.eagerEval.maxNumRows', 10)\n",
    "fp = '../FileStore/tables/OfficeData.csv'\n",
    "df = spark.read.options(header=True, inferSchema=True).csv(fp)"
   ]
  },
  {
   "cell_type": "code",
   "execution_count": 46,
   "id": "15ed22ba-ea46-4958-a77e-9037ac9dd315",
   "metadata": {},
   "outputs": [
    {
     "data": {
      "text/html": [
       "<table border='1'>\n",
       "<tr><th>employee_name</th><th>department</th><th>state</th><th>salary</th><th>age</th><th>bonus</th><th>increment</th></tr>\n",
       "<tr><td>James</td><td>Sales</td><td>NY</td><td>90000</td><td>34</td><td>10000</td><td>9500.0</td></tr>\n",
       "<tr><td>Michael</td><td>Sales</td><td>NY</td><td>86000</td><td>56</td><td>20000</td><td>9600.0</td></tr>\n",
       "<tr><td>Robert</td><td>Sales</td><td>CA</td><td>81000</td><td>30</td><td>23000</td><td>10410.0</td></tr>\n",
       "<tr><td>Maria</td><td>Finance</td><td>CA</td><td>90000</td><td>24</td><td>23000</td><td>11490.0</td></tr>\n",
       "<tr><td>Raman</td><td>Finance</td><td>CA</td><td>99000</td><td>40</td><td>24000</td><td>12600.0</td></tr>\n",
       "<tr><td>Scott</td><td>Finance</td><td>NY</td><td>83000</td><td>36</td><td>19000</td><td>9250.0</td></tr>\n",
       "<tr><td>Jen</td><td>Finance</td><td>NY</td><td>79000</td><td>53</td><td>15000</td><td>8650.0</td></tr>\n",
       "<tr><td>Jeff</td><td>Marketing</td><td>CA</td><td>80000</td><td>25</td><td>18000</td><td>10140.0</td></tr>\n",
       "<tr><td>Kumar</td><td>Marketing</td><td>NY</td><td>91000</td><td>50</td><td>21000</td><td>10150.0</td></tr>\n",
       "</table>\n"
      ],
      "text/plain": [
       "+-------------+----------+-----+------+---+-----+---------+\n",
       "|employee_name|department|state|salary|age|bonus|increment|\n",
       "+-------------+----------+-----+------+---+-----+---------+\n",
       "|        James|     Sales|   NY| 90000| 34|10000|   9500.0|\n",
       "|      Michael|     Sales|   NY| 86000| 56|20000|   9600.0|\n",
       "|       Robert|     Sales|   CA| 81000| 30|23000|  10410.0|\n",
       "|        Maria|   Finance|   CA| 90000| 24|23000|  11490.0|\n",
       "|        Raman|   Finance|   CA| 99000| 40|24000|  12600.0|\n",
       "|        Scott|   Finance|   NY| 83000| 36|19000|   9250.0|\n",
       "|          Jen|   Finance|   NY| 79000| 53|15000|   8650.0|\n",
       "|         Jeff| Marketing|   CA| 80000| 25|18000|  10140.0|\n",
       "|        Kumar| Marketing|   NY| 91000| 50|21000|  10150.0|\n",
       "+-------------+----------+-----+------+---+-----+---------+"
      ]
     },
     "execution_count": 46,
     "metadata": {},
     "output_type": "execute_result"
    }
   ],
   "source": [
    "@udf\n",
    "def calc_increment(state, salary, bonus):\n",
    "    def increment(x, y):\n",
    "        return salary * x + bonus * y\n",
    "    return increment(0.1, 0.05) if state == 'NY' else increment(0.12, 0.03)\n",
    "\n",
    "df.withColumn('increment', calc_increment(col('state'), col('salary'), col('bonus')))"
   ]
  },
  {
   "cell_type": "code",
   "execution_count": 48,
   "id": "e18f567f-ee54-42a7-bd3c-954d09257359",
   "metadata": {},
   "outputs": [
    {
     "data": {
      "text/html": [
       "<table border='1'>\n",
       "<tr><th>employee_name</th><th>department</th><th>state</th><th>salary</th><th>age</th><th>bonus</th><th>increment</th></tr>\n",
       "<tr><td>James</td><td>Sales</td><td>NY</td><td>90000</td><td>34</td><td>10000</td><td>9500.0</td></tr>\n",
       "<tr><td>Michael</td><td>Sales</td><td>NY</td><td>86000</td><td>56</td><td>20000</td><td>9600.0</td></tr>\n",
       "<tr><td>Robert</td><td>Sales</td><td>CA</td><td>81000</td><td>30</td><td>23000</td><td>10410.0</td></tr>\n",
       "<tr><td>Maria</td><td>Finance</td><td>CA</td><td>90000</td><td>24</td><td>23000</td><td>11490.0</td></tr>\n",
       "<tr><td>Raman</td><td>Finance</td><td>CA</td><td>99000</td><td>40</td><td>24000</td><td>12600.0</td></tr>\n",
       "<tr><td>Scott</td><td>Finance</td><td>NY</td><td>83000</td><td>36</td><td>19000</td><td>9250.0</td></tr>\n",
       "<tr><td>Jen</td><td>Finance</td><td>NY</td><td>79000</td><td>53</td><td>15000</td><td>8650.0</td></tr>\n",
       "<tr><td>Jeff</td><td>Marketing</td><td>CA</td><td>80000</td><td>25</td><td>18000</td><td>10140.0</td></tr>\n",
       "<tr><td>Kumar</td><td>Marketing</td><td>NY</td><td>91000</td><td>50</td><td>21000</td><td>10150.0</td></tr>\n",
       "</table>\n"
      ],
      "text/plain": [
       "+-------------+----------+-----+------+---+-----+---------+\n",
       "|employee_name|department|state|salary|age|bonus|increment|\n",
       "+-------------+----------+-----+------+---+-----+---------+\n",
       "|        James|     Sales|   NY| 90000| 34|10000|   9500.0|\n",
       "|      Michael|     Sales|   NY| 86000| 56|20000|   9600.0|\n",
       "|       Robert|     Sales|   CA| 81000| 30|23000|  10410.0|\n",
       "|        Maria|   Finance|   CA| 90000| 24|23000|  11490.0|\n",
       "|        Raman|   Finance|   CA| 99000| 40|24000|  12600.0|\n",
       "|        Scott|   Finance|   NY| 83000| 36|19000|   9250.0|\n",
       "|          Jen|   Finance|   NY| 79000| 53|15000|   8650.0|\n",
       "|         Jeff| Marketing|   CA| 80000| 25|18000|  10140.0|\n",
       "|        Kumar| Marketing|   NY| 91000| 50|21000|  10150.0|\n",
       "+-------------+----------+-----+------+---+-----+---------+"
      ]
     },
     "execution_count": 48,
     "metadata": {},
     "output_type": "execute_result"
    }
   ],
   "source": [
    "increment_udf = udf(lambda st, sal, bon: (sal * 0.1 + bon * 0.05) if st == 'NY' else (sal * 0.12 + bon * 0.03))\n",
    "\n",
    "df.withColumn('increment', increment_udf(col('state'), col('salary'), col('bonus')))"
   ]
  },
  {
   "cell_type": "code",
   "execution_count": 45,
   "id": "9d7a0be4-089a-458a-832a-1725dd20ebec",
   "metadata": {},
   "outputs": [
    {
     "data": {
      "text/html": [
       "<table border='1'>\n",
       "<tr><th>employee_name</th><th>department</th><th>state</th><th>salary</th><th>age</th><th>bonus</th><th>increment</th></tr>\n",
       "<tr><td>James</td><td>Sales</td><td>NY</td><td>90000</td><td>34</td><td>10000</td><td>9500.0</td></tr>\n",
       "<tr><td>Michael</td><td>Sales</td><td>NY</td><td>86000</td><td>56</td><td>20000</td><td>9600.0</td></tr>\n",
       "<tr><td>Robert</td><td>Sales</td><td>CA</td><td>81000</td><td>30</td><td>23000</td><td>10410.0</td></tr>\n",
       "<tr><td>Maria</td><td>Finance</td><td>CA</td><td>90000</td><td>24</td><td>23000</td><td>11490.0</td></tr>\n",
       "<tr><td>Raman</td><td>Finance</td><td>CA</td><td>99000</td><td>40</td><td>24000</td><td>12600.0</td></tr>\n",
       "<tr><td>Scott</td><td>Finance</td><td>NY</td><td>83000</td><td>36</td><td>19000</td><td>9250.0</td></tr>\n",
       "<tr><td>Jen</td><td>Finance</td><td>NY</td><td>79000</td><td>53</td><td>15000</td><td>8650.0</td></tr>\n",
       "<tr><td>Jeff</td><td>Marketing</td><td>CA</td><td>80000</td><td>25</td><td>18000</td><td>10140.0</td></tr>\n",
       "<tr><td>Kumar</td><td>Marketing</td><td>NY</td><td>91000</td><td>50</td><td>21000</td><td>10150.0</td></tr>\n",
       "</table>\n"
      ],
      "text/plain": [
       "+-------------+----------+-----+------+---+-----+---------+\n",
       "|employee_name|department|state|salary|age|bonus|increment|\n",
       "+-------------+----------+-----+------+---+-----+---------+\n",
       "|        James|     Sales|   NY| 90000| 34|10000|   9500.0|\n",
       "|      Michael|     Sales|   NY| 86000| 56|20000|   9600.0|\n",
       "|       Robert|     Sales|   CA| 81000| 30|23000|  10410.0|\n",
       "|        Maria|   Finance|   CA| 90000| 24|23000|  11490.0|\n",
       "|        Raman|   Finance|   CA| 99000| 40|24000|  12600.0|\n",
       "|        Scott|   Finance|   NY| 83000| 36|19000|   9250.0|\n",
       "|          Jen|   Finance|   NY| 79000| 53|15000|   8650.0|\n",
       "|         Jeff| Marketing|   CA| 80000| 25|18000|  10140.0|\n",
       "|        Kumar| Marketing|   NY| 91000| 50|21000|  10150.0|\n",
       "+-------------+----------+-----+------+---+-----+---------+"
      ]
     },
     "execution_count": 45,
     "metadata": {},
     "output_type": "execute_result"
    }
   ],
   "source": []
  }
 ],
 "metadata": {
  "kernelspec": {
   "display_name": "Python 3 (ipykernel)",
   "language": "python",
   "name": "python3"
  },
  "language_info": {
   "codemirror_mode": {
    "name": "ipython",
    "version": 3
   },
   "file_extension": ".py",
   "mimetype": "text/x-python",
   "name": "python",
   "nbconvert_exporter": "python",
   "pygments_lexer": "ipython3",
   "version": "3.9.6"
  }
 },
 "nbformat": 4,
 "nbformat_minor": 5
}
