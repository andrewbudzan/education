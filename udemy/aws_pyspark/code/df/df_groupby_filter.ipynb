{
 "cells": [
  {
   "cell_type": "code",
   "execution_count": 7,
   "id": "405cd9d1-41dd-42af-ad03-6422a22bd740",
   "metadata": {},
   "outputs": [],
   "source": [
    "from pyspark.sql import SparkSession\n",
    "from pyspark.sql.functions import col, lit, sum, avg, max, min, mean, count\n",
    "spark = SparkSession.builder.appName('Spark DF').getOrCreate()\n",
    "spark.conf.set('spark.sql.repl.eagerEval.enabled', True)\n",
    "spark.conf.set('spark.sql.repl.eagerEval.maxNumRows', 10)\n",
    "fp = '../FileStore/tables/StudentData.csv'\n",
    "df = spark.read.options(header=True, inferSchema=True).csv(fp)"
   ]
  },
  {
   "cell_type": "code",
   "execution_count": 10,
   "id": "4ec0809f-1b9f-424f-9f08-8621e2d84635",
   "metadata": {},
   "outputs": [],
   "source": [
    "df2 = df.filter(col('gender') == 'Male')"
   ]
  },
  {
   "cell_type": "code",
   "execution_count": 15,
   "id": "7bf40180-2810-4024-be90-cd65bfbb9e71",
   "metadata": {},
   "outputs": [],
   "source": [
    "df3 = df2.groupBy('course', 'gender').agg(count('*').alias('total_enrollments'))"
   ]
  },
  {
   "cell_type": "code",
   "execution_count": 18,
   "id": "cfd79c34-6011-4e3e-9ed0-4b4bcc089390",
   "metadata": {},
   "outputs": [
    {
     "name": "stdout",
     "output_type": "stream",
     "text": [
      "+------+------+-----------------+\n",
      "|course|gender|total_enrollments|\n",
      "+------+------+-----------------+\n",
      "|   MVC|  Male|               86|\n",
      "|    PF|  Male|               97|\n",
      "| Cloud|  Male|               86|\n",
      "+------+------+-----------------+\n",
      "\n"
     ]
    }
   ],
   "source": [
    "df3.where(df3.total_enrollments > 85).show()"
   ]
  },
  {
   "cell_type": "code",
   "execution_count": 19,
   "id": "b4d2ea47-c768-47bc-a15c-88e384fd7094",
   "metadata": {},
   "outputs": [
    {
     "name": "stdout",
     "output_type": "stream",
     "text": [
      "+------+------+-----------------+\n",
      "|course|gender|total_enrollments|\n",
      "+------+------+-----------------+\n",
      "|   MVC|  Male|               86|\n",
      "|    PF|  Male|               97|\n",
      "| Cloud|  Male|               86|\n",
      "+------+------+-----------------+\n",
      "\n"
     ]
    }
   ],
   "source": [
    "df3.filter(df3.total_enrollments > 85).show()"
   ]
  }
 ],
 "metadata": {
  "kernelspec": {
   "display_name": "Python 3 (ipykernel)",
   "language": "python",
   "name": "python3"
  },
  "language_info": {
   "codemirror_mode": {
    "name": "ipython",
    "version": 3
   },
   "file_extension": ".py",
   "mimetype": "text/x-python",
   "name": "python",
   "nbconvert_exporter": "python",
   "pygments_lexer": "ipython3",
   "version": "3.9.6"
  }
 },
 "nbformat": 4,
 "nbformat_minor": 5
}
