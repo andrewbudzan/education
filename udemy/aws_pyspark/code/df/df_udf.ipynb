{
 "cells": [
  {
   "cell_type": "code",
   "execution_count": 7,
   "id": "405cd9d1-41dd-42af-ad03-6422a22bd740",
   "metadata": {},
   "outputs": [],
   "source": [
    "from pyspark.sql import SparkSession\n",
    "from pyspark.sql.functions import col, lit, udf\n",
    "from pyspark.sql.types import IntegerType\n",
    "\n",
    "spark = SparkSession.builder.appName('Spark DF').getOrCreate()\n",
    "\n",
    "\n",
    "\n",
    "spark.conf.set('spark.sql.repl.eagerEval.enabled', True)\n",
    "spark.conf.set('spark.sql.repl.eagerEval.maxNumRows', 10)\n",
    "fp = '../FileStore/tables/OfficeData.csv'\n",
    "df = spark.read.options(header=True, inferSchema=True).csv(fp)"
   ]
  },
  {
   "cell_type": "code",
   "execution_count": 8,
   "id": "15ed22ba-ea46-4958-a77e-9037ac9dd315",
   "metadata": {},
   "outputs": [
    {
     "data": {
      "text/html": [
       "<table border='1'>\n",
       "<tr><th>employee_name</th><th>department</th><th>state</th><th>salary</th><th>age</th><th>bonus</th></tr>\n",
       "<tr><td>James</td><td>Sales</td><td>NY</td><td>90000</td><td>34</td><td>10000</td></tr>\n",
       "<tr><td>Michael</td><td>Sales</td><td>NY</td><td>86000</td><td>56</td><td>20000</td></tr>\n",
       "<tr><td>Robert</td><td>Sales</td><td>CA</td><td>81000</td><td>30</td><td>23000</td></tr>\n",
       "<tr><td>Maria</td><td>Finance</td><td>CA</td><td>90000</td><td>24</td><td>23000</td></tr>\n",
       "<tr><td>Raman</td><td>Finance</td><td>CA</td><td>99000</td><td>40</td><td>24000</td></tr>\n",
       "<tr><td>Scott</td><td>Finance</td><td>NY</td><td>83000</td><td>36</td><td>19000</td></tr>\n",
       "<tr><td>Jen</td><td>Finance</td><td>NY</td><td>79000</td><td>53</td><td>15000</td></tr>\n",
       "<tr><td>Jeff</td><td>Marketing</td><td>CA</td><td>80000</td><td>25</td><td>18000</td></tr>\n",
       "<tr><td>Kumar</td><td>Marketing</td><td>NY</td><td>91000</td><td>50</td><td>21000</td></tr>\n",
       "</table>\n"
      ],
      "text/plain": [
       "+-------------+----------+-----+------+---+-----+\n",
       "|employee_name|department|state|salary|age|bonus|\n",
       "+-------------+----------+-----+------+---+-----+\n",
       "|        James|     Sales|   NY| 90000| 34|10000|\n",
       "|      Michael|     Sales|   NY| 86000| 56|20000|\n",
       "|       Robert|     Sales|   CA| 81000| 30|23000|\n",
       "|        Maria|   Finance|   CA| 90000| 24|23000|\n",
       "|        Raman|   Finance|   CA| 99000| 40|24000|\n",
       "|        Scott|   Finance|   NY| 83000| 36|19000|\n",
       "|          Jen|   Finance|   NY| 79000| 53|15000|\n",
       "|         Jeff| Marketing|   CA| 80000| 25|18000|\n",
       "|        Kumar| Marketing|   NY| 91000| 50|21000|\n",
       "+-------------+----------+-----+------+---+-----+"
      ]
     },
     "execution_count": 8,
     "metadata": {},
     "output_type": "execute_result"
    }
   ],
   "source": [
    "df"
   ]
  },
  {
   "cell_type": "code",
   "execution_count": 13,
   "id": "b0f5f5c0-9ce4-4bdb-88ad-36c9d2994a71",
   "metadata": {},
   "outputs": [
    {
     "data": {
      "text/html": [
       "<table border='1'>\n",
       "<tr><th>employee_name</th><th>department</th><th>state</th><th>salary</th><th>age</th><th>bonus</th><th>total_salary</th></tr>\n",
       "<tr><td>James</td><td>Sales</td><td>NY</td><td>90000</td><td>34</td><td>10000</td><td>100000</td></tr>\n",
       "<tr><td>Michael</td><td>Sales</td><td>NY</td><td>86000</td><td>56</td><td>20000</td><td>106000</td></tr>\n",
       "<tr><td>Robert</td><td>Sales</td><td>CA</td><td>81000</td><td>30</td><td>23000</td><td>104000</td></tr>\n",
       "<tr><td>Maria</td><td>Finance</td><td>CA</td><td>90000</td><td>24</td><td>23000</td><td>113000</td></tr>\n",
       "<tr><td>Raman</td><td>Finance</td><td>CA</td><td>99000</td><td>40</td><td>24000</td><td>123000</td></tr>\n",
       "<tr><td>Scott</td><td>Finance</td><td>NY</td><td>83000</td><td>36</td><td>19000</td><td>102000</td></tr>\n",
       "<tr><td>Jen</td><td>Finance</td><td>NY</td><td>79000</td><td>53</td><td>15000</td><td>94000</td></tr>\n",
       "<tr><td>Jeff</td><td>Marketing</td><td>CA</td><td>80000</td><td>25</td><td>18000</td><td>98000</td></tr>\n",
       "<tr><td>Kumar</td><td>Marketing</td><td>NY</td><td>91000</td><td>50</td><td>21000</td><td>112000</td></tr>\n",
       "</table>\n"
      ],
      "text/plain": [
       "+-------------+----------+-----+------+---+-----+------------+\n",
       "|employee_name|department|state|salary|age|bonus|total_salary|\n",
       "+-------------+----------+-----+------+---+-----+------------+\n",
       "|        James|     Sales|   NY| 90000| 34|10000|      100000|\n",
       "|      Michael|     Sales|   NY| 86000| 56|20000|      106000|\n",
       "|       Robert|     Sales|   CA| 81000| 30|23000|      104000|\n",
       "|        Maria|   Finance|   CA| 90000| 24|23000|      113000|\n",
       "|        Raman|   Finance|   CA| 99000| 40|24000|      123000|\n",
       "|        Scott|   Finance|   NY| 83000| 36|19000|      102000|\n",
       "|          Jen|   Finance|   NY| 79000| 53|15000|       94000|\n",
       "|         Jeff| Marketing|   CA| 80000| 25|18000|       98000|\n",
       "|        Kumar| Marketing|   NY| 91000| 50|21000|      112000|\n",
       "+-------------+----------+-----+------+---+-----+------------+"
      ]
     },
     "execution_count": 13,
     "metadata": {},
     "output_type": "execute_result"
    }
   ],
   "source": [
    "def get_salary(salary, bonus):\n",
    "    return salary + bonus\n",
    "\n",
    "total_salary_UDF = udf(lambda x, y: get_salary(x, y), IntegerType())\n",
    "\n",
    "\n",
    "df.withColumn('total_salary', total_salary_UDF(col('salary'), col('bonus')))\n"
   ]
  },
  {
   "cell_type": "code",
   "execution_count": 15,
   "id": "be1661c3-79de-4c6b-8eec-357d302463bc",
   "metadata": {},
   "outputs": [
    {
     "data": {
      "text/html": [
       "<table border='1'>\n",
       "<tr><th>employee_name</th><th>department</th><th>state</th><th>salary</th><th>age</th><th>bonus</th><th>full_name</th></tr>\n",
       "<tr><td>James</td><td>Sales</td><td>NY</td><td>90000</td><td>34</td><td>10000</td><td>james SEMAJ</td></tr>\n",
       "<tr><td>Michael</td><td>Sales</td><td>NY</td><td>86000</td><td>56</td><td>20000</td><td>michael LEAHCIM</td></tr>\n",
       "<tr><td>Robert</td><td>Sales</td><td>CA</td><td>81000</td><td>30</td><td>23000</td><td>robert TREBOR</td></tr>\n",
       "<tr><td>Maria</td><td>Finance</td><td>CA</td><td>90000</td><td>24</td><td>23000</td><td>maria AIRAM</td></tr>\n",
       "<tr><td>Raman</td><td>Finance</td><td>CA</td><td>99000</td><td>40</td><td>24000</td><td>raman NAMAR</td></tr>\n",
       "<tr><td>Scott</td><td>Finance</td><td>NY</td><td>83000</td><td>36</td><td>19000</td><td>scott TTOCS</td></tr>\n",
       "<tr><td>Jen</td><td>Finance</td><td>NY</td><td>79000</td><td>53</td><td>15000</td><td>jen NEJ</td></tr>\n",
       "<tr><td>Jeff</td><td>Marketing</td><td>CA</td><td>80000</td><td>25</td><td>18000</td><td>jeff FFEJ</td></tr>\n",
       "<tr><td>Kumar</td><td>Marketing</td><td>NY</td><td>91000</td><td>50</td><td>21000</td><td>kumar RAMUK</td></tr>\n",
       "</table>\n"
      ],
      "text/plain": [
       "+-------------+----------+-----+------+---+-----+---------------+\n",
       "|employee_name|department|state|salary|age|bonus|      full_name|\n",
       "+-------------+----------+-----+------+---+-----+---------------+\n",
       "|        James|     Sales|   NY| 90000| 34|10000|    james SEMAJ|\n",
       "|      Michael|     Sales|   NY| 86000| 56|20000|michael LEAHCIM|\n",
       "|       Robert|     Sales|   CA| 81000| 30|23000|  robert TREBOR|\n",
       "|        Maria|   Finance|   CA| 90000| 24|23000|    maria AIRAM|\n",
       "|        Raman|   Finance|   CA| 99000| 40|24000|    raman NAMAR|\n",
       "|        Scott|   Finance|   NY| 83000| 36|19000|    scott TTOCS|\n",
       "|          Jen|   Finance|   NY| 79000| 53|15000|        jen NEJ|\n",
       "|         Jeff| Marketing|   CA| 80000| 25|18000|      jeff FFEJ|\n",
       "|        Kumar| Marketing|   NY| 91000| 50|21000|    kumar RAMUK|\n",
       "+-------------+----------+-----+------+---+-----+---------------+"
      ]
     },
     "execution_count": 15,
     "metadata": {},
     "output_type": "execute_result"
    }
   ],
   "source": [
    "@udf\n",
    "def get_fullname(x, y):\n",
    "    return f'{x.lower()} {y.upper()[::-1]}'\n",
    "\n",
    "df.withColumn('full_name', get_fullname(col('employee_name'), col('employee_name')))"
   ]
  }
 ],
 "metadata": {
  "kernelspec": {
   "display_name": "Python 3 (ipykernel)",
   "language": "python",
   "name": "python3"
  },
  "language_info": {
   "codemirror_mode": {
    "name": "ipython",
    "version": 3
   },
   "file_extension": ".py",
   "mimetype": "text/x-python",
   "name": "python",
   "nbconvert_exporter": "python",
   "pygments_lexer": "ipython3",
   "version": "3.9.6"
  }
 },
 "nbformat": 4,
 "nbformat_minor": 5
}
