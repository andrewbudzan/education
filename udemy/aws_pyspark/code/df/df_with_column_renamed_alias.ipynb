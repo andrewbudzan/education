{
 "cells": [
  {
   "cell_type": "code",
   "execution_count": 3,
   "id": "5182d416-a9dd-42b5-9340-077767ce5e74",
   "metadata": {
    "tags": []
   },
   "outputs": [],
   "source": [
    "from pyspark.sql import SparkSession\n",
    "from pyspark.sql.functions import col, lit\n",
    "spark = SparkSession.builder.appName('Spark DF').getOrCreate()\n",
    "spark.conf.set('spark.sql.repl.eagerEval.enabled', True)\n",
    "spark.conf.set('spark.sql.repl.eagerEval.maxNumRows', 10)\n",
    "\n",
    "fp = '../FileStore/tables/StudentData.csv'"
   ]
  },
  {
   "cell_type": "code",
   "execution_count": 9,
   "id": "e10ce50d-a5db-4d8a-8b0c-5a6ec4389db4",
   "metadata": {},
   "outputs": [
    {
     "name": "stdout",
     "output_type": "stream",
     "text": [
      "+---+------+----------------+------+-----+-----+--------------------+\n",
      "|age|gender|            name|course| roll|marks|               email|\n",
      "+---+------+----------------+------+-----+-----+--------------------+\n",
      "| 28|Female| Hubert Oliveras|    DB| 2984|   59|Annika Hoffman_Na...|\n",
      "| 29|Female|Toshiko Hillyard| Cloud|12899|   62|Margene Moores_Ma...|\n",
      "| 28|  Male|  Celeste Lollis|    PF|21267|   45|Jeannetta Golden_...|\n",
      "| 29|Female|    Elenore Choy|    DB|32877|   29|Billi Clore_Mitzi...|\n",
      "| 28|  Male|  Sheryll Towler|   DSA|41487|   41|Claude Panos_Judi...|\n",
      "+---+------+----------------+------+-----+-----+--------------------+\n",
      "only showing top 5 rows\n",
      "\n"
     ]
    }
   ],
   "source": [
    "df = spark.read.options(header=True, inferSchema=True).csv(fp)\n",
    "df.show(5)"
   ]
  },
  {
   "cell_type": "code",
   "execution_count": 10,
   "id": "39a9e967-c8da-4d25-83b3-835b3701328e",
   "metadata": {},
   "outputs": [
    {
     "name": "stdout",
     "output_type": "stream",
     "text": [
      "+---+------+----------------+------+-----------+-----+--------------------+\n",
      "|age|   sex|            name|course|roll_number|marks|               email|\n",
      "+---+------+----------------+------+-----------+-----+--------------------+\n",
      "| 28|Female| Hubert Oliveras|    DB|       2984|   59|Annika Hoffman_Na...|\n",
      "| 29|Female|Toshiko Hillyard| Cloud|      12899|   62|Margene Moores_Ma...|\n",
      "| 28|  Male|  Celeste Lollis|    PF|      21267|   45|Jeannetta Golden_...|\n",
      "| 29|Female|    Elenore Choy|    DB|      32877|   29|Billi Clore_Mitzi...|\n",
      "| 28|  Male|  Sheryll Towler|   DSA|      41487|   41|Claude Panos_Judi...|\n",
      "| 28|  Male|  Margene Moores|   MVC|      52771|   32|Toshiko Hillyard_...|\n",
      "| 28|  Male|     Neda Briski|   OOP|      61973|   69|Alberta Freund_El...|\n",
      "| 28|Female|    Claude Panos| Cloud|      72409|   85|Sheryll Towler_Al...|\n",
      "| 28|  Male|  Celeste Lollis|   MVC|      81492|   64|Nicole Harwood_Cl...|\n",
      "| 29|  Male|  Cordie Harnois|   OOP|      92882|   51|Judie Chipps_Clem...|\n",
      "| 29|Female|       Kena Wild|   DSA|     102285|   35|Dustin Feagins_Ma...|\n",
      "| 29|  Male| Ernest Rossbach|    DB|     111449|   53|Maybell Duguay_Ab...|\n",
      "| 28|Female|  Latia Vanhoose|    DB|     122502|   27|Latia Vanhoose_Mi...|\n",
      "| 29|Female|  Latia Vanhoose|   MVC|     132110|   55|Eda Neathery_Nico...|\n",
      "| 29|  Male|     Neda Briski|    PF|     141770|   42|Margene Moores_Mi...|\n",
      "| 29|Female|  Latia Vanhoose|    DB|     152159|   27|Claude Panos_Sant...|\n",
      "| 29|  Male|  Loris Crossett|   MVC|     161771|   36|Mitzi Seldon_Jenn...|\n",
      "| 29|  Male|  Annika Hoffman|   OOP|     171660|   22|Taryn Brownlee_Mi...|\n",
      "| 29|  Male|   Santa Kerfien|    PF|     182129|   56|Judie Chipps_Tary...|\n",
      "| 28|Female|Mickey Cortright|    DB|     192537|   62|Ernest Rossbach_M...|\n",
      "+---+------+----------------+------+-----------+-----+--------------------+\n",
      "only showing top 20 rows\n",
      "\n"
     ]
    }
   ],
   "source": [
    "df.withColumnRenamed(\"gender\", \"sex\").withColumnRenamed(\"roll\", \"roll_number\").show()"
   ]
  },
  {
   "cell_type": "code",
   "execution_count": 18,
   "id": "58b49f66-ce19-43ff-b4f4-acf8744e95ba",
   "metadata": {},
   "outputs": [],
   "source": [
    "df2 = df.withColumnRenamed(\"gender\", \"sex\").withColumnRenamed(\"name\", \"full_name\")"
   ]
  },
  {
   "cell_type": "code",
   "execution_count": 45,
   "id": "379ceeaf-cb0b-4363-a147-e1aec78c6338",
   "metadata": {},
   "outputs": [
    {
     "data": {
      "text/html": [
       "<table border='1'>\n",
       "<tr><th>age</th><th>gender</th><th>name</th><th>course</th><th>roll</th><th>marks</th><th>email</th><th>mrks2</th></tr>\n",
       "<tr><td>28</td><td>Female</td><td>Hubert Oliveras</td><td>DB</td><td>2984</td><td>59</td><td>Annika Hoffman_Na...</td><td>-51.92</td></tr>\n",
       "<tr><td>29</td><td>Female</td><td>Toshiko Hillyard</td><td>Cloud</td><td>12899</td><td>62</td><td>Margene Moores_Ma...</td><td>-54.56</td></tr>\n",
       "<tr><td>28</td><td>Male</td><td>Celeste Lollis</td><td>PF</td><td>21267</td><td>45</td><td>Jeannetta Golden_...</td><td>-39.6</td></tr>\n",
       "<tr><td>29</td><td>Female</td><td>Elenore Choy</td><td>DB</td><td>32877</td><td>29</td><td>Billi Clore_Mitzi...</td><td>-25.52</td></tr>\n",
       "<tr><td>28</td><td>Male</td><td>Sheryll Towler</td><td>DSA</td><td>41487</td><td>41</td><td>Claude Panos_Judi...</td><td>-36.08</td></tr>\n",
       "<tr><td>28</td><td>Male</td><td>Margene Moores</td><td>MVC</td><td>52771</td><td>32</td><td>Toshiko Hillyard_...</td><td>-28.16</td></tr>\n",
       "<tr><td>28</td><td>Male</td><td>Neda Briski</td><td>OOP</td><td>61973</td><td>69</td><td>Alberta Freund_El...</td><td>-60.72</td></tr>\n",
       "<tr><td>28</td><td>Female</td><td>Claude Panos</td><td>Cloud</td><td>72409</td><td>85</td><td>Sheryll Towler_Al...</td><td>-74.8</td></tr>\n",
       "<tr><td>28</td><td>Male</td><td>Celeste Lollis</td><td>MVC</td><td>81492</td><td>64</td><td>Nicole Harwood_Cl...</td><td>-56.32</td></tr>\n",
       "<tr><td>29</td><td>Male</td><td>Cordie Harnois</td><td>OOP</td><td>92882</td><td>51</td><td>Judie Chipps_Clem...</td><td>-44.88</td></tr>\n",
       "</table>\n",
       "only showing top 10 rows\n"
      ],
      "text/plain": [
       "+---+------+----------------+------+-----+-----+--------------------+------+\n",
       "|age|gender|            name|course| roll|marks|               email| mrks2|\n",
       "+---+------+----------------+------+-----+-----+--------------------+------+\n",
       "| 28|Female| Hubert Oliveras|    DB| 2984|   59|Annika Hoffman_Na...|-51.92|\n",
       "| 29|Female|Toshiko Hillyard| Cloud|12899|   62|Margene Moores_Ma...|-54.56|\n",
       "| 28|  Male|  Celeste Lollis|    PF|21267|   45|Jeannetta Golden_...| -39.6|\n",
       "| 29|Female|    Elenore Choy|    DB|32877|   29|Billi Clore_Mitzi...|-25.52|\n",
       "| 28|  Male|  Sheryll Towler|   DSA|41487|   41|Claude Panos_Judi...|-36.08|\n",
       "| 28|  Male|  Margene Moores|   MVC|52771|   32|Toshiko Hillyard_...|-28.16|\n",
       "| 28|  Male|     Neda Briski|   OOP|61973|   69|Alberta Freund_El...|-60.72|\n",
       "| 28|Female|    Claude Panos| Cloud|72409|   85|Sheryll Towler_Al...| -74.8|\n",
       "| 28|  Male|  Celeste Lollis|   MVC|81492|   64|Nicole Harwood_Cl...|-56.32|\n",
       "| 29|  Male|  Cordie Harnois|   OOP|92882|   51|Judie Chipps_Clem...|-44.88|\n",
       "+---+------+----------------+------+-----+-----+--------------------+------+\n",
       "only showing top 10 rows"
      ]
     },
     "execution_count": 45,
     "metadata": {},
     "output_type": "execute_result"
    }
   ],
   "source": [
    "df.withColumn('mrks2', ((col('marks') * 0.6 / 5) - col('marks')))"
   ]
  },
  {
   "cell_type": "code",
   "execution_count": 51,
   "id": "d5e7dc89-6ae2-4591-bf5c-ad60a6c3cce6",
   "metadata": {},
   "outputs": [
    {
     "data": {
      "text/html": [
       "<table border='1'>\n",
       "<tr><th>FULL_NAME</th><th>AGE</th><th>GENDER</th></tr>\n",
       "<tr><td>Hubert Oliveras</td><td>56</td><td>Female</td></tr>\n",
       "<tr><td>Toshiko Hillyard</td><td>58</td><td>Female</td></tr>\n",
       "<tr><td>Celeste Lollis</td><td>56</td><td>Male</td></tr>\n",
       "<tr><td>Elenore Choy</td><td>58</td><td>Female</td></tr>\n",
       "<tr><td>Sheryll Towler</td><td>56</td><td>Male</td></tr>\n",
       "<tr><td>Margene Moores</td><td>56</td><td>Male</td></tr>\n",
       "<tr><td>Neda Briski</td><td>56</td><td>Male</td></tr>\n",
       "<tr><td>Claude Panos</td><td>56</td><td>Female</td></tr>\n",
       "<tr><td>Celeste Lollis</td><td>56</td><td>Male</td></tr>\n",
       "<tr><td>Cordie Harnois</td><td>58</td><td>Male</td></tr>\n",
       "</table>\n",
       "only showing top 10 rows\n"
      ],
      "text/plain": [
       "+----------------+---+------+\n",
       "|       FULL_NAME|AGE|GENDER|\n",
       "+----------------+---+------+\n",
       "| Hubert Oliveras| 56|Female|\n",
       "|Toshiko Hillyard| 58|Female|\n",
       "|  Celeste Lollis| 56|  Male|\n",
       "|    Elenore Choy| 58|Female|\n",
       "|  Sheryll Towler| 56|  Male|\n",
       "|  Margene Moores| 56|  Male|\n",
       "|     Neda Briski| 56|  Male|\n",
       "|    Claude Panos| 56|Female|\n",
       "|  Celeste Lollis| 56|  Male|\n",
       "|  Cordie Harnois| 58|  Male|\n",
       "+----------------+---+------+\n",
       "only showing top 10 rows"
      ]
     },
     "execution_count": 51,
     "metadata": {},
     "output_type": "execute_result"
    }
   ],
   "source": [
    "df.select(col('name').alias('FULL_NAME'), (col('age') * 2).alias(\"AGE\"), col('gender').alias('GENDER'))"
   ]
  },
  {
   "cell_type": "code",
   "execution_count": 52,
   "id": "11a6b3a6-d209-43d1-b334-fc7b7d1ee551",
   "metadata": {},
   "outputs": [
    {
     "name": "stderr",
     "output_type": "stream",
     "text": [
      "[NbConvertApp] Converting notebook df_with_column_renamed_alias.ipynb to script\n",
      "[NbConvertApp] Writing 849 bytes to df_with_column_renamed_alias.py\n"
     ]
    }
   ],
   "source": [
    "!jupyter nbconvert --to script df_with_column_renamed_alias.ipynb"
   ]
  }
 ],
 "metadata": {
  "kernelspec": {
   "display_name": "Python 3 (ipykernel)",
   "language": "python",
   "name": "python3"
  },
  "language_info": {
   "codemirror_mode": {
    "name": "ipython",
    "version": 3
   },
   "file_extension": ".py",
   "mimetype": "text/x-python",
   "name": "python",
   "nbconvert_exporter": "python",
   "pygments_lexer": "ipython3",
   "version": "3.9.6"
  }
 },
 "nbformat": 4,
 "nbformat_minor": 5
}
