{
 "cells": [
  {
   "cell_type": "code",
   "execution_count": 1,
   "id": "9745a31f-ac16-4d95-9d74-569cb00b20ba",
   "metadata": {},
   "outputs": [],
   "source": [
    "from pyspark.sql import SparkSession\n",
    "from pyspark.sql.functions import col, lit\n",
    "spark = SparkSession.builder.appName('Spark DF').getOrCreate()\n",
    "spark.conf.set('spark.sql.repl.eagerEval.enabled', True)\n",
    "spark.conf.set('spark.sql.repl.eagerEval.maxNumRows', 10)\n",
    "fp = '../FileStore/tables/StudentData.csv'\n",
    "df = spark.read.options(header=True, inferSchema=True).csv(fp)"
   ]
  },
  {
   "cell_type": "code",
   "execution_count": 5,
   "id": "ca1f3072-5673-4924-a4d8-00fde632baf2",
   "metadata": {},
   "outputs": [
    {
     "data": {
      "text/plain": [
       "1000"
      ]
     },
     "execution_count": 5,
     "metadata": {},
     "output_type": "execute_result"
    }
   ],
   "source": [
    "df.count()"
   ]
  },
  {
   "cell_type": "code",
   "execution_count": 10,
   "id": "9630a61e-6523-4a55-af57-d97046f3be61",
   "metadata": {},
   "outputs": [
    {
     "data": {
      "text/plain": [
       "157"
      ]
     },
     "execution_count": 10,
     "metadata": {},
     "output_type": "execute_result"
    }
   ],
   "source": [
    "df.filter(col('course') == 'DB').count()"
   ]
  },
  {
   "cell_type": "code",
   "execution_count": 11,
   "id": "3b944d59-ed56-4fa8-8cf9-fd4f8ac13b0c",
   "metadata": {},
   "outputs": [
    {
     "data": {
      "text/plain": [
       "1000"
      ]
     },
     "execution_count": 11,
     "metadata": {},
     "output_type": "execute_result"
    }
   ],
   "source": [
    "df.distinct().count()"
   ]
  },
  {
   "cell_type": "code",
   "execution_count": 19,
   "id": "5831fad3-042b-44a3-b023-79969681fbed",
   "metadata": {},
   "outputs": [
    {
     "data": {
      "text/html": [
       "<table border='1'>\n",
       "<tr><th>gender</th><th>age</th></tr>\n",
       "<tr><td>Female</td><td>29</td></tr>\n",
       "<tr><td>Female</td><td>28</td></tr>\n",
       "<tr><td>Male</td><td>28</td></tr>\n",
       "<tr><td>Male</td><td>29</td></tr>\n",
       "</table>\n"
      ],
      "text/plain": [
       "+------+---+\n",
       "|gender|age|\n",
       "+------+---+\n",
       "|Female| 29|\n",
       "|Female| 28|\n",
       "|  Male| 28|\n",
       "|  Male| 29|\n",
       "+------+---+"
      ]
     },
     "execution_count": 19,
     "metadata": {},
     "output_type": "execute_result"
    }
   ],
   "source": [
    "df.select(col('gender'), col('age')).distinct()"
   ]
  },
  {
   "cell_type": "code",
   "execution_count": 32,
   "id": "29bc2106-5535-48c7-99f6-b1f582a3da27",
   "metadata": {},
   "outputs": [
    {
     "data": {
      "text/html": [
       "<table border='1'>\n",
       "<tr><th>age</th><th>gender</th><th>name</th><th>course</th><th>roll</th><th>marks</th><th>email</th></tr>\n",
       "<tr><td>28</td><td>Male</td><td>Celeste Lollis</td><td>PF</td><td>21267</td><td>45</td><td>Jeannetta Golden_...</td></tr>\n",
       "<tr><td>28</td><td>Female</td><td>Hubert Oliveras</td><td>DB</td><td>2984</td><td>59</td><td>Annika Hoffman_Na...</td></tr>\n",
       "<tr><td>28</td><td>Male</td><td>Margene Moores</td><td>MVC</td><td>52771</td><td>32</td><td>Toshiko Hillyard_...</td></tr>\n",
       "<tr><td>28</td><td>Male</td><td>Sheryll Towler</td><td>DSA</td><td>41487</td><td>41</td><td>Claude Panos_Judi...</td></tr>\n",
       "<tr><td>29</td><td>Female</td><td>Toshiko Hillyard</td><td>Cloud</td><td>12899</td><td>62</td><td>Margene Moores_Ma...</td></tr>\n",
       "<tr><td>28</td><td>Male</td><td>Neda Briski</td><td>OOP</td><td>61973</td><td>69</td><td>Alberta Freund_El...</td></tr>\n",
       "</table>\n"
      ],
      "text/plain": [
       "+---+------+----------------+------+-----+-----+--------------------+\n",
       "|age|gender|            name|course| roll|marks|               email|\n",
       "+---+------+----------------+------+-----+-----+--------------------+\n",
       "| 28|  Male|  Celeste Lollis|    PF|21267|   45|Jeannetta Golden_...|\n",
       "| 28|Female| Hubert Oliveras|    DB| 2984|   59|Annika Hoffman_Na...|\n",
       "| 28|  Male|  Margene Moores|   MVC|52771|   32|Toshiko Hillyard_...|\n",
       "| 28|  Male|  Sheryll Towler|   DSA|41487|   41|Claude Panos_Judi...|\n",
       "| 29|Female|Toshiko Hillyard| Cloud|12899|   62|Margene Moores_Ma...|\n",
       "| 28|  Male|     Neda Briski|   OOP|61973|   69|Alberta Freund_El...|\n",
       "+---+------+----------------+------+-----+-----+--------------------+"
      ]
     },
     "execution_count": 32,
     "metadata": {},
     "output_type": "execute_result"
    }
   ],
   "source": [
    "df.dropDuplicates(['course'])"
   ]
  },
  {
   "cell_type": "code",
   "execution_count": 33,
   "id": "977e1aae-7145-42ea-a83c-f4edf8b11cc2",
   "metadata": {},
   "outputs": [
    {
     "name": "stderr",
     "output_type": "stream",
     "text": [
      "[NbConvertApp] Converting notebook df_count_distinct_duplicate.ipynb to script\n",
      "[NbConvertApp] Writing 634 bytes to df_count_distinct_duplicate.py\n"
     ]
    }
   ],
   "source": [
    "!jupyter nbconvert --to script df_count_distinct_duplicate.ipynb"
   ]
  }
 ],
 "metadata": {
  "kernelspec": {
   "display_name": "Python 3 (ipykernel)",
   "language": "python",
   "name": "python3"
  },
  "language_info": {
   "codemirror_mode": {
    "name": "ipython",
    "version": 3
   },
   "file_extension": ".py",
   "mimetype": "text/x-python",
   "name": "python",
   "nbconvert_exporter": "python",
   "pygments_lexer": "ipython3",
   "version": "3.9.6"
  }
 },
 "nbformat": 4,
 "nbformat_minor": 5
}
